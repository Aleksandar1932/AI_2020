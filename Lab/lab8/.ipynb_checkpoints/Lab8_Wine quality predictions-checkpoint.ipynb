{
 "cells": [
  {
   "cell_type": "markdown",
   "metadata": {},
   "source": [
    "# Лаб. вежба 8: Класификација на квалитет на вино"
   ]
  },
  {
   "cell_type": "markdown",
   "metadata": {},
   "source": [
    "### Студент: Александар Ивановски\n",
    "### Индекс: 186063\n",
    "### Група: Компјутерски науки"
   ]
  },
  {
   "cell_type": "markdown",
   "metadata": {},
   "source": [
    "<hr>"
   ]
  },
  {
   "cell_type": "markdown",
   "metadata": {},
   "source": [
    "## 1. Import-и и помошни функции"
   ]
  },
  {
   "cell_type": "markdown",
   "metadata": {},
   "source": [
    "### 1.1. Import-и"
   ]
  },
  {
   "cell_type": "code",
   "execution_count": 157,
   "metadata": {},
   "outputs": [],
   "source": [
    "import pandas as pd\n",
    "import numpy as np\n",
    "import seaborn as sns\n",
    "from matplotlib import pyplot as plt\n",
    "from sklearn.preprocessing import StandardScaler, MinMaxScaler\n",
    "from sklearn.metrics import f1_score, accuracy_score, precision_score, recall_score\n",
    "from tensorflow.keras.models import Model, Sequential\n",
    "from tensorflow.keras.layers import Dense, Dropout, MaxPooling1D, BatchNormalization, Activation\n",
    "from tensorflow.keras.optimizers import Adam\n",
    "from tensorflow.keras.losses import categorical_crossentropy\n",
    "from tensorflow.keras.callbacks import CSVLogger\n",
    "from tensorflow.keras import Input\n",
    "from tensorflow.keras import layers, optimizers, regularizers\n"
   ]
  },
  {
   "cell_type": "markdown",
   "metadata": {},
   "source": [
    "### 1.2. Помошни функции"
   ]
  },
  {
   "cell_type": "code",
   "execution_count": 2,
   "metadata": {},
   "outputs": [],
   "source": [
    "def one_hot_encoder(f):\n",
    "    \"\"\"\n",
    "    Funkcija za one-hot enkodiranje vo tri klasi:\n",
    "        bad: (0-5)\n",
    "        normal: 6\n",
    "        good: (7-10)\n",
    "        \n",
    "    \"\"\"\n",
    "    if f < 6:\n",
    "        return [1,0,0]\n",
    "    if f == 6:\n",
    "        return [0,1,0]\n",
    "    else:\n",
    "        return [0,0,1]"
   ]
  },
  {
   "cell_type": "code",
   "execution_count": 3,
   "metadata": {},
   "outputs": [],
   "source": [
    "def split_subset(subset):\n",
    "    \"\"\"\n",
    "        Funkcija koja prima podmnozestvo od podatoci i vraka dva dataframe-ovi, taka sto edniot e karakteristikite,\n",
    "        a drugiot se klasnite labeli. Analogno so X, Y vo prethodnite vezbi.\n",
    "    \"\"\"\n",
    "    return (subset[subset.columns[0:-1]], subset[subset.columns[-1:]])"
   ]
  },
  {
   "cell_type": "code",
   "execution_count": 4,
   "metadata": {},
   "outputs": [],
   "source": [
    "def convert_to_numpyarr(pandas_df):\n",
    "    \"\"\"\n",
    "        Funkcija koja sto pretvora pandas serija vo numpy array\n",
    "    \"\"\"\n",
    "    return np.array([t[0] for t in pandas_df.values.tolist()])"
   ]
  },
  {
   "cell_type": "code",
   "execution_count": 58,
   "metadata": {},
   "outputs": [],
   "source": [
    "def visualize(hist, metric):\n",
    "    \"\"\"\n",
    "        Funkcija za vizuelizacija na dadena metrika\n",
    "    \"\"\"\n",
    "    plt.rcParams[\"figure.figsize\"] = (30,10)\n",
    "    plt.plot(hist.history[f'{metric}'])\n",
    "    plt.plot(hist.history[f'val_{metric}'])\n",
    "    plt.title(f'Model {metric}')\n",
    "    plt.ylabel(f'{metric}')\n",
    "    plt.xlabel('epoch')\n",
    "    plt.legend(['train', 'val'], loc='upper left')\n",
    "    plt.show()"
   ]
  },
  {
   "cell_type": "code",
   "execution_count": 172,
   "metadata": {},
   "outputs": [],
   "source": [
    "def evaluate_model(model, test_y):\n",
    "    \"\"\"\n",
    "        Funkcija za evaluacija na modelot, odnosno presmetka na:\n",
    "            - accuracy\n",
    "            - precision\n",
    "            - f1 score\n",
    "            - recall\n",
    "    \"\"\"\n",
    "    test_y_classes_pred = model.predict_classes(test_x).tolist()\n",
    "    test_y_classes_actual = [np.argmax(pred) for pred in test_y.tolist()]\n",
    "    accuracy = accuracy_score(test_y_classes_actual, test_y_classes_pred)\n",
    "    precision = precision_score(test_y_classes_actual, test_y_classes_pred,  average='macro',labels=[0,1,2])\n",
    "    f1 = f1_score(test_y_classes_actual, test_y_classes_pred, average='macro',labels=[0,1,2])\n",
    "    recall = recall_score(test_y_classes_actual, test_y_classes_pred, average='macro', labels=[0,1,2])\n",
    "    return (accuracy, precision, f1, recall)"
   ]
  },
  {
   "cell_type": "code",
   "execution_count": 173,
   "metadata": {},
   "outputs": [],
   "source": [
    "def print_evaluation(evaluation):\n",
    "    \"\"\"\n",
    "        Funkcija za pecatenje na evaluiranite metriki od `evaluate_model`\n",
    "    \"\"\"\n",
    "    print(\"Accuracy:{}\".format(evaluation[0]))\n",
    "    print(\"Precision:{}\".format(evaluation[1]))\n",
    "    print(\"F1 score:{}\".format(evaluation[2]))\n",
    "    print(\"Recall:{}\".format(evaluation[3]))"
   ]
  },
  {
   "cell_type": "code",
   "execution_count": 178,
   "metadata": {},
   "outputs": [],
   "source": [
    "def compare_metrics(metrics1, metrics2):\n",
    "    \"\"\"\n",
    "        Funkcija za sporedba na metrikite na dva modeli\n",
    "    \"\"\"\n",
    "    ret_comparation = []\n",
    "    for (m1,m2) in zip(metrics1,metrics2):\n",
    "        ret_comparation.append(m1-m2)\n",
    "\n",
    "    return ret_comparation"
   ]
  },
  {
   "cell_type": "code",
   "execution_count": 189,
   "metadata": {},
   "outputs": [],
   "source": [
    "def print_comparation(comp):\n",
    "    \"\"\"\n",
    "        Funkcija za pecatenje na sporedbata na metrikite na dva modeli\n",
    "    \"\"\"\n",
    "    print(\"Δ Accuracy:{}\".format(comp[0]))\n",
    "    print(\"Δ Precision:{}\".format(comp[1]))\n",
    "    print(\"Δ F1 score:{}\".format(comp[2]))\n",
    "    print(\"Δ Recall:{}\".format(comp[3]))"
   ]
  },
  {
   "cell_type": "markdown",
   "metadata": {},
   "source": [
    "## 2. Вчитување на податоците"
   ]
  },
  {
   "cell_type": "code",
   "execution_count": 5,
   "metadata": {},
   "outputs": [
    {
     "data": {
      "text/html": [
       "<div>\n",
       "<style scoped>\n",
       "    .dataframe tbody tr th:only-of-type {\n",
       "        vertical-align: middle;\n",
       "    }\n",
       "\n",
       "    .dataframe tbody tr th {\n",
       "        vertical-align: top;\n",
       "    }\n",
       "\n",
       "    .dataframe thead th {\n",
       "        text-align: right;\n",
       "    }\n",
       "</style>\n",
       "<table border=\"1\" class=\"dataframe\">\n",
       "  <thead>\n",
       "    <tr style=\"text-align: right;\">\n",
       "      <th></th>\n",
       "      <th>fixed acidity</th>\n",
       "      <th>volatile acidity</th>\n",
       "      <th>citric acid</th>\n",
       "      <th>residual sugar</th>\n",
       "      <th>chlorides</th>\n",
       "      <th>free sulfur dioxide</th>\n",
       "      <th>total sulfur dioxide</th>\n",
       "      <th>density</th>\n",
       "      <th>pH</th>\n",
       "      <th>sulphates</th>\n",
       "      <th>alcohol</th>\n",
       "      <th>quality</th>\n",
       "    </tr>\n",
       "  </thead>\n",
       "  <tbody>\n",
       "    <tr>\n",
       "      <th>0</th>\n",
       "      <td>7.0</td>\n",
       "      <td>0.27</td>\n",
       "      <td>0.36</td>\n",
       "      <td>20.7</td>\n",
       "      <td>0.045</td>\n",
       "      <td>45.0</td>\n",
       "      <td>170.0</td>\n",
       "      <td>1.0010</td>\n",
       "      <td>3.00</td>\n",
       "      <td>0.45</td>\n",
       "      <td>8.8</td>\n",
       "      <td>6</td>\n",
       "    </tr>\n",
       "    <tr>\n",
       "      <th>1</th>\n",
       "      <td>6.3</td>\n",
       "      <td>0.30</td>\n",
       "      <td>0.34</td>\n",
       "      <td>1.6</td>\n",
       "      <td>0.049</td>\n",
       "      <td>14.0</td>\n",
       "      <td>132.0</td>\n",
       "      <td>0.9940</td>\n",
       "      <td>3.30</td>\n",
       "      <td>0.49</td>\n",
       "      <td>9.5</td>\n",
       "      <td>6</td>\n",
       "    </tr>\n",
       "    <tr>\n",
       "      <th>2</th>\n",
       "      <td>8.1</td>\n",
       "      <td>0.28</td>\n",
       "      <td>0.40</td>\n",
       "      <td>6.9</td>\n",
       "      <td>0.050</td>\n",
       "      <td>30.0</td>\n",
       "      <td>97.0</td>\n",
       "      <td>0.9951</td>\n",
       "      <td>3.26</td>\n",
       "      <td>0.44</td>\n",
       "      <td>10.1</td>\n",
       "      <td>6</td>\n",
       "    </tr>\n",
       "    <tr>\n",
       "      <th>3</th>\n",
       "      <td>7.2</td>\n",
       "      <td>0.23</td>\n",
       "      <td>0.32</td>\n",
       "      <td>8.5</td>\n",
       "      <td>0.058</td>\n",
       "      <td>47.0</td>\n",
       "      <td>186.0</td>\n",
       "      <td>0.9956</td>\n",
       "      <td>3.19</td>\n",
       "      <td>0.40</td>\n",
       "      <td>9.9</td>\n",
       "      <td>6</td>\n",
       "    </tr>\n",
       "    <tr>\n",
       "      <th>4</th>\n",
       "      <td>7.2</td>\n",
       "      <td>0.23</td>\n",
       "      <td>0.32</td>\n",
       "      <td>8.5</td>\n",
       "      <td>0.058</td>\n",
       "      <td>47.0</td>\n",
       "      <td>186.0</td>\n",
       "      <td>0.9956</td>\n",
       "      <td>3.19</td>\n",
       "      <td>0.40</td>\n",
       "      <td>9.9</td>\n",
       "      <td>6</td>\n",
       "    </tr>\n",
       "  </tbody>\n",
       "</table>\n",
       "</div>"
      ],
      "text/plain": [
       "   fixed acidity  volatile acidity  citric acid  residual sugar  chlorides  \\\n",
       "0            7.0              0.27         0.36            20.7      0.045   \n",
       "1            6.3              0.30         0.34             1.6      0.049   \n",
       "2            8.1              0.28         0.40             6.9      0.050   \n",
       "3            7.2              0.23         0.32             8.5      0.058   \n",
       "4            7.2              0.23         0.32             8.5      0.058   \n",
       "\n",
       "   free sulfur dioxide  total sulfur dioxide  density    pH  sulphates  \\\n",
       "0                 45.0                 170.0   1.0010  3.00       0.45   \n",
       "1                 14.0                 132.0   0.9940  3.30       0.49   \n",
       "2                 30.0                  97.0   0.9951  3.26       0.44   \n",
       "3                 47.0                 186.0   0.9956  3.19       0.40   \n",
       "4                 47.0                 186.0   0.9956  3.19       0.40   \n",
       "\n",
       "   alcohol  quality  \n",
       "0      8.8        6  \n",
       "1      9.5        6  \n",
       "2     10.1        6  \n",
       "3      9.9        6  \n",
       "4      9.9        6  "
      ]
     },
     "execution_count": 5,
     "metadata": {},
     "output_type": "execute_result"
    }
   ],
   "source": [
    "DATASET_PATH = 'winequality-white.csv'\n",
    "df = pd.read_csv(DATASET_PATH, delimiter = ';')\n",
    "df.head()"
   ]
  },
  {
   "cell_type": "markdown",
   "metadata": {},
   "source": [
    "## 3. Предпроцесирање на податоците"
   ]
  },
  {
   "cell_type": "markdown",
   "metadata": {},
   "source": [
    "### 3.1. One-hot енкодирање"
   ]
  },
  {
   "cell_type": "code",
   "execution_count": 6,
   "metadata": {},
   "outputs": [],
   "source": [
    "df['quality'] = df['quality'].map(lambda x: one_hot_encoder(x))"
   ]
  },
  {
   "cell_type": "code",
   "execution_count": 7,
   "metadata": {},
   "outputs": [
    {
     "data": {
      "text/html": [
       "<div>\n",
       "<style scoped>\n",
       "    .dataframe tbody tr th:only-of-type {\n",
       "        vertical-align: middle;\n",
       "    }\n",
       "\n",
       "    .dataframe tbody tr th {\n",
       "        vertical-align: top;\n",
       "    }\n",
       "\n",
       "    .dataframe thead th {\n",
       "        text-align: right;\n",
       "    }\n",
       "</style>\n",
       "<table border=\"1\" class=\"dataframe\">\n",
       "  <thead>\n",
       "    <tr style=\"text-align: right;\">\n",
       "      <th></th>\n",
       "      <th>fixed acidity</th>\n",
       "      <th>volatile acidity</th>\n",
       "      <th>citric acid</th>\n",
       "      <th>residual sugar</th>\n",
       "      <th>chlorides</th>\n",
       "      <th>free sulfur dioxide</th>\n",
       "      <th>total sulfur dioxide</th>\n",
       "      <th>density</th>\n",
       "      <th>pH</th>\n",
       "      <th>sulphates</th>\n",
       "      <th>alcohol</th>\n",
       "      <th>quality</th>\n",
       "    </tr>\n",
       "  </thead>\n",
       "  <tbody>\n",
       "    <tr>\n",
       "      <th>0</th>\n",
       "      <td>7.0</td>\n",
       "      <td>0.27</td>\n",
       "      <td>0.36</td>\n",
       "      <td>20.7</td>\n",
       "      <td>0.045</td>\n",
       "      <td>45.0</td>\n",
       "      <td>170.0</td>\n",
       "      <td>1.0010</td>\n",
       "      <td>3.00</td>\n",
       "      <td>0.45</td>\n",
       "      <td>8.8</td>\n",
       "      <td>[0, 1, 0]</td>\n",
       "    </tr>\n",
       "    <tr>\n",
       "      <th>1</th>\n",
       "      <td>6.3</td>\n",
       "      <td>0.30</td>\n",
       "      <td>0.34</td>\n",
       "      <td>1.6</td>\n",
       "      <td>0.049</td>\n",
       "      <td>14.0</td>\n",
       "      <td>132.0</td>\n",
       "      <td>0.9940</td>\n",
       "      <td>3.30</td>\n",
       "      <td>0.49</td>\n",
       "      <td>9.5</td>\n",
       "      <td>[0, 1, 0]</td>\n",
       "    </tr>\n",
       "    <tr>\n",
       "      <th>2</th>\n",
       "      <td>8.1</td>\n",
       "      <td>0.28</td>\n",
       "      <td>0.40</td>\n",
       "      <td>6.9</td>\n",
       "      <td>0.050</td>\n",
       "      <td>30.0</td>\n",
       "      <td>97.0</td>\n",
       "      <td>0.9951</td>\n",
       "      <td>3.26</td>\n",
       "      <td>0.44</td>\n",
       "      <td>10.1</td>\n",
       "      <td>[0, 1, 0]</td>\n",
       "    </tr>\n",
       "    <tr>\n",
       "      <th>3</th>\n",
       "      <td>7.2</td>\n",
       "      <td>0.23</td>\n",
       "      <td>0.32</td>\n",
       "      <td>8.5</td>\n",
       "      <td>0.058</td>\n",
       "      <td>47.0</td>\n",
       "      <td>186.0</td>\n",
       "      <td>0.9956</td>\n",
       "      <td>3.19</td>\n",
       "      <td>0.40</td>\n",
       "      <td>9.9</td>\n",
       "      <td>[0, 1, 0]</td>\n",
       "    </tr>\n",
       "    <tr>\n",
       "      <th>4</th>\n",
       "      <td>7.2</td>\n",
       "      <td>0.23</td>\n",
       "      <td>0.32</td>\n",
       "      <td>8.5</td>\n",
       "      <td>0.058</td>\n",
       "      <td>47.0</td>\n",
       "      <td>186.0</td>\n",
       "      <td>0.9956</td>\n",
       "      <td>3.19</td>\n",
       "      <td>0.40</td>\n",
       "      <td>9.9</td>\n",
       "      <td>[0, 1, 0]</td>\n",
       "    </tr>\n",
       "  </tbody>\n",
       "</table>\n",
       "</div>"
      ],
      "text/plain": [
       "   fixed acidity  volatile acidity  citric acid  residual sugar  chlorides  \\\n",
       "0            7.0              0.27         0.36            20.7      0.045   \n",
       "1            6.3              0.30         0.34             1.6      0.049   \n",
       "2            8.1              0.28         0.40             6.9      0.050   \n",
       "3            7.2              0.23         0.32             8.5      0.058   \n",
       "4            7.2              0.23         0.32             8.5      0.058   \n",
       "\n",
       "   free sulfur dioxide  total sulfur dioxide  density    pH  sulphates  \\\n",
       "0                 45.0                 170.0   1.0010  3.00       0.45   \n",
       "1                 14.0                 132.0   0.9940  3.30       0.49   \n",
       "2                 30.0                  97.0   0.9951  3.26       0.44   \n",
       "3                 47.0                 186.0   0.9956  3.19       0.40   \n",
       "4                 47.0                 186.0   0.9956  3.19       0.40   \n",
       "\n",
       "   alcohol    quality  \n",
       "0      8.8  [0, 1, 0]  \n",
       "1      9.5  [0, 1, 0]  \n",
       "2     10.1  [0, 1, 0]  \n",
       "3      9.9  [0, 1, 0]  \n",
       "4      9.9  [0, 1, 0]  "
      ]
     },
     "execution_count": 7,
     "metadata": {},
     "output_type": "execute_result"
    }
   ],
   "source": [
    "df.head()"
   ]
  },
  {
   "cell_type": "markdown",
   "metadata": {},
   "source": [
    "### 3.2. Нормализација на карактеристиките"
   ]
  },
  {
   "cell_type": "markdown",
   "metadata": {},
   "source": [
    "За подобрување на моделот којшто подоцна ќе го изградиме, ги нормализираме карактеристиките, така што сите се во ранг од 0 до 1."
   ]
  },
  {
   "cell_type": "code",
   "execution_count": 8,
   "metadata": {},
   "outputs": [],
   "source": [
    "scaler = MinMaxScaler()\n",
    "df[df.columns[0:-1]] = scaler.fit_transform(df[df.columns[0:-1]].values)"
   ]
  },
  {
   "cell_type": "markdown",
   "metadata": {},
   "source": [
    "За проверка на успешноста на нормализацијата, може да забележеме дека max вредност за секоја карактеристика изнесува 1."
   ]
  },
  {
   "cell_type": "code",
   "execution_count": 9,
   "metadata": {},
   "outputs": [
    {
     "data": {
      "text/html": [
       "<div>\n",
       "<style scoped>\n",
       "    .dataframe tbody tr th:only-of-type {\n",
       "        vertical-align: middle;\n",
       "    }\n",
       "\n",
       "    .dataframe tbody tr th {\n",
       "        vertical-align: top;\n",
       "    }\n",
       "\n",
       "    .dataframe thead th {\n",
       "        text-align: right;\n",
       "    }\n",
       "</style>\n",
       "<table border=\"1\" class=\"dataframe\">\n",
       "  <thead>\n",
       "    <tr style=\"text-align: right;\">\n",
       "      <th></th>\n",
       "      <th>max</th>\n",
       "    </tr>\n",
       "  </thead>\n",
       "  <tbody>\n",
       "    <tr>\n",
       "      <th>fixed acidity</th>\n",
       "      <td>1.0</td>\n",
       "    </tr>\n",
       "    <tr>\n",
       "      <th>volatile acidity</th>\n",
       "      <td>1.0</td>\n",
       "    </tr>\n",
       "    <tr>\n",
       "      <th>citric acid</th>\n",
       "      <td>1.0</td>\n",
       "    </tr>\n",
       "    <tr>\n",
       "      <th>residual sugar</th>\n",
       "      <td>1.0</td>\n",
       "    </tr>\n",
       "    <tr>\n",
       "      <th>chlorides</th>\n",
       "      <td>1.0</td>\n",
       "    </tr>\n",
       "    <tr>\n",
       "      <th>free sulfur dioxide</th>\n",
       "      <td>1.0</td>\n",
       "    </tr>\n",
       "    <tr>\n",
       "      <th>total sulfur dioxide</th>\n",
       "      <td>1.0</td>\n",
       "    </tr>\n",
       "    <tr>\n",
       "      <th>density</th>\n",
       "      <td>1.0</td>\n",
       "    </tr>\n",
       "    <tr>\n",
       "      <th>pH</th>\n",
       "      <td>1.0</td>\n",
       "    </tr>\n",
       "    <tr>\n",
       "      <th>sulphates</th>\n",
       "      <td>1.0</td>\n",
       "    </tr>\n",
       "    <tr>\n",
       "      <th>alcohol</th>\n",
       "      <td>1.0</td>\n",
       "    </tr>\n",
       "  </tbody>\n",
       "</table>\n",
       "</div>"
      ],
      "text/plain": [
       "                      max\n",
       "fixed acidity         1.0\n",
       "volatile acidity      1.0\n",
       "citric acid           1.0\n",
       "residual sugar        1.0\n",
       "chlorides             1.0\n",
       "free sulfur dioxide   1.0\n",
       "total sulfur dioxide  1.0\n",
       "density               1.0\n",
       "pH                    1.0\n",
       "sulphates             1.0\n",
       "alcohol               1.0"
      ]
     },
     "execution_count": 9,
     "metadata": {},
     "output_type": "execute_result"
    }
   ],
   "source": [
    "pd.DataFrame(df.describe().iloc[-1])"
   ]
  },
  {
   "cell_type": "markdown",
   "metadata": {},
   "source": [
    "Ако го прикажеме податочното множество може да забележиме дека истото веќе е изменето."
   ]
  },
  {
   "cell_type": "code",
   "execution_count": 10,
   "metadata": {},
   "outputs": [
    {
     "data": {
      "text/html": [
       "<div>\n",
       "<style scoped>\n",
       "    .dataframe tbody tr th:only-of-type {\n",
       "        vertical-align: middle;\n",
       "    }\n",
       "\n",
       "    .dataframe tbody tr th {\n",
       "        vertical-align: top;\n",
       "    }\n",
       "\n",
       "    .dataframe thead th {\n",
       "        text-align: right;\n",
       "    }\n",
       "</style>\n",
       "<table border=\"1\" class=\"dataframe\">\n",
       "  <thead>\n",
       "    <tr style=\"text-align: right;\">\n",
       "      <th></th>\n",
       "      <th>fixed acidity</th>\n",
       "      <th>volatile acidity</th>\n",
       "      <th>citric acid</th>\n",
       "      <th>residual sugar</th>\n",
       "      <th>chlorides</th>\n",
       "      <th>free sulfur dioxide</th>\n",
       "      <th>total sulfur dioxide</th>\n",
       "      <th>density</th>\n",
       "      <th>pH</th>\n",
       "      <th>sulphates</th>\n",
       "      <th>alcohol</th>\n",
       "      <th>quality</th>\n",
       "    </tr>\n",
       "  </thead>\n",
       "  <tbody>\n",
       "    <tr>\n",
       "      <th>0</th>\n",
       "      <td>0.307692</td>\n",
       "      <td>0.186275</td>\n",
       "      <td>0.216867</td>\n",
       "      <td>0.308282</td>\n",
       "      <td>0.106825</td>\n",
       "      <td>0.149826</td>\n",
       "      <td>0.373550</td>\n",
       "      <td>0.267785</td>\n",
       "      <td>0.254545</td>\n",
       "      <td>0.267442</td>\n",
       "      <td>0.129032</td>\n",
       "      <td>[0, 1, 0]</td>\n",
       "    </tr>\n",
       "    <tr>\n",
       "      <th>1</th>\n",
       "      <td>0.240385</td>\n",
       "      <td>0.215686</td>\n",
       "      <td>0.204819</td>\n",
       "      <td>0.015337</td>\n",
       "      <td>0.118694</td>\n",
       "      <td>0.041812</td>\n",
       "      <td>0.285383</td>\n",
       "      <td>0.132832</td>\n",
       "      <td>0.527273</td>\n",
       "      <td>0.313953</td>\n",
       "      <td>0.241935</td>\n",
       "      <td>[0, 1, 0]</td>\n",
       "    </tr>\n",
       "    <tr>\n",
       "      <th>2</th>\n",
       "      <td>0.413462</td>\n",
       "      <td>0.196078</td>\n",
       "      <td>0.240964</td>\n",
       "      <td>0.096626</td>\n",
       "      <td>0.121662</td>\n",
       "      <td>0.097561</td>\n",
       "      <td>0.204176</td>\n",
       "      <td>0.154039</td>\n",
       "      <td>0.490909</td>\n",
       "      <td>0.255814</td>\n",
       "      <td>0.338710</td>\n",
       "      <td>[0, 1, 0]</td>\n",
       "    </tr>\n",
       "    <tr>\n",
       "      <th>3</th>\n",
       "      <td>0.326923</td>\n",
       "      <td>0.147059</td>\n",
       "      <td>0.192771</td>\n",
       "      <td>0.121166</td>\n",
       "      <td>0.145401</td>\n",
       "      <td>0.156794</td>\n",
       "      <td>0.410673</td>\n",
       "      <td>0.163678</td>\n",
       "      <td>0.427273</td>\n",
       "      <td>0.209302</td>\n",
       "      <td>0.306452</td>\n",
       "      <td>[0, 1, 0]</td>\n",
       "    </tr>\n",
       "    <tr>\n",
       "      <th>4</th>\n",
       "      <td>0.326923</td>\n",
       "      <td>0.147059</td>\n",
       "      <td>0.192771</td>\n",
       "      <td>0.121166</td>\n",
       "      <td>0.145401</td>\n",
       "      <td>0.156794</td>\n",
       "      <td>0.410673</td>\n",
       "      <td>0.163678</td>\n",
       "      <td>0.427273</td>\n",
       "      <td>0.209302</td>\n",
       "      <td>0.306452</td>\n",
       "      <td>[0, 1, 0]</td>\n",
       "    </tr>\n",
       "  </tbody>\n",
       "</table>\n",
       "</div>"
      ],
      "text/plain": [
       "   fixed acidity  volatile acidity  citric acid  residual sugar  chlorides  \\\n",
       "0       0.307692          0.186275     0.216867        0.308282   0.106825   \n",
       "1       0.240385          0.215686     0.204819        0.015337   0.118694   \n",
       "2       0.413462          0.196078     0.240964        0.096626   0.121662   \n",
       "3       0.326923          0.147059     0.192771        0.121166   0.145401   \n",
       "4       0.326923          0.147059     0.192771        0.121166   0.145401   \n",
       "\n",
       "   free sulfur dioxide  total sulfur dioxide   density        pH  sulphates  \\\n",
       "0             0.149826              0.373550  0.267785  0.254545   0.267442   \n",
       "1             0.041812              0.285383  0.132832  0.527273   0.313953   \n",
       "2             0.097561              0.204176  0.154039  0.490909   0.255814   \n",
       "3             0.156794              0.410673  0.163678  0.427273   0.209302   \n",
       "4             0.156794              0.410673  0.163678  0.427273   0.209302   \n",
       "\n",
       "    alcohol    quality  \n",
       "0  0.129032  [0, 1, 0]  \n",
       "1  0.241935  [0, 1, 0]  \n",
       "2  0.338710  [0, 1, 0]  \n",
       "3  0.306452  [0, 1, 0]  \n",
       "4  0.306452  [0, 1, 0]  "
      ]
     },
     "execution_count": 10,
     "metadata": {},
     "output_type": "execute_result"
    }
   ],
   "source": [
    "df.head()"
   ]
  },
  {
   "cell_type": "markdown",
   "metadata": {},
   "source": [
    "## 4. Поделба на подмножества"
   ]
  },
  {
   "cell_type": "markdown",
   "metadata": {},
   "source": [
    "Како што е нагласено во барањата на проблемот, потребно е податочното множество да се подели на тренинг, валидациско и тест подмножество, со следниве удели соодветно 70%, 10%, 20%.\n",
    "\n",
    "Тренинг множеството и валидациското множество заедно заземаат 80%, па првично нема да бидат одделени, но во текот на тренирањето на невронската мрежа ќе користиме k-fold cross validation, така што 10% валидациско подмножество од целото податочно множество, е 12.5% валидациско подмножество од тренирачкото подмножество, кое е 80% од целокупното податочно множество.\n",
    "\n",
    "Од оваа дискусија сумарно, ќе користиме **k-fold со 12.5%**."
   ]
  },
  {
   "cell_type": "code",
   "execution_count": 11,
   "metadata": {},
   "outputs": [],
   "source": [
    "TRAIN_SUBSET_RATIO = 0.8  # 80% od celokunoto\n",
    "\n",
    "train = df[:int(len(df)*TRAIN_SUBSET_RATIO)]\n",
    "test = df[int(len(df)*TRAIN_SUBSET_RATIO):]"
   ]
  },
  {
   "cell_type": "code",
   "execution_count": 12,
   "metadata": {},
   "outputs": [],
   "source": [
    "train_x, train_y = split_subset(train)\n",
    "test_x, test_y = split_subset(test)"
   ]
  },
  {
   "cell_type": "markdown",
   "metadata": {},
   "source": [
    "Поделбата на податочното множество на подмножества, како и секое подмножество на карактеристики и класи е завршена, само преостанува истите да бидат претворени во `numpy array` заради компитабилност со keras."
   ]
  },
  {
   "cell_type": "code",
   "execution_count": 13,
   "metadata": {},
   "outputs": [],
   "source": [
    "train_x = np.array(train_x.values.tolist())\n",
    "train_y = np.array([t[0] for t in train_y.values.tolist()])\n",
    "\n",
    "test_x = np.array(test_x.values.tolist())\n",
    "test_y = np.array([t[0] for t in test_y.values.tolist()])"
   ]
  },
  {
   "cell_type": "markdown",
   "metadata": {},
   "source": [
    "## 5. Модел на невронска мрежа"
   ]
  },
  {
   "cell_type": "markdown",
   "metadata": {},
   "source": [
    "### 5.1. Архитектура на невронска мрежа"
   ]
  },
  {
   "cell_type": "code",
   "execution_count": 46,
   "metadata": {},
   "outputs": [],
   "source": [
    "model = Sequential()\n",
    "model.add(Input(11))\n",
    "\n",
    "model.add(Dense(64, activation='relu', input_shape=(11,)))\n",
    "model.add(Dense(32, activation='relu', input_shape=(11,)))\n",
    "model.add(Dense(16, activation='relu', input_shape=(11,)))\n",
    "model.add(Dense(8, activation='relu', input_shape=(11,)))\n",
    "\n",
    "model.add(Dense(3, activation='softmax', name=\"output_layer\"))"
   ]
  },
  {
   "cell_type": "markdown",
   "metadata": {},
   "source": [
    "### 5.2. Тренирање на невронска мрежа"
   ]
  },
  {
   "cell_type": "code",
   "execution_count": 166,
   "metadata": {
    "scrolled": false
   },
   "outputs": [],
   "source": [
    "BATCH_SIZE=4096\n",
    "EPOCHS=400\n",
    "\n",
    "optimizer = Adam(lr=0.01)\n",
    "model.compile(optimizer=optimizer, loss=categorical_crossentropy, metrics=['accuracy'])\n",
    "history = model.fit(x=train_x, y=train_y, validation_split=0.125, batch_size=BATCH_SIZE, epochs=EPOCHS, verbose=0)"
   ]
  },
  {
   "cell_type": "code",
   "execution_count": 167,
   "metadata": {},
   "outputs": [
    {
     "data": {
      "image/png": "[encoded data removed]",
      "text/plain": [
       "<Figure size 2160x720 with 1 Axes>"
      ]
     },
     "metadata": {
      "needs_background": "light"
     },
     "output_type": "display_data"
    }
   ],
   "source": [
    "visualize(history,\"accuracy\")"
   ]
  },
  {
   "cell_type": "code",
   "execution_count": 168,
   "metadata": {},
   "outputs": [
    {
     "data": {
      "image/png": "[encoded data removed]",
      "text/plain": [
       "<Figure size 2160x720 with 1 Axes>"
      ]
     },
     "metadata": {
      "needs_background": "light"
     },
     "output_type": "display_data"
    }
   ],
   "source": [
    "visualize(history,\"loss\")"
   ]
  },
  {
   "cell_type": "markdown",
   "metadata": {},
   "source": [
    "### 5.3. Евалуација на моделот"
   ]
  },
  {
   "cell_type": "code",
   "execution_count": 175,
   "metadata": {},
   "outputs": [
    {
     "name": "stdout",
     "output_type": "stream",
     "text": [
      "Accuracy:0.5438775510204081\n",
      "Precision:0.5402076953801092\n",
      "F1 score:0.5260866160765049\n",
      "Recall:0.5372617527083771\n"
     ]
    }
   ],
   "source": [
    "evaluation_model = evaluate_model(model,test_y)\n",
    "print_evaluation(evaluation_model)"
   ]
  },
  {
   "cell_type": "markdown",
   "metadata": {},
   "source": [
    "### 5.4. Зачувување на моделот и тежините"
   ]
  },
  {
   "attachments": {},
   "cell_type": "markdown",
   "metadata": {},
   "source": [
    "Да го зачуваме нашиот модел, за потоа истиот да може директно да биде вчитан со помош на `tf.keras.models.load_model(MODELNAME)`\n",
    "\n",
    "Според докментацијата на keras, со `save` се зачувуваат:\n",
    "- the model's configuration (topology)\n",
    "- the model's weights\n",
    "- the model's optimizer's state (if any)\n"
   ]
  },
  {
   "cell_type": "code",
   "execution_count": 147,
   "metadata": {},
   "outputs": [],
   "source": [
    "model.save('model.h5')"
   ]
  },
  {
   "cell_type": "markdown",
   "metadata": {},
   "source": [
    "## 6. Прашања и одговори"
   ]
  },
  {
   "cell_type": "markdown",
   "metadata": {},
   "source": [
    "### 6.1. A. Како се менуваат перформансите на моделот доколку се промени бројот на неврони? "
   ]
  },
  {
   "cell_type": "markdown",
   "metadata": {},
   "source": [
    "Да пробаме во секој слој да го дуплираме бројот на досегашни неврони, па го довиваме следниот модел."
   ]
  },
  {
   "cell_type": "code",
   "execution_count": 162,
   "metadata": {},
   "outputs": [],
   "source": [
    "model_a = Sequential()\n",
    "model_a.add(Input(11))\n",
    "\n",
    "model_a.add(Dense(128, activation='relu', input_shape=(11,)))\n",
    "model_a.add(Dense(64, activation='relu', input_shape=(11,)))\n",
    "model_a.add(Dense(32, activation='relu', input_shape=(11,)))\n",
    "model_a.add(Dense(16, activation='relu', input_shape=(11,)))\n",
    "\n",
    "model_a.add(Dense(3, activation='softmax', name=\"output_layer\"))"
   ]
  },
  {
   "cell_type": "code",
   "execution_count": 186,
   "metadata": {},
   "outputs": [],
   "source": [
    "optimizer = Adam(lr=0.01)\n",
    "model_a.compile(optimizer=optimizer, loss=categorical_crossentropy, metrics=['accuracy'])\n",
    "history = model_a.fit(x=train_x, y=train_y, validation_split=0.125, batch_size=BATCH_SIZE, epochs=EPOCHS, verbose=0)"
   ]
  },
  {
   "cell_type": "markdown",
   "metadata": {},
   "source": [
    "Да ги евалуираме метриките на новодобиениот модел"
   ]
  },
  {
   "cell_type": "code",
   "execution_count": 187,
   "metadata": {},
   "outputs": [
    {
     "name": "stdout",
     "output_type": "stream",
     "text": [
      "Accuracy:0.5755102040816327\n",
      "Precision:0.5462677665671721\n",
      "F1 score:0.5246577290370715\n",
      "Recall:0.5131399851444645\n"
     ]
    }
   ],
   "source": [
    "evaluation_model_a = evaluate_model(model_a,test_y)\n",
    "print_evaluation(evaluation_model_a)"
   ]
  },
  {
   "cell_type": "markdown",
   "metadata": {},
   "source": [
    "Да направиме споредба со иницијалниот модел"
   ]
  },
  {
   "cell_type": "code",
   "execution_count": 190,
   "metadata": {},
   "outputs": [
    {
     "name": "stdout",
     "output_type": "stream",
     "text": [
      "Δ Accuracy:0.031632653061224536\n",
      "Δ Precision:0.006060071187062976\n",
      "Δ F1 score:-0.0014288870394333353\n",
      "Δ Recall:-0.0241217675639126\n"
     ]
    }
   ],
   "source": [
    "comparation_a_model = compare_metrics(evaluation_model_a, evaluation_model)\n",
    "print_comparation(comparation_a_model)"
   ]
  },
  {
   "cell_type": "markdown",
   "metadata": {},
   "source": [
    "Поради позитивниот знак на разликите за accuracy и precision, може да заклучиме дека **новодобиениот модел има подобри accuracy и precision** за разлика од иницијалниот модел, но од негативниот знак кај f1 score и recall може да заклучиме дека **новодобиениот модел има полоши f1 score и recall** за разлика од иницијалниот модел.\n",
    "\n",
    "Односно, зголемувањето на бројот на неврони, т.е. нивно дуплирање допринесе во овој случај подобрување на accuracy и precision, но намалување на f1 score и recall."
   ]
  },
  {
   "cell_type": "markdown",
   "metadata": {},
   "source": [
    "### 6.2. B. Како се менуваат перформансите на моделот доколку се промени бројот на слоеви?"
   ]
  },
  {
   "cell_type": "markdown",
   "metadata": {},
   "source": [
    "Да додадеме нови скриени слоеви на иницијалниот модел."
   ]
  },
  {
   "cell_type": "code",
   "execution_count": 191,
   "metadata": {},
   "outputs": [],
   "source": [
    "model_b = Sequential()\n",
    "model_b.add(Input(11))\n",
    "\n",
    "model_b.add(Dense(16, activation='relu', input_shape=(11,))) # nov sloj\n",
    "model_b.add(Dense(32, activation='relu', input_shape=(11,))) # nov sloj\n",
    "model_b.add(Dense(64, activation='relu', input_shape=(11,))) # nov sloj\n",
    "\n",
    "\n",
    "model_b.add(Dense(64, activation='relu', input_shape=(11,)))\n",
    "model_b.add(Dense(32, activation='relu', input_shape=(11,)))\n",
    "\n",
    "model_b.add(Dense(32, activation='relu', input_shape=(11,))) # nov sloj\n",
    "model_b.add(Dense(16, activation='relu', input_shape=(11,))) # nov sloj\n",
    "\n",
    "\n",
    "model_b.add(Dense(16, activation='relu', input_shape=(11,)))\n",
    "model_b.add(Dense(8, activation='relu', input_shape=(11,)))\n",
    "\n",
    "model_b.add(Dense(3, activation='softmax', name=\"output_layer\"))"
   ]
  },
  {
   "cell_type": "code",
   "execution_count": 192,
   "metadata": {},
   "outputs": [],
   "source": [
    "optimizer = Adam(lr=0.01)\n",
    "model_b.compile(optimizer=optimizer, loss=categorical_crossentropy, metrics=['accuracy'])\n",
    "history = model_b.fit(x=train_x, y=train_y, validation_split=0.125, batch_size=BATCH_SIZE, epochs=EPOCHS, verbose=0)"
   ]
  },
  {
   "cell_type": "markdown",
   "metadata": {},
   "source": [
    "Да ги евалуираме метриките на новодобиениот модел."
   ]
  },
  {
   "cell_type": "code",
   "execution_count": 193,
   "metadata": {},
   "outputs": [
    {
     "name": "stdout",
     "output_type": "stream",
     "text": [
      "Accuracy:0.4642857142857143\n",
      "Precision:0.4840364220513938\n",
      "F1 score:0.4580094174227618\n",
      "Recall:0.48809396898414986\n"
     ]
    }
   ],
   "source": [
    "evaluation_model_b = evaluate_model(model_b,test_y)\n",
    "print_evaluation(evaluation_model_b)"
   ]
  },
  {
   "cell_type": "markdown",
   "metadata": {},
   "source": [
    "Да направиме споредба со иницијалниот модел"
   ]
  },
  {
   "cell_type": "code",
   "execution_count": 194,
   "metadata": {},
   "outputs": [
    {
     "name": "stdout",
     "output_type": "stream",
     "text": [
      "Δ Accuracy:-0.07959183673469383\n",
      "Δ Precision:-0.056171273328715354\n",
      "Δ F1 score:-0.06807719865374307\n",
      "Δ Recall:-0.0491677837242272\n"
     ]
    }
   ],
   "source": [
    "comparation_b_model = compare_metrics(evaluation_model_b, evaluation_model)\n",
    "print_comparation(comparation_b_model)"
   ]
  },
  {
   "cell_type": "markdown",
   "metadata": {},
   "source": [
    "Поради негативниот знак на сите метрики, може да заклучиме дека **новодобиениот модел има послаби перформанси** за разлика од иницијалниот модел.\n",
    "\n",
    "Односно, зголемувањето на бројот на слоеви, на начинот како што истото беше изведено доведе до намалување на сите метрики, а со тоа и целокупниот перформанс на моделот.\n",
    "\n",
    "**Напомена:** Овој заклучок не значи секое зголемување на бројот на скриени слоеви ќе го намали перформансот, туку напротив, со додавање на нови слоеви може драстично да се подобри перформаснот, но во овој случај доделувањето го влоши перформансот на моделот."
   ]
  },
  {
   "cell_type": "markdown",
   "metadata": {},
   "source": [
    "### 6.3. C: Како се менуваат перформансите на моделот доколку се додадат слоеви за регуларизација?"
   ]
  },
  {
   "cell_type": "markdown",
   "metadata": {},
   "source": [
    "На иницијалниот модел ќе му додадеме `Dropout` слој за регуларизација, и тоа на влезниот и на скриените слоеви од невронската мрежа, и ќе го добиеме следниов модел:"
   ]
  },
  {
   "cell_type": "code",
   "execution_count": 211,
   "metadata": {},
   "outputs": [],
   "source": [
    "DROPOUT_RATE = 0.35\n",
    "\n",
    "model_c = Sequential()\n",
    "model_c.add(Input(11))\n",
    "\n",
    "model_c.add(Dropout(DROPOUT_RATE, input_shape=(11,)))  # sloj za regularizacija\n",
    "\n",
    "model_c.add(Dense(64, activation='relu', input_shape=(11,)))\n",
    "model_c.add(Dropout(DROPOUT_RATE, input_shape=(11,)))  # sloj za regularizacija\n",
    "\n",
    "model_c.add(Dense(32, activation='relu', input_shape=(11,)))\n",
    "model_c.add(Dropout(DROPOUT_RATE, input_shape=(11,)))  # sloj za regularizacija\n",
    "\n",
    "model_c.add(Dense(16, activation='relu', input_shape=(11,)))\n",
    "model_c.add(Dropout(DROPOUT_RATE, input_shape=(11,)))  # sloj za regularizacija\n",
    "\n",
    "model_c.add(Dense(8, activation='relu', input_shape=(11,)))\n",
    "model_c.add(Dropout(DROPOUT_RATE, input_shape=(11,)))  # sloj za regularizacija\n",
    "\n",
    "model_c.add(Dense(3, activation='softmax', name=\"output_layer\"))"
   ]
  },
  {
   "cell_type": "markdown",
   "metadata": {},
   "source": [
    "Kaко перпорака од оригиналниот paper за dropout e да се зголеми ратата на учење од 10 до 100 пати, во овој пример истата од 0.01 ќе биде зголемена 10х и новата рата на учење ќе изнесува **0.1**.\n",
    "\n",
    "<a href=\"https://www.cs.toronto.edu/~hinton/absps/JMLRdropout.pdf\">Линк до paper за dropout</a>\n",
    "\n",
    "    стр. 25: A.2 Learning Rate and Momentum - делот каде што се преопрачува зголемување на ратата на учење"
   ]
  },
  {
   "cell_type": "code",
   "execution_count": 212,
   "metadata": {},
   "outputs": [],
   "source": [
    "optimizer = Adam(lr=0.1)\n",
    "model_c.compile(optimizer=optimizer, loss=categorical_crossentropy, metrics=['accuracy'])\n",
    "history = model_c.fit(x=train_x, y=train_y, validation_split=0.125, batch_size=BATCH_SIZE, epochs=EPOCHS, verbose=0)"
   ]
  },
  {
   "cell_type": "markdown",
   "metadata": {},
   "source": [
    "Да ги евалуираме метриките на новодобиениот модел."
   ]
  },
  {
   "cell_type": "code",
   "execution_count": 213,
   "metadata": {},
   "outputs": [
    {
     "name": "stdout",
     "output_type": "stream",
     "text": [
      "Accuracy:0.5275510204081633\n",
      "Precision:0.1758503401360544\n",
      "F1 score:0.23023825428635047\n",
      "Recall:0.3333333333333333\n"
     ]
    }
   ],
   "source": [
    "evaluation_model_c = evaluate_model(model_c,test_y)\n",
    "print_evaluation(evaluation_model_c)"
   ]
  },
  {
   "cell_type": "markdown",
   "metadata": {},
   "source": [
    "Да направиме споредба со иницијалниот модел"
   ]
  },
  {
   "cell_type": "code",
   "execution_count": 214,
   "metadata": {},
   "outputs": [
    {
     "name": "stdout",
     "output_type": "stream",
     "text": [
      "Δ Accuracy:-0.01632653061224487\n",
      "Δ Precision:-0.36435735524405477\n",
      "Δ F1 score:-0.2958483617901544\n",
      "Δ Recall:-0.20392841937504375\n"
     ]
    }
   ],
   "source": [
    "comparation_c_model = compare_metrics(evaluation_model_c, evaluation_model)\n",
    "print_comparation(comparation_c_model)"
   ]
  },
  {
   "cell_type": "markdown",
   "metadata": {},
   "source": [
    "Поради негативниот знак на сите метрики, може да заклучиме дека **новодобиениот модел има послаби перформанси** за разлика од иницијалниот модел.\n",
    "\n",
    "Односно, додавањето на слоеви за регуларизација, на начинот како што истото беше изведено доведе до намалување на сите метрики, а со тоа и целокупниот перформанс на моделот.\n",
    "\n",
    "**Напомена:** Овој заклучок не значи секое додавање на слоеви за регуларизација (поконкретно `Dropout`) ќе го намали перформансот, туку напротив, регуларизирачките слоеви служат за намалување на overfitting-от и подобрување на перформансите, но во овој случај тие го влошуваат перформансот на моделот."
   ]
  },
  {
   "cell_type": "markdown",
   "metadata": {},
   "source": [
    "<hr>\n",
    "Александар Ивановски - Лабораториска вежба 8 по предметот Вештачка интелигенција"
   ]
  }
 ],
 "metadata": {
  "kernelspec": {
   "display_name": "Python 3",
   "language": "python",
   "name": "python3"
  },
  "language_info": {
   "codemirror_mode": {
    "name": "ipython",
    "version": 3
   },
   "file_extension": ".py",
   "mimetype": "text/x-python",
   "name": "python",
   "nbconvert_exporter": "python",
   "pygments_lexer": "ipython3",
   "version": "3.8.2"
  }
 },
 "nbformat": 4,
 "nbformat_minor": 4
}
