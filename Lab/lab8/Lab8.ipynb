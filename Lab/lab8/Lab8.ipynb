{
 "cells": [
  {
   "cell_type": "markdown",
   "metadata": {
    "colab_type": "text",
    "id": "T9Bybz_HNmFk"
   },
   "source": [
    "# Функции и import-и на библиотеки"
   ]
  },
  {
   "cell_type": "code",
   "execution_count": 1,
   "metadata": {
    "colab": {},
    "colab_type": "code",
    "executionInfo": {
     "elapsed": 2453,
     "status": "ok",
     "timestamp": 1593040122497,
     "user": {
      "displayName": "Aleksandar Ivanovski",
      "photoUrl": "https://lh3.googleusercontent.com/a-/AOh14Gg7ux9JHBsU4gyhsUePWAEHf11t6WKjouX0pZalHA=s64",
      "userId": "14221350413211049309"
     },
     "user_tz": -120
    },
    "id": "pMAtT4HKNsyp"
   },
   "outputs": [],
   "source": [
    "import pandas as pd\n",
    "import numpy as np\n",
    "import tensorflow as tf\n",
    "from sklearn.preprocessing import StandardScaler, MinMaxScaler\n",
    "from sklearn.svm import SVC\n",
    "from sklearn.model_selection import KFold\n",
    "from sklearn.model_selection import cross_val_score\n",
    "from tensorflow.keras.models import Model, Sequential\n",
    "from tensorflow.keras.layers import Dense, Dropout, MaxPooling1D, BatchNormalization, Activation\n",
    "from tensorflow.keras.optimizers import Adam\n",
    "from tensorflow.keras.losses import categorical_crossentropy\n",
    "from tensorflow.keras.callbacks import CSVLogger\n",
    "from tensorflow.keras import Input\n",
    "from tensorflow.keras import layers, optimizers, regularizers\n",
    "from matplotlib import pyplot as plt"
   ]
  },
  {
   "cell_type": "code",
   "execution_count": 2,
   "metadata": {},
   "outputs": [
    {
     "name": "stdout",
     "output_type": "stream",
     "text": [
      "Num GPUs Available:  0\n"
     ]
    }
   ],
   "source": [
    "print(\"Num GPUs Available: \", len(tf.config.experimental.list_physical_devices('GPU')))"
   ]
  },
  {
   "cell_type": "code",
   "execution_count": 3,
   "metadata": {
    "colab": {},
    "colab_type": "code",
    "executionInfo": {
     "elapsed": 2426,
     "status": "ok",
     "timestamp": 1593040122502,
     "user": {
      "displayName": "Aleksandar Ivanovski",
      "photoUrl": "https://lh3.googleusercontent.com/a-/AOh14Gg7ux9JHBsU4gyhsUePWAEHf11t6WKjouX0pZalHA=s64",
      "userId": "14221350413211049309"
     },
     "user_tz": -120
    },
    "id": "pLAeLKXBQD5U"
   },
   "outputs": [],
   "source": [
    "def one_hot_encoder(f):\n",
    "    if f < 6:\n",
    "        return [1,0,0]\n",
    "    if f == 6:\n",
    "        return [0,1,0]\n",
    "    else:\n",
    "        return [0,0,1]"
   ]
  },
  {
   "cell_type": "code",
   "execution_count": 4,
   "metadata": {
    "colab": {},
    "colab_type": "code",
    "executionInfo": {
     "elapsed": 2413,
     "status": "ok",
     "timestamp": 1593040122506,
     "user": {
      "displayName": "Aleksandar Ivanovski",
      "photoUrl": "https://lh3.googleusercontent.com/a-/AOh14Gg7ux9JHBsU4gyhsUePWAEHf11t6WKjouX0pZalHA=s64",
      "userId": "14221350413211049309"
     },
     "user_tz": -120
    },
    "id": "sxW6OBQ5WpH9",
    "pycharm": {
     "name": "#%%\n"
    }
   },
   "outputs": [],
   "source": [
    "def bin_and_replace(feature_name, num_bins):\n",
    "  dataset[feature_name]=pd.qcut(dataset[feature_name], q=num_bins)\n",
    "  dataset[feature_name] = dataset[feature_name].map(lambda x: float(x.mid))"
   ]
  },
  {
   "cell_type": "markdown",
   "metadata": {
    "colab_type": "text",
    "id": "ZnmUqxqhNcUJ",
    "pycharm": {
     "name": "#%% md\n"
    }
   },
   "source": [
    "# Вчитување на податоците"
   ]
  },
  {
   "cell_type": "code",
   "execution_count": 5,
   "metadata": {
    "colab": {},
    "colab_type": "code",
    "executionInfo": {
     "elapsed": 2395,
     "status": "ok",
     "timestamp": 1593040122509,
     "user": {
      "displayName": "Aleksandar Ivanovski",
      "photoUrl": "https://lh3.googleusercontent.com/a-/AOh14Gg7ux9JHBsU4gyhsUePWAEHf11t6WKjouX0pZalHA=s64",
      "userId": "14221350413211049309"
     },
     "user_tz": -120
    },
    "id": "a7I1-8TxNa54"
   },
   "outputs": [],
   "source": [
    "dataset = pd.read_csv('winequality-white.csv', delimiter=';')"
   ]
  },
  {
   "cell_type": "code",
   "execution_count": 6,
   "metadata": {
    "colab": {
     "base_uri": "https://localhost:8080/",
     "height": 238
    },
    "colab_type": "code",
    "executionInfo": {
     "elapsed": 2100,
     "status": "ok",
     "timestamp": 1593040122512,
     "user": {
      "displayName": "Aleksandar Ivanovski",
      "photoUrl": "https://lh3.googleusercontent.com/a-/AOh14Gg7ux9JHBsU4gyhsUePWAEHf11t6WKjouX0pZalHA=s64",
      "userId": "14221350413211049309"
     },
     "user_tz": -120
    },
    "id": "iDz67R_HO6nD",
    "outputId": "ace83be1-c0a3-40d1-c0ce-9b87da364cdf",
    "pycharm": {
     "name": "#%%\n"
    }
   },
   "outputs": [
    {
     "data": {
      "text/html": [
       "<div>\n",
       "<style scoped>\n",
       "    .dataframe tbody tr th:only-of-type {\n",
       "        vertical-align: middle;\n",
       "    }\n",
       "\n",
       "    .dataframe tbody tr th {\n",
       "        vertical-align: top;\n",
       "    }\n",
       "\n",
       "    .dataframe thead th {\n",
       "        text-align: right;\n",
       "    }\n",
       "</style>\n",
       "<table border=\"1\" class=\"dataframe\">\n",
       "  <thead>\n",
       "    <tr style=\"text-align: right;\">\n",
       "      <th></th>\n",
       "      <th>fixed acidity</th>\n",
       "      <th>volatile acidity</th>\n",
       "      <th>citric acid</th>\n",
       "      <th>residual sugar</th>\n",
       "      <th>chlorides</th>\n",
       "      <th>free sulfur dioxide</th>\n",
       "      <th>total sulfur dioxide</th>\n",
       "      <th>density</th>\n",
       "      <th>pH</th>\n",
       "      <th>sulphates</th>\n",
       "      <th>alcohol</th>\n",
       "      <th>quality</th>\n",
       "    </tr>\n",
       "  </thead>\n",
       "  <tbody>\n",
       "    <tr>\n",
       "      <th>0</th>\n",
       "      <td>7.0</td>\n",
       "      <td>0.27</td>\n",
       "      <td>0.36</td>\n",
       "      <td>20.7</td>\n",
       "      <td>0.045</td>\n",
       "      <td>45.0</td>\n",
       "      <td>170.0</td>\n",
       "      <td>1.0010</td>\n",
       "      <td>3.00</td>\n",
       "      <td>0.45</td>\n",
       "      <td>8.8</td>\n",
       "      <td>6</td>\n",
       "    </tr>\n",
       "    <tr>\n",
       "      <th>1</th>\n",
       "      <td>6.3</td>\n",
       "      <td>0.30</td>\n",
       "      <td>0.34</td>\n",
       "      <td>1.6</td>\n",
       "      <td>0.049</td>\n",
       "      <td>14.0</td>\n",
       "      <td>132.0</td>\n",
       "      <td>0.9940</td>\n",
       "      <td>3.30</td>\n",
       "      <td>0.49</td>\n",
       "      <td>9.5</td>\n",
       "      <td>6</td>\n",
       "    </tr>\n",
       "    <tr>\n",
       "      <th>2</th>\n",
       "      <td>8.1</td>\n",
       "      <td>0.28</td>\n",
       "      <td>0.40</td>\n",
       "      <td>6.9</td>\n",
       "      <td>0.050</td>\n",
       "      <td>30.0</td>\n",
       "      <td>97.0</td>\n",
       "      <td>0.9951</td>\n",
       "      <td>3.26</td>\n",
       "      <td>0.44</td>\n",
       "      <td>10.1</td>\n",
       "      <td>6</td>\n",
       "    </tr>\n",
       "    <tr>\n",
       "      <th>3</th>\n",
       "      <td>7.2</td>\n",
       "      <td>0.23</td>\n",
       "      <td>0.32</td>\n",
       "      <td>8.5</td>\n",
       "      <td>0.058</td>\n",
       "      <td>47.0</td>\n",
       "      <td>186.0</td>\n",
       "      <td>0.9956</td>\n",
       "      <td>3.19</td>\n",
       "      <td>0.40</td>\n",
       "      <td>9.9</td>\n",
       "      <td>6</td>\n",
       "    </tr>\n",
       "    <tr>\n",
       "      <th>4</th>\n",
       "      <td>7.2</td>\n",
       "      <td>0.23</td>\n",
       "      <td>0.32</td>\n",
       "      <td>8.5</td>\n",
       "      <td>0.058</td>\n",
       "      <td>47.0</td>\n",
       "      <td>186.0</td>\n",
       "      <td>0.9956</td>\n",
       "      <td>3.19</td>\n",
       "      <td>0.40</td>\n",
       "      <td>9.9</td>\n",
       "      <td>6</td>\n",
       "    </tr>\n",
       "  </tbody>\n",
       "</table>\n",
       "</div>"
      ],
      "text/plain": [
       "   fixed acidity  volatile acidity  citric acid  residual sugar  chlorides  \\\n",
       "0            7.0              0.27         0.36            20.7      0.045   \n",
       "1            6.3              0.30         0.34             1.6      0.049   \n",
       "2            8.1              0.28         0.40             6.9      0.050   \n",
       "3            7.2              0.23         0.32             8.5      0.058   \n",
       "4            7.2              0.23         0.32             8.5      0.058   \n",
       "\n",
       "   free sulfur dioxide  total sulfur dioxide  density    pH  sulphates  \\\n",
       "0                 45.0                 170.0   1.0010  3.00       0.45   \n",
       "1                 14.0                 132.0   0.9940  3.30       0.49   \n",
       "2                 30.0                  97.0   0.9951  3.26       0.44   \n",
       "3                 47.0                 186.0   0.9956  3.19       0.40   \n",
       "4                 47.0                 186.0   0.9956  3.19       0.40   \n",
       "\n",
       "   alcohol  quality  \n",
       "0      8.8        6  \n",
       "1      9.5        6  \n",
       "2     10.1        6  \n",
       "3      9.9        6  \n",
       "4      9.9        6  "
      ]
     },
     "execution_count": 6,
     "metadata": {},
     "output_type": "execute_result"
    }
   ],
   "source": [
    "dataset.head()"
   ]
  },
  {
   "cell_type": "markdown",
   "metadata": {
    "colab_type": "text",
    "id": "dCbsR5yOPM7A"
   },
   "source": [
    "# Предпроцесирање на податоците"
   ]
  },
  {
   "cell_type": "markdown",
   "metadata": {
    "colab_type": "text",
    "id": "V_cB-50HPs05",
    "pycharm": {
     "name": "#%% md\n"
    }
   },
   "source": [
    "## One-hot енкодирање \n"
   ]
  },
  {
   "cell_type": "code",
   "execution_count": 7,
   "metadata": {
    "colab": {},
    "colab_type": "code",
    "executionInfo": {
     "elapsed": 2082,
     "status": "ok",
     "timestamp": 1593040122514,
     "user": {
      "displayName": "Aleksandar Ivanovski",
      "photoUrl": "https://lh3.googleusercontent.com/a-/AOh14Gg7ux9JHBsU4gyhsUePWAEHf11t6WKjouX0pZalHA=s64",
      "userId": "14221350413211049309"
     },
     "user_tz": -120
    },
    "id": "85cSR_wAQArw",
    "pycharm": {
     "name": "#%%\n"
    }
   },
   "outputs": [],
   "source": [
    "dataset['quality'] = dataset['quality'].map(lambda x: one_hot_encoder(x))"
   ]
  },
  {
   "cell_type": "markdown",
   "metadata": {
    "colab_type": "text",
    "id": "Tg2YtPYyQLGB",
    "pycharm": {
     "name": "#%% md\n"
    }
   },
   "source": [
    "После овој чекор, класната лабела нема да биде цел број, туку ќе биде вектор добиен со помош на one-hot енкодирањето."
   ]
  },
  {
   "cell_type": "code",
   "execution_count": 8,
   "metadata": {
    "colab": {
     "base_uri": "https://localhost:8080/",
     "height": 238
    },
    "colab_type": "code",
    "executionInfo": {
     "elapsed": 2010,
     "status": "ok",
     "timestamp": 1593040122516,
     "user": {
      "displayName": "Aleksandar Ivanovski",
      "photoUrl": "https://lh3.googleusercontent.com/a-/AOh14Gg7ux9JHBsU4gyhsUePWAEHf11t6WKjouX0pZalHA=s64",
      "userId": "14221350413211049309"
     },
     "user_tz": -120
    },
    "id": "3s2sdE1_Qbfj",
    "outputId": "fa3b89df-c021-40d7-a0f5-5ee0bec8a3b4",
    "pycharm": {
     "name": "#%%\n"
    }
   },
   "outputs": [
    {
     "data": {
      "text/html": [
       "<div>\n",
       "<style scoped>\n",
       "    .dataframe tbody tr th:only-of-type {\n",
       "        vertical-align: middle;\n",
       "    }\n",
       "\n",
       "    .dataframe tbody tr th {\n",
       "        vertical-align: top;\n",
       "    }\n",
       "\n",
       "    .dataframe thead th {\n",
       "        text-align: right;\n",
       "    }\n",
       "</style>\n",
       "<table border=\"1\" class=\"dataframe\">\n",
       "  <thead>\n",
       "    <tr style=\"text-align: right;\">\n",
       "      <th></th>\n",
       "      <th>fixed acidity</th>\n",
       "      <th>volatile acidity</th>\n",
       "      <th>citric acid</th>\n",
       "      <th>residual sugar</th>\n",
       "      <th>chlorides</th>\n",
       "      <th>free sulfur dioxide</th>\n",
       "      <th>total sulfur dioxide</th>\n",
       "      <th>density</th>\n",
       "      <th>pH</th>\n",
       "      <th>sulphates</th>\n",
       "      <th>alcohol</th>\n",
       "      <th>quality</th>\n",
       "    </tr>\n",
       "  </thead>\n",
       "  <tbody>\n",
       "    <tr>\n",
       "      <th>0</th>\n",
       "      <td>7.0</td>\n",
       "      <td>0.27</td>\n",
       "      <td>0.36</td>\n",
       "      <td>20.7</td>\n",
       "      <td>0.045</td>\n",
       "      <td>45.0</td>\n",
       "      <td>170.0</td>\n",
       "      <td>1.0010</td>\n",
       "      <td>3.00</td>\n",
       "      <td>0.45</td>\n",
       "      <td>8.8</td>\n",
       "      <td>[0, 1, 0]</td>\n",
       "    </tr>\n",
       "    <tr>\n",
       "      <th>1</th>\n",
       "      <td>6.3</td>\n",
       "      <td>0.30</td>\n",
       "      <td>0.34</td>\n",
       "      <td>1.6</td>\n",
       "      <td>0.049</td>\n",
       "      <td>14.0</td>\n",
       "      <td>132.0</td>\n",
       "      <td>0.9940</td>\n",
       "      <td>3.30</td>\n",
       "      <td>0.49</td>\n",
       "      <td>9.5</td>\n",
       "      <td>[0, 1, 0]</td>\n",
       "    </tr>\n",
       "    <tr>\n",
       "      <th>2</th>\n",
       "      <td>8.1</td>\n",
       "      <td>0.28</td>\n",
       "      <td>0.40</td>\n",
       "      <td>6.9</td>\n",
       "      <td>0.050</td>\n",
       "      <td>30.0</td>\n",
       "      <td>97.0</td>\n",
       "      <td>0.9951</td>\n",
       "      <td>3.26</td>\n",
       "      <td>0.44</td>\n",
       "      <td>10.1</td>\n",
       "      <td>[0, 1, 0]</td>\n",
       "    </tr>\n",
       "    <tr>\n",
       "      <th>3</th>\n",
       "      <td>7.2</td>\n",
       "      <td>0.23</td>\n",
       "      <td>0.32</td>\n",
       "      <td>8.5</td>\n",
       "      <td>0.058</td>\n",
       "      <td>47.0</td>\n",
       "      <td>186.0</td>\n",
       "      <td>0.9956</td>\n",
       "      <td>3.19</td>\n",
       "      <td>0.40</td>\n",
       "      <td>9.9</td>\n",
       "      <td>[0, 1, 0]</td>\n",
       "    </tr>\n",
       "    <tr>\n",
       "      <th>4</th>\n",
       "      <td>7.2</td>\n",
       "      <td>0.23</td>\n",
       "      <td>0.32</td>\n",
       "      <td>8.5</td>\n",
       "      <td>0.058</td>\n",
       "      <td>47.0</td>\n",
       "      <td>186.0</td>\n",
       "      <td>0.9956</td>\n",
       "      <td>3.19</td>\n",
       "      <td>0.40</td>\n",
       "      <td>9.9</td>\n",
       "      <td>[0, 1, 0]</td>\n",
       "    </tr>\n",
       "  </tbody>\n",
       "</table>\n",
       "</div>"
      ],
      "text/plain": [
       "   fixed acidity  volatile acidity  citric acid  residual sugar  chlorides  \\\n",
       "0            7.0              0.27         0.36            20.7      0.045   \n",
       "1            6.3              0.30         0.34             1.6      0.049   \n",
       "2            8.1              0.28         0.40             6.9      0.050   \n",
       "3            7.2              0.23         0.32             8.5      0.058   \n",
       "4            7.2              0.23         0.32             8.5      0.058   \n",
       "\n",
       "   free sulfur dioxide  total sulfur dioxide  density    pH  sulphates  \\\n",
       "0                 45.0                 170.0   1.0010  3.00       0.45   \n",
       "1                 14.0                 132.0   0.9940  3.30       0.49   \n",
       "2                 30.0                  97.0   0.9951  3.26       0.44   \n",
       "3                 47.0                 186.0   0.9956  3.19       0.40   \n",
       "4                 47.0                 186.0   0.9956  3.19       0.40   \n",
       "\n",
       "   alcohol    quality  \n",
       "0      8.8  [0, 1, 0]  \n",
       "1      9.5  [0, 1, 0]  \n",
       "2     10.1  [0, 1, 0]  \n",
       "3      9.9  [0, 1, 0]  \n",
       "4      9.9  [0, 1, 0]  "
      ]
     },
     "execution_count": 8,
     "metadata": {},
     "output_type": "execute_result"
    }
   ],
   "source": [
    "dataset.head()"
   ]
  },
  {
   "cell_type": "markdown",
   "metadata": {
    "colab_type": "text",
    "id": "gH3uZ71GPzYG"
   },
   "source": [
    "## Нормализација на карактеристиките"
   ]
  },
  {
   "cell_type": "markdown",
   "metadata": {
    "colab_type": "text",
    "id": "bMD70uArSxHX",
    "pycharm": {
     "name": "#%% md\n"
    }
   },
   "source": [
    "Правиме нормализација на карактеристиките, така што сите ќе имаат вредности од 0 до 1."
   ]
  },
  {
   "cell_type": "code",
   "execution_count": 9,
   "metadata": {
    "colab": {},
    "colab_type": "code",
    "executionInfo": {
     "elapsed": 1993,
     "status": "ok",
     "timestamp": 1593040122519,
     "user": {
      "displayName": "Aleksandar Ivanovski",
      "photoUrl": "https://lh3.googleusercontent.com/a-/AOh14Gg7ux9JHBsU4gyhsUePWAEHf11t6WKjouX0pZalHA=s64",
      "userId": "14221350413211049309"
     },
     "user_tz": -120
    },
    "id": "QjuuRP89RMHT",
    "pycharm": {
     "name": "#%%\n"
    }
   },
   "outputs": [],
   "source": [
    "scaler = MinMaxScaler()\n",
    "dataset[dataset.columns[0:-1]] = scaler.fit_transform(dataset[dataset.columns[0:-1]].values)"
   ]
  },
  {
   "cell_type": "markdown",
   "metadata": {
    "colab_type": "text",
    "id": "ZbkjUsN5S2d9",
    "pycharm": {
     "name": "#%% md\n"
    }
   },
   "source": [
    "За проверка на успешноста на нормализацијата, може да забележеме дека max вредност за секоја карактеристика изнесува 1."
   ]
  },
  {
   "cell_type": "code",
   "execution_count": 10,
   "metadata": {
    "colab": {
     "base_uri": "https://localhost:8080/",
     "height": 390
    },
    "colab_type": "code",
    "executionInfo": {
     "elapsed": 2573,
     "status": "ok",
     "timestamp": 1593040123141,
     "user": {
      "displayName": "Aleksandar Ivanovski",
      "photoUrl": "https://lh3.googleusercontent.com/a-/AOh14Gg7ux9JHBsU4gyhsUePWAEHf11t6WKjouX0pZalHA=s64",
      "userId": "14221350413211049309"
     },
     "user_tz": -120
    },
    "id": "LVIamHJHR5Jy",
    "outputId": "76e631fa-2909-4994-a238-0c7ebcfd17c4",
    "pycharm": {
     "name": "#%%\n"
    }
   },
   "outputs": [
    {
     "data": {
      "text/html": [
       "<div>\n",
       "<style scoped>\n",
       "    .dataframe tbody tr th:only-of-type {\n",
       "        vertical-align: middle;\n",
       "    }\n",
       "\n",
       "    .dataframe tbody tr th {\n",
       "        vertical-align: top;\n",
       "    }\n",
       "\n",
       "    .dataframe thead th {\n",
       "        text-align: right;\n",
       "    }\n",
       "</style>\n",
       "<table border=\"1\" class=\"dataframe\">\n",
       "  <thead>\n",
       "    <tr style=\"text-align: right;\">\n",
       "      <th></th>\n",
       "      <th>max</th>\n",
       "    </tr>\n",
       "  </thead>\n",
       "  <tbody>\n",
       "    <tr>\n",
       "      <th>fixed acidity</th>\n",
       "      <td>1.0</td>\n",
       "    </tr>\n",
       "    <tr>\n",
       "      <th>volatile acidity</th>\n",
       "      <td>1.0</td>\n",
       "    </tr>\n",
       "    <tr>\n",
       "      <th>citric acid</th>\n",
       "      <td>1.0</td>\n",
       "    </tr>\n",
       "    <tr>\n",
       "      <th>residual sugar</th>\n",
       "      <td>1.0</td>\n",
       "    </tr>\n",
       "    <tr>\n",
       "      <th>chlorides</th>\n",
       "      <td>1.0</td>\n",
       "    </tr>\n",
       "    <tr>\n",
       "      <th>free sulfur dioxide</th>\n",
       "      <td>1.0</td>\n",
       "    </tr>\n",
       "    <tr>\n",
       "      <th>total sulfur dioxide</th>\n",
       "      <td>1.0</td>\n",
       "    </tr>\n",
       "    <tr>\n",
       "      <th>density</th>\n",
       "      <td>1.0</td>\n",
       "    </tr>\n",
       "    <tr>\n",
       "      <th>pH</th>\n",
       "      <td>1.0</td>\n",
       "    </tr>\n",
       "    <tr>\n",
       "      <th>sulphates</th>\n",
       "      <td>1.0</td>\n",
       "    </tr>\n",
       "    <tr>\n",
       "      <th>alcohol</th>\n",
       "      <td>1.0</td>\n",
       "    </tr>\n",
       "  </tbody>\n",
       "</table>\n",
       "</div>"
      ],
      "text/plain": [
       "                      max\n",
       "fixed acidity         1.0\n",
       "volatile acidity      1.0\n",
       "citric acid           1.0\n",
       "residual sugar        1.0\n",
       "chlorides             1.0\n",
       "free sulfur dioxide   1.0\n",
       "total sulfur dioxide  1.0\n",
       "density               1.0\n",
       "pH                    1.0\n",
       "sulphates             1.0\n",
       "alcohol               1.0"
      ]
     },
     "execution_count": 10,
     "metadata": {},
     "output_type": "execute_result"
    }
   ],
   "source": [
    "pd.DataFrame(dataset.describe().iloc[-1])"
   ]
  },
  {
   "cell_type": "markdown",
   "metadata": {
    "colab_type": "text",
    "id": "fS8NuHJqTd9E",
    "pycharm": {
     "name": "#%% md\n"
    }
   },
   "source": [
    "Ако го прикажеме податочното множество може да забележиме дека истото веќе е изменето."
   ]
  },
  {
   "cell_type": "code",
   "execution_count": 11,
   "metadata": {
    "colab": {
     "base_uri": "https://localhost:8080/",
     "height": 238
    },
    "colab_type": "code",
    "executionInfo": {
     "elapsed": 2528,
     "status": "ok",
     "timestamp": 1593040123145,
     "user": {
      "displayName": "Aleksandar Ivanovski",
      "photoUrl": "https://lh3.googleusercontent.com/a-/AOh14Gg7ux9JHBsU4gyhsUePWAEHf11t6WKjouX0pZalHA=s64",
      "userId": "14221350413211049309"
     },
     "user_tz": -120
    },
    "id": "jzf0zqW6TpiG",
    "outputId": "37e8fb69-dd0b-443c-d7a5-38ddadf7d335",
    "pycharm": {
     "name": "#%%\n"
    }
   },
   "outputs": [
    {
     "data": {
      "text/html": [
       "<div>\n",
       "<style scoped>\n",
       "    .dataframe tbody tr th:only-of-type {\n",
       "        vertical-align: middle;\n",
       "    }\n",
       "\n",
       "    .dataframe tbody tr th {\n",
       "        vertical-align: top;\n",
       "    }\n",
       "\n",
       "    .dataframe thead th {\n",
       "        text-align: right;\n",
       "    }\n",
       "</style>\n",
       "<table border=\"1\" class=\"dataframe\">\n",
       "  <thead>\n",
       "    <tr style=\"text-align: right;\">\n",
       "      <th></th>\n",
       "      <th>fixed acidity</th>\n",
       "      <th>volatile acidity</th>\n",
       "      <th>citric acid</th>\n",
       "      <th>residual sugar</th>\n",
       "      <th>chlorides</th>\n",
       "      <th>free sulfur dioxide</th>\n",
       "      <th>total sulfur dioxide</th>\n",
       "      <th>density</th>\n",
       "      <th>pH</th>\n",
       "      <th>sulphates</th>\n",
       "      <th>alcohol</th>\n",
       "      <th>quality</th>\n",
       "    </tr>\n",
       "  </thead>\n",
       "  <tbody>\n",
       "    <tr>\n",
       "      <th>0</th>\n",
       "      <td>0.307692</td>\n",
       "      <td>0.186275</td>\n",
       "      <td>0.216867</td>\n",
       "      <td>0.308282</td>\n",
       "      <td>0.106825</td>\n",
       "      <td>0.149826</td>\n",
       "      <td>0.373550</td>\n",
       "      <td>0.267785</td>\n",
       "      <td>0.254545</td>\n",
       "      <td>0.267442</td>\n",
       "      <td>0.129032</td>\n",
       "      <td>[0, 1, 0]</td>\n",
       "    </tr>\n",
       "    <tr>\n",
       "      <th>1</th>\n",
       "      <td>0.240385</td>\n",
       "      <td>0.215686</td>\n",
       "      <td>0.204819</td>\n",
       "      <td>0.015337</td>\n",
       "      <td>0.118694</td>\n",
       "      <td>0.041812</td>\n",
       "      <td>0.285383</td>\n",
       "      <td>0.132832</td>\n",
       "      <td>0.527273</td>\n",
       "      <td>0.313953</td>\n",
       "      <td>0.241935</td>\n",
       "      <td>[0, 1, 0]</td>\n",
       "    </tr>\n",
       "    <tr>\n",
       "      <th>2</th>\n",
       "      <td>0.413462</td>\n",
       "      <td>0.196078</td>\n",
       "      <td>0.240964</td>\n",
       "      <td>0.096626</td>\n",
       "      <td>0.121662</td>\n",
       "      <td>0.097561</td>\n",
       "      <td>0.204176</td>\n",
       "      <td>0.154039</td>\n",
       "      <td>0.490909</td>\n",
       "      <td>0.255814</td>\n",
       "      <td>0.338710</td>\n",
       "      <td>[0, 1, 0]</td>\n",
       "    </tr>\n",
       "    <tr>\n",
       "      <th>3</th>\n",
       "      <td>0.326923</td>\n",
       "      <td>0.147059</td>\n",
       "      <td>0.192771</td>\n",
       "      <td>0.121166</td>\n",
       "      <td>0.145401</td>\n",
       "      <td>0.156794</td>\n",
       "      <td>0.410673</td>\n",
       "      <td>0.163678</td>\n",
       "      <td>0.427273</td>\n",
       "      <td>0.209302</td>\n",
       "      <td>0.306452</td>\n",
       "      <td>[0, 1, 0]</td>\n",
       "    </tr>\n",
       "    <tr>\n",
       "      <th>4</th>\n",
       "      <td>0.326923</td>\n",
       "      <td>0.147059</td>\n",
       "      <td>0.192771</td>\n",
       "      <td>0.121166</td>\n",
       "      <td>0.145401</td>\n",
       "      <td>0.156794</td>\n",
       "      <td>0.410673</td>\n",
       "      <td>0.163678</td>\n",
       "      <td>0.427273</td>\n",
       "      <td>0.209302</td>\n",
       "      <td>0.306452</td>\n",
       "      <td>[0, 1, 0]</td>\n",
       "    </tr>\n",
       "  </tbody>\n",
       "</table>\n",
       "</div>"
      ],
      "text/plain": [
       "   fixed acidity  volatile acidity  citric acid  residual sugar  chlorides  \\\n",
       "0       0.307692          0.186275     0.216867        0.308282   0.106825   \n",
       "1       0.240385          0.215686     0.204819        0.015337   0.118694   \n",
       "2       0.413462          0.196078     0.240964        0.096626   0.121662   \n",
       "3       0.326923          0.147059     0.192771        0.121166   0.145401   \n",
       "4       0.326923          0.147059     0.192771        0.121166   0.145401   \n",
       "\n",
       "   free sulfur dioxide  total sulfur dioxide   density        pH  sulphates  \\\n",
       "0             0.149826              0.373550  0.267785  0.254545   0.267442   \n",
       "1             0.041812              0.285383  0.132832  0.527273   0.313953   \n",
       "2             0.097561              0.204176  0.154039  0.490909   0.255814   \n",
       "3             0.156794              0.410673  0.163678  0.427273   0.209302   \n",
       "4             0.156794              0.410673  0.163678  0.427273   0.209302   \n",
       "\n",
       "    alcohol    quality  \n",
       "0  0.129032  [0, 1, 0]  \n",
       "1  0.241935  [0, 1, 0]  \n",
       "2  0.338710  [0, 1, 0]  \n",
       "3  0.306452  [0, 1, 0]  \n",
       "4  0.306452  [0, 1, 0]  "
      ]
     },
     "execution_count": 11,
     "metadata": {},
     "output_type": "execute_result"
    }
   ],
   "source": [
    "dataset.head()"
   ]
  },
  {
   "cell_type": "markdown",
   "metadata": {
    "colab_type": "text",
    "id": "cET4_vA_P28t"
   },
   "source": [
    "## Binning"
   ]
  },
  {
   "cell_type": "markdown",
   "metadata": {
    "colab_type": "text",
    "id": "4NKYlJnZTxVL",
    "pycharm": {
     "name": "#%% md\n"
    }
   },
   "source": [
    "Следно, за секоја карактеристика пооделно да го увидиме нејзиниот домен, поточно неговата кардиналност."
   ]
  },
  {
   "cell_type": "code",
   "execution_count": 12,
   "metadata": {
    "colab": {},
    "colab_type": "code",
    "executionInfo": {
     "elapsed": 2506,
     "status": "ok",
     "timestamp": 1593040123148,
     "user": {
      "displayName": "Aleksandar Ivanovski",
      "photoUrl": "https://lh3.googleusercontent.com/a-/AOh14Gg7ux9JHBsU4gyhsUePWAEHf11t6WKjouX0pZalHA=s64",
      "userId": "14221350413211049309"
     },
     "user_tz": -120
    },
    "id": "CSzYgrnzT-0N"
   },
   "outputs": [],
   "source": [
    "col_1 = []\n",
    "col_2 = []\n",
    "for feature in dataset.columns[:-1]:\n",
    "  col_1.append(feature)\n",
    "  col_2.append(len(dataset[feature].value_counts()))\n",
    "\n",
    "domain_cardinalities = pd.DataFrame ({'Feature':col_1, 'Cardinality of domain':col_2}, columns = ['Feature','Cardinality of domain'])"
   ]
  },
  {
   "cell_type": "code",
   "execution_count": 13,
   "metadata": {
    "colab": {
     "base_uri": "https://localhost:8080/",
     "height": 0
    },
    "colab_type": "code",
    "executionInfo": {
     "elapsed": 2472,
     "status": "ok",
     "timestamp": 1593040123151,
     "user": {
      "displayName": "Aleksandar Ivanovski",
      "photoUrl": "https://lh3.googleusercontent.com/a-/AOh14Gg7ux9JHBsU4gyhsUePWAEHf11t6WKjouX0pZalHA=s64",
      "userId": "14221350413211049309"
     },
     "user_tz": -120
    },
    "id": "3cG_OFcwVlOV",
    "outputId": "560d9acc-4a4f-4978-c4ad-79e457f1a9cf",
    "pycharm": {
     "name": "#%%\n"
    }
   },
   "outputs": [
    {
     "data": {
      "text/html": [
       "<div>\n",
       "<style scoped>\n",
       "    .dataframe tbody tr th:only-of-type {\n",
       "        vertical-align: middle;\n",
       "    }\n",
       "\n",
       "    .dataframe tbody tr th {\n",
       "        vertical-align: top;\n",
       "    }\n",
       "\n",
       "    .dataframe thead th {\n",
       "        text-align: right;\n",
       "    }\n",
       "</style>\n",
       "<table border=\"1\" class=\"dataframe\">\n",
       "  <thead>\n",
       "    <tr style=\"text-align: right;\">\n",
       "      <th></th>\n",
       "      <th>Feature</th>\n",
       "      <th>Cardinality of domain</th>\n",
       "    </tr>\n",
       "  </thead>\n",
       "  <tbody>\n",
       "    <tr>\n",
       "      <th>0</th>\n",
       "      <td>fixed acidity</td>\n",
       "      <td>68</td>\n",
       "    </tr>\n",
       "    <tr>\n",
       "      <th>1</th>\n",
       "      <td>volatile acidity</td>\n",
       "      <td>125</td>\n",
       "    </tr>\n",
       "    <tr>\n",
       "      <th>2</th>\n",
       "      <td>citric acid</td>\n",
       "      <td>87</td>\n",
       "    </tr>\n",
       "    <tr>\n",
       "      <th>3</th>\n",
       "      <td>residual sugar</td>\n",
       "      <td>310</td>\n",
       "    </tr>\n",
       "    <tr>\n",
       "      <th>4</th>\n",
       "      <td>chlorides</td>\n",
       "      <td>160</td>\n",
       "    </tr>\n",
       "    <tr>\n",
       "      <th>5</th>\n",
       "      <td>free sulfur dioxide</td>\n",
       "      <td>132</td>\n",
       "    </tr>\n",
       "    <tr>\n",
       "      <th>6</th>\n",
       "      <td>total sulfur dioxide</td>\n",
       "      <td>251</td>\n",
       "    </tr>\n",
       "    <tr>\n",
       "      <th>7</th>\n",
       "      <td>density</td>\n",
       "      <td>890</td>\n",
       "    </tr>\n",
       "    <tr>\n",
       "      <th>8</th>\n",
       "      <td>pH</td>\n",
       "      <td>103</td>\n",
       "    </tr>\n",
       "    <tr>\n",
       "      <th>9</th>\n",
       "      <td>sulphates</td>\n",
       "      <td>79</td>\n",
       "    </tr>\n",
       "    <tr>\n",
       "      <th>10</th>\n",
       "      <td>alcohol</td>\n",
       "      <td>103</td>\n",
       "    </tr>\n",
       "  </tbody>\n",
       "</table>\n",
       "</div>"
      ],
      "text/plain": [
       "                 Feature  Cardinality of domain\n",
       "0          fixed acidity                     68\n",
       "1       volatile acidity                    125\n",
       "2            citric acid                     87\n",
       "3         residual sugar                    310\n",
       "4              chlorides                    160\n",
       "5    free sulfur dioxide                    132\n",
       "6   total sulfur dioxide                    251\n",
       "7                density                    890\n",
       "8                     pH                    103\n",
       "9              sulphates                     79\n",
       "10               alcohol                    103"
      ]
     },
     "execution_count": 13,
     "metadata": {},
     "output_type": "execute_result"
    }
   ],
   "source": [
    "domain_cardinalities"
   ]
  },
  {
   "cell_type": "markdown",
   "metadata": {
    "colab_type": "text",
    "id": "-eAoHXtqWLgj",
    "pycharm": {
     "name": "#%% md\n"
    }
   },
   "source": [
    "Може да се забележи дека одрдени карактеристики како например density имаат големи домени, тие големи домени треба некако да ги дискретизираме, со што ќе станат помали, па ќе направиме некакво стабилизарање на податоците.\n",
    "\n",
    "Како резултат од binning-от, секоја конкретна вредност за сите карактеристики, кои досега се реални броеви, ќе стане интервал (податочна структура од pandas), па секој интервал ќе го замениме со неговата мода (вредноста на средината)."
   ]
  },
  {
   "cell_type": "code",
   "execution_count": 14,
   "metadata": {
    "colab": {},
    "colab_type": "code",
    "executionInfo": {
     "elapsed": 2465,
     "status": "ok",
     "timestamp": 1593040123155,
     "user": {
      "displayName": "Aleksandar Ivanovski",
      "photoUrl": "https://lh3.googleusercontent.com/a-/AOh14Gg7ux9JHBsU4gyhsUePWAEHf11t6WKjouX0pZalHA=s64",
      "userId": "14221350413211049309"
     },
     "user_tz": -120
    },
    "id": "0iIey6zFelVG"
   },
   "outputs": [],
   "source": [
    "# for feature in dataset.columns[:-1]:\n",
    "#   num_ftrs = len(dataset[feature].value_counts())\n",
    "#   if num_ftrs < 100:\n",
    "#     bin_and_replace(feature, 5)\n",
    "#   elif 100 <= num_ftrs < 300:\n",
    "#     bin_and_replace(feature, 8)\n",
    "#   else:\n",
    "#     bin_and_replace(feature, 10)"
   ]
  },
  {
   "cell_type": "code",
   "execution_count": 15,
   "metadata": {
    "colab": {},
    "colab_type": "code",
    "executionInfo": {
     "elapsed": 2458,
     "status": "ok",
     "timestamp": 1593040123158,
     "user": {
      "displayName": "Aleksandar Ivanovski",
      "photoUrl": "https://lh3.googleusercontent.com/a-/AOh14Gg7ux9JHBsU4gyhsUePWAEHf11t6WKjouX0pZalHA=s64",
      "userId": "14221350413211049309"
     },
     "user_tz": -120
    },
    "id": "R394YzRJfCMO"
   },
   "outputs": [],
   "source": [
    "col_1 = []\n",
    "col_2 = []\n",
    "for feature in dataset.columns[:-1]:\n",
    "  col_1.append(feature)\n",
    "  col_2.append(len(dataset[feature].value_counts()))\n",
    "\n",
    "domain_cardinalities = pd.DataFrame ({'Feature':col_1, 'Cardinality of domain':col_2}, columns = ['Feature','Cardinality of domain'])"
   ]
  },
  {
   "cell_type": "code",
   "execution_count": 16,
   "metadata": {
    "colab": {
     "base_uri": "https://localhost:8080/",
     "height": 0
    },
    "colab_type": "code",
    "executionInfo": {
     "elapsed": 2431,
     "status": "ok",
     "timestamp": 1593040123160,
     "user": {
      "displayName": "Aleksandar Ivanovski",
      "photoUrl": "https://lh3.googleusercontent.com/a-/AOh14Gg7ux9JHBsU4gyhsUePWAEHf11t6WKjouX0pZalHA=s64",
      "userId": "14221350413211049309"
     },
     "user_tz": -120
    },
    "id": "JNS-gnbtfETw",
    "outputId": "e8f46c35-f5bf-4536-c84a-1d070ebdd055"
   },
   "outputs": [
    {
     "data": {
      "text/html": [
       "<div>\n",
       "<style scoped>\n",
       "    .dataframe tbody tr th:only-of-type {\n",
       "        vertical-align: middle;\n",
       "    }\n",
       "\n",
       "    .dataframe tbody tr th {\n",
       "        vertical-align: top;\n",
       "    }\n",
       "\n",
       "    .dataframe thead th {\n",
       "        text-align: right;\n",
       "    }\n",
       "</style>\n",
       "<table border=\"1\" class=\"dataframe\">\n",
       "  <thead>\n",
       "    <tr style=\"text-align: right;\">\n",
       "      <th></th>\n",
       "      <th>Feature</th>\n",
       "      <th>Cardinality of domain</th>\n",
       "    </tr>\n",
       "  </thead>\n",
       "  <tbody>\n",
       "    <tr>\n",
       "      <th>0</th>\n",
       "      <td>fixed acidity</td>\n",
       "      <td>68</td>\n",
       "    </tr>\n",
       "    <tr>\n",
       "      <th>1</th>\n",
       "      <td>volatile acidity</td>\n",
       "      <td>125</td>\n",
       "    </tr>\n",
       "    <tr>\n",
       "      <th>2</th>\n",
       "      <td>citric acid</td>\n",
       "      <td>87</td>\n",
       "    </tr>\n",
       "    <tr>\n",
       "      <th>3</th>\n",
       "      <td>residual sugar</td>\n",
       "      <td>310</td>\n",
       "    </tr>\n",
       "    <tr>\n",
       "      <th>4</th>\n",
       "      <td>chlorides</td>\n",
       "      <td>160</td>\n",
       "    </tr>\n",
       "    <tr>\n",
       "      <th>5</th>\n",
       "      <td>free sulfur dioxide</td>\n",
       "      <td>132</td>\n",
       "    </tr>\n",
       "    <tr>\n",
       "      <th>6</th>\n",
       "      <td>total sulfur dioxide</td>\n",
       "      <td>251</td>\n",
       "    </tr>\n",
       "    <tr>\n",
       "      <th>7</th>\n",
       "      <td>density</td>\n",
       "      <td>890</td>\n",
       "    </tr>\n",
       "    <tr>\n",
       "      <th>8</th>\n",
       "      <td>pH</td>\n",
       "      <td>103</td>\n",
       "    </tr>\n",
       "    <tr>\n",
       "      <th>9</th>\n",
       "      <td>sulphates</td>\n",
       "      <td>79</td>\n",
       "    </tr>\n",
       "    <tr>\n",
       "      <th>10</th>\n",
       "      <td>alcohol</td>\n",
       "      <td>103</td>\n",
       "    </tr>\n",
       "  </tbody>\n",
       "</table>\n",
       "</div>"
      ],
      "text/plain": [
       "                 Feature  Cardinality of domain\n",
       "0          fixed acidity                     68\n",
       "1       volatile acidity                    125\n",
       "2            citric acid                     87\n",
       "3         residual sugar                    310\n",
       "4              chlorides                    160\n",
       "5    free sulfur dioxide                    132\n",
       "6   total sulfur dioxide                    251\n",
       "7                density                    890\n",
       "8                     pH                    103\n",
       "9              sulphates                     79\n",
       "10               alcohol                    103"
      ]
     },
     "execution_count": 16,
     "metadata": {},
     "output_type": "execute_result"
    }
   ],
   "source": [
    "domain_cardinalities"
   ]
  },
  {
   "cell_type": "code",
   "execution_count": 17,
   "metadata": {
    "colab": {
     "base_uri": "https://localhost:8080/",
     "height": 0
    },
    "colab_type": "code",
    "executionInfo": {
     "elapsed": 2403,
     "status": "ok",
     "timestamp": 1593040123162,
     "user": {
      "displayName": "Aleksandar Ivanovski",
      "photoUrl": "https://lh3.googleusercontent.com/a-/AOh14Gg7ux9JHBsU4gyhsUePWAEHf11t6WKjouX0pZalHA=s64",
      "userId": "14221350413211049309"
     },
     "user_tz": -120
    },
    "id": "fwWxLqu-XRZy",
    "outputId": "b6eab1e2-4541-4af6-ff81-6531f57af383",
    "pycharm": {
     "name": "#%%\n"
    }
   },
   "outputs": [
    {
     "data": {
      "text/html": [
       "<div>\n",
       "<style scoped>\n",
       "    .dataframe tbody tr th:only-of-type {\n",
       "        vertical-align: middle;\n",
       "    }\n",
       "\n",
       "    .dataframe tbody tr th {\n",
       "        vertical-align: top;\n",
       "    }\n",
       "\n",
       "    .dataframe thead th {\n",
       "        text-align: right;\n",
       "    }\n",
       "</style>\n",
       "<table border=\"1\" class=\"dataframe\">\n",
       "  <thead>\n",
       "    <tr style=\"text-align: right;\">\n",
       "      <th></th>\n",
       "      <th>fixed acidity</th>\n",
       "      <th>volatile acidity</th>\n",
       "      <th>citric acid</th>\n",
       "      <th>residual sugar</th>\n",
       "      <th>chlorides</th>\n",
       "      <th>free sulfur dioxide</th>\n",
       "      <th>total sulfur dioxide</th>\n",
       "      <th>density</th>\n",
       "      <th>pH</th>\n",
       "      <th>sulphates</th>\n",
       "      <th>alcohol</th>\n",
       "      <th>quality</th>\n",
       "    </tr>\n",
       "  </thead>\n",
       "  <tbody>\n",
       "    <tr>\n",
       "      <th>0</th>\n",
       "      <td>0.307692</td>\n",
       "      <td>0.186275</td>\n",
       "      <td>0.216867</td>\n",
       "      <td>0.308282</td>\n",
       "      <td>0.106825</td>\n",
       "      <td>0.149826</td>\n",
       "      <td>0.373550</td>\n",
       "      <td>0.267785</td>\n",
       "      <td>0.254545</td>\n",
       "      <td>0.267442</td>\n",
       "      <td>0.129032</td>\n",
       "      <td>[0, 1, 0]</td>\n",
       "    </tr>\n",
       "    <tr>\n",
       "      <th>1</th>\n",
       "      <td>0.240385</td>\n",
       "      <td>0.215686</td>\n",
       "      <td>0.204819</td>\n",
       "      <td>0.015337</td>\n",
       "      <td>0.118694</td>\n",
       "      <td>0.041812</td>\n",
       "      <td>0.285383</td>\n",
       "      <td>0.132832</td>\n",
       "      <td>0.527273</td>\n",
       "      <td>0.313953</td>\n",
       "      <td>0.241935</td>\n",
       "      <td>[0, 1, 0]</td>\n",
       "    </tr>\n",
       "    <tr>\n",
       "      <th>2</th>\n",
       "      <td>0.413462</td>\n",
       "      <td>0.196078</td>\n",
       "      <td>0.240964</td>\n",
       "      <td>0.096626</td>\n",
       "      <td>0.121662</td>\n",
       "      <td>0.097561</td>\n",
       "      <td>0.204176</td>\n",
       "      <td>0.154039</td>\n",
       "      <td>0.490909</td>\n",
       "      <td>0.255814</td>\n",
       "      <td>0.338710</td>\n",
       "      <td>[0, 1, 0]</td>\n",
       "    </tr>\n",
       "    <tr>\n",
       "      <th>3</th>\n",
       "      <td>0.326923</td>\n",
       "      <td>0.147059</td>\n",
       "      <td>0.192771</td>\n",
       "      <td>0.121166</td>\n",
       "      <td>0.145401</td>\n",
       "      <td>0.156794</td>\n",
       "      <td>0.410673</td>\n",
       "      <td>0.163678</td>\n",
       "      <td>0.427273</td>\n",
       "      <td>0.209302</td>\n",
       "      <td>0.306452</td>\n",
       "      <td>[0, 1, 0]</td>\n",
       "    </tr>\n",
       "    <tr>\n",
       "      <th>4</th>\n",
       "      <td>0.326923</td>\n",
       "      <td>0.147059</td>\n",
       "      <td>0.192771</td>\n",
       "      <td>0.121166</td>\n",
       "      <td>0.145401</td>\n",
       "      <td>0.156794</td>\n",
       "      <td>0.410673</td>\n",
       "      <td>0.163678</td>\n",
       "      <td>0.427273</td>\n",
       "      <td>0.209302</td>\n",
       "      <td>0.306452</td>\n",
       "      <td>[0, 1, 0]</td>\n",
       "    </tr>\n",
       "  </tbody>\n",
       "</table>\n",
       "</div>"
      ],
      "text/plain": [
       "   fixed acidity  volatile acidity  citric acid  residual sugar  chlorides  \\\n",
       "0       0.307692          0.186275     0.216867        0.308282   0.106825   \n",
       "1       0.240385          0.215686     0.204819        0.015337   0.118694   \n",
       "2       0.413462          0.196078     0.240964        0.096626   0.121662   \n",
       "3       0.326923          0.147059     0.192771        0.121166   0.145401   \n",
       "4       0.326923          0.147059     0.192771        0.121166   0.145401   \n",
       "\n",
       "   free sulfur dioxide  total sulfur dioxide   density        pH  sulphates  \\\n",
       "0             0.149826              0.373550  0.267785  0.254545   0.267442   \n",
       "1             0.041812              0.285383  0.132832  0.527273   0.313953   \n",
       "2             0.097561              0.204176  0.154039  0.490909   0.255814   \n",
       "3             0.156794              0.410673  0.163678  0.427273   0.209302   \n",
       "4             0.156794              0.410673  0.163678  0.427273   0.209302   \n",
       "\n",
       "    alcohol    quality  \n",
       "0  0.129032  [0, 1, 0]  \n",
       "1  0.241935  [0, 1, 0]  \n",
       "2  0.338710  [0, 1, 0]  \n",
       "3  0.306452  [0, 1, 0]  \n",
       "4  0.306452  [0, 1, 0]  "
      ]
     },
     "execution_count": 17,
     "metadata": {},
     "output_type": "execute_result"
    }
   ],
   "source": [
    "dataset.head()"
   ]
  },
  {
   "cell_type": "markdown",
   "metadata": {
    "colab_type": "text",
    "id": "rldtapR2PPt6"
   },
   "source": [
    "# Поделба на соодветни подмножества"
   ]
  },
  {
   "cell_type": "markdown",
   "metadata": {
    "colab_type": "text",
    "id": "Bgv5Uh6diEc2",
    "pycharm": {
     "name": "#%% md\n"
    }
   },
   "source": [
    "Поделба на тренинг множество (првите 80% од целокупното податочно множество) и тест множество (останатите 20%)"
   ]
  },
  {
   "cell_type": "code",
   "execution_count": 18,
   "metadata": {
    "colab": {},
    "colab_type": "code",
    "executionInfo": {
     "elapsed": 2388,
     "status": "ok",
     "timestamp": 1593040123164,
     "user": {
      "displayName": "Aleksandar Ivanovski",
      "photoUrl": "https://lh3.googleusercontent.com/a-/AOh14Gg7ux9JHBsU4gyhsUePWAEHf11t6WKjouX0pZalHA=s64",
      "userId": "14221350413211049309"
     },
     "user_tz": -120
    },
    "id": "VR2CAZhLhcEU"
   },
   "outputs": [],
   "source": [
    "train = dataset[:int(len(dataset)*0.8)]\n",
    "test = dataset[int(len(dataset)*0.8):]"
   ]
  },
  {
   "cell_type": "code",
   "execution_count": 19,
   "metadata": {
    "colab": {
     "base_uri": "https://localhost:8080/",
     "height": 51
    },
    "colab_type": "code",
    "executionInfo": {
     "elapsed": 2361,
     "status": "ok",
     "timestamp": 1593040123167,
     "user": {
      "displayName": "Aleksandar Ivanovski",
      "photoUrl": "https://lh3.googleusercontent.com/a-/AOh14Gg7ux9JHBsU4gyhsUePWAEHf11t6WKjouX0pZalHA=s64",
      "userId": "14221350413211049309"
     },
     "user_tz": -120
    },
    "id": "mc7TzbfXh002",
    "outputId": "77a0bae3-ea71-40cb-e062-cd8b8ffdb0e6",
    "pycharm": {
     "name": "#%%\n"
    }
   },
   "outputs": [
    {
     "name": "stdout",
     "output_type": "stream",
     "text": [
      "Train set:\t(3918, 12)\n",
      "Test set:\t(980, 12)\n"
     ]
    }
   ],
   "source": [
    "print(\"Train set:\\t{}\".format(train.shape))\n",
    "print(\"Test set:\\t{}\".format(test.shape))"
   ]
  },
  {
   "cell_type": "markdown",
   "metadata": {
    "colab_type": "text",
    "id": "cr9WtuT7iR7o",
    "pycharm": {
     "name": "#%% md\n"
    }
   },
   "source": [
    "Поделба на тренинг и тест множествата на X(карактеристики) и Y(класни лабели) подмножества"
   ]
  },
  {
   "cell_type": "code",
   "execution_count": 20,
   "metadata": {
    "colab": {},
    "colab_type": "code",
    "executionInfo": {
     "elapsed": 2356,
     "status": "ok",
     "timestamp": 1593040123169,
     "user": {
      "displayName": "Aleksandar Ivanovski",
      "photoUrl": "https://lh3.googleusercontent.com/a-/AOh14Gg7ux9JHBsU4gyhsUePWAEHf11t6WKjouX0pZalHA=s64",
      "userId": "14221350413211049309"
     },
     "user_tz": -120
    },
    "id": "niIjV-TLjG2b"
   },
   "outputs": [],
   "source": [
    "def split_subset(subset):\n",
    "  return (subset[subset.columns[0:-1]], subset[subset.columns[-1:]])"
   ]
  },
  {
   "cell_type": "code",
   "execution_count": 21,
   "metadata": {
    "colab": {},
    "colab_type": "code",
    "executionInfo": {
     "elapsed": 2351,
     "status": "ok",
     "timestamp": 1593040123172,
     "user": {
      "displayName": "Aleksandar Ivanovski",
      "photoUrl": "https://lh3.googleusercontent.com/a-/AOh14Gg7ux9JHBsU4gyhsUePWAEHf11t6WKjouX0pZalHA=s64",
      "userId": "14221350413211049309"
     },
     "user_tz": -120
    },
    "id": "Guql4u44iZBy"
   },
   "outputs": [],
   "source": [
    "train_x, train_y = split_subset(train)\n",
    "test_x, test_y = split_subset(test)"
   ]
  },
  {
   "cell_type": "code",
   "execution_count": 25,
   "metadata": {
    "colab": {},
    "colab_type": "code",
    "executionInfo": {
     "elapsed": 2344,
     "status": "ok",
     "timestamp": 1593040123174,
     "user": {
      "displayName": "Aleksandar Ivanovski",
      "photoUrl": "https://lh3.googleusercontent.com/a-/AOh14Gg7ux9JHBsU4gyhsUePWAEHf11t6WKjouX0pZalHA=s64",
      "userId": "14221350413211049309"
     },
     "user_tz": -120
    },
    "id": "KLGRthNqo2av",
    "pycharm": {
     "name": "#%%\n"
    }
   },
   "outputs": [],
   "source": [
    "train_x = np.array(train_x.values.tolist())\n",
    "train_y = np.array([t[0] for t in train_y.values.tolist()])\n",
    "\n",
    "test_x = np.array(test_x.values.tolist())\n",
    "test_y = np.array([t[0] for t in test_y.values.tolist()])"
   ]
  },
  {
   "cell_type": "markdown",
   "metadata": {
    "colab_type": "text",
    "id": "hWJdMQ3iPTrn",
    "pycharm": {
     "name": "#%% md\n"
    }
   },
   "source": [
    "# Тренирање модел на невронска мрежа"
   ]
  },
  {
   "cell_type": "code",
   "execution_count": 26,
   "metadata": {
    "colab": {},
    "colab_type": "code",
    "executionInfo": {
     "elapsed": 1478,
     "status": "ok",
     "timestamp": 1593040183978,
     "user": {
      "displayName": "Aleksandar Ivanovski",
      "photoUrl": "https://lh3.googleusercontent.com/a-/AOh14Gg7ux9JHBsU4gyhsUePWAEHf11t6WKjouX0pZalHA=s64",
      "userId": "14221350413211049309"
     },
     "user_tz": -120
    },
    "id": "O7KvSuGHraQh"
   },
   "outputs": [],
   "source": [
    "# model = Sequential()\n",
    "# model.add(Input(11))\n",
    "# model.add(Dense(4, activation='tanh', input_shape=(11,)))\n",
    "# model.add(Dense(4, activation='tanh', input_shape=(11,)))\n",
    "# model.add(Dense(3, activation='softmax'))\n",
    "\n",
    "model = Sequential()\n",
    "# layer 1\n",
    "model.add(Dense(30, input_dim=11, activation='relu', name='fc0',kernel_regularizer=regularizers.l2(0.01)))\n",
    "model.add(BatchNormalization(momentum=0.99, epsilon=0.001))\n",
    "#layer 2\n",
    "model.add(Dense(50, name='fc1',bias_initializer='zeros'))\n",
    "model.add(BatchNormalization(momentum=0.99, epsilon=0.001))\n",
    "model.add(Activation('tanh'))\n",
    "model.add(Dropout(0.5))\n",
    "#layer 3\n",
    "model.add(Dense(100, name='fc2',bias_initializer='zeros'))\n",
    "model.add(BatchNormalization(momentum=0.99, epsilon=0.001))\n",
    "model.add(Activation('relu'))\n",
    "model.add(Dropout(0.5))\n",
    "#layer 4\n",
    "model.add(Dense(3, name='fc3',bias_initializer='zeros'))\n",
    "model.add(BatchNormalization(momentum=0.99, epsilon=0.001))\n",
    "model.add(Activation('softmax'))"
   ]
  },
  {
   "cell_type": "code",
   "execution_count": 27,
   "metadata": {
    "pycharm": {
     "name": "#%%\n"
    }
   },
   "outputs": [
    {
     "name": "stdout",
     "output_type": "stream",
     "text": [
      "Epoch 1/500\n",
      "27/27 [==============================] - 1s 20ms/step - loss: 1.0636 - accuracy: 0.5018 - val_loss: 3.2746 - val_accuracy: 0.2714\n",
      "Epoch 2/500\n",
      "27/27 [==============================] - 0s 4ms/step - loss: 0.9451 - accuracy: 0.5327 - val_loss: 1.0591 - val_accuracy: 0.4592\n",
      "Epoch 3/500\n",
      "27/27 [==============================] - 0s 5ms/step - loss: 0.9370 - accuracy: 0.5286 - val_loss: 0.9591 - val_accuracy: 0.4980\n",
      "Epoch 4/500\n",
      "27/27 [==============================] - 0s 6ms/step - loss: 0.9176 - accuracy: 0.5481 - val_loss: 1.0013 - val_accuracy: 0.4510\n",
      "Epoch 5/500\n",
      "27/27 [==============================] - 0s 2ms/step - loss: 0.9262 - accuracy: 0.5438 - val_loss: 0.9884 - val_accuracy: 0.4449\n",
      "Epoch 6/500\n",
      "27/27 [==============================] - 0s 3ms/step - loss: 0.9296 - accuracy: 0.5370 - val_loss: 0.9568 - val_accuracy: 0.5306\n",
      "Epoch 7/500\n",
      "27/27 [==============================] - 0s 5ms/step - loss: 0.9217 - accuracy: 0.5385 - val_loss: 0.9939 - val_accuracy: 0.4490\n",
      "Epoch 8/500\n",
      "27/27 [==============================] - 0s 10ms/step - loss: 0.9177 - accuracy: 0.5516 - val_loss: 0.9449 - val_accuracy: 0.5388\n",
      "Epoch 9/500\n",
      "27/27 [==============================] - 0s 8ms/step - loss: 0.9215 - accuracy: 0.5438 - val_loss: 0.9546 - val_accuracy: 0.4755\n",
      "Epoch 10/500\n",
      "27/27 [==============================] - 0s 9ms/step - loss: 0.9201 - accuracy: 0.5440 - val_loss: 0.9385 - val_accuracy: 0.5061\n",
      "Epoch 11/500\n",
      "27/27 [==============================] - 0s 10ms/step - loss: 0.9201 - accuracy: 0.5452 - val_loss: 0.8897 - val_accuracy: 0.6143\n",
      "Epoch 12/500\n",
      "27/27 [==============================] - 0s 7ms/step - loss: 0.9184 - accuracy: 0.5423 - val_loss: 0.9091 - val_accuracy: 0.5959\n",
      "Epoch 13/500\n",
      "27/27 [==============================] - 0s 9ms/step - loss: 0.9204 - accuracy: 0.5446 - val_loss: 0.8943 - val_accuracy: 0.5816\n",
      "Epoch 14/500\n",
      "27/27 [==============================] - 0s 7ms/step - loss: 0.9117 - accuracy: 0.5452 - val_loss: 0.9115 - val_accuracy: 0.5837\n",
      "Epoch 15/500\n",
      "27/27 [==============================] - 0s 3ms/step - loss: 0.9176 - accuracy: 0.5475 - val_loss: 0.8896 - val_accuracy: 0.5592\n",
      "Epoch 16/500\n",
      "27/27 [==============================] - 0s 4ms/step - loss: 0.9058 - accuracy: 0.5484 - val_loss: 0.9252 - val_accuracy: 0.5306\n",
      "Epoch 17/500\n",
      "27/27 [==============================] - 0s 6ms/step - loss: 0.9096 - accuracy: 0.5475 - val_loss: 0.8453 - val_accuracy: 0.5939\n",
      "Epoch 18/500\n",
      "27/27 [==============================] - 0s 8ms/step - loss: 0.9267 - accuracy: 0.5379 - val_loss: 1.0687 - val_accuracy: 0.4816\n",
      "Epoch 19/500\n",
      "27/27 [==============================] - 0s 2ms/step - loss: 0.9180 - accuracy: 0.5516 - val_loss: 0.8834 - val_accuracy: 0.5653\n",
      "Epoch 20/500\n",
      "27/27 [==============================] - 0s 2ms/step - loss: 0.9119 - accuracy: 0.5592 - val_loss: 0.8911 - val_accuracy: 0.6082\n",
      "Epoch 21/500\n",
      "27/27 [==============================] - 0s 3ms/step - loss: 0.9134 - accuracy: 0.5505 - val_loss: 0.9529 - val_accuracy: 0.5265\n",
      "Epoch 22/500\n",
      "27/27 [==============================] - 0s 10ms/step - loss: 0.9102 - accuracy: 0.5481 - val_loss: 0.9140 - val_accuracy: 0.5408\n",
      "Epoch 23/500\n",
      "27/27 [==============================] - 0s 10ms/step - loss: 0.9150 - accuracy: 0.5496 - val_loss: 0.9699 - val_accuracy: 0.5286\n",
      "Epoch 24/500\n",
      "27/27 [==============================] - 0s 5ms/step - loss: 0.9123 - accuracy: 0.5458 - val_loss: 0.9208 - val_accuracy: 0.5327\n",
      "Epoch 25/500\n",
      "27/27 [==============================] - 0s 6ms/step - loss: 0.9102 - accuracy: 0.5452 - val_loss: 0.8894 - val_accuracy: 0.5633\n",
      "Epoch 26/500\n",
      "27/27 [==============================] - 0s 7ms/step - loss: 0.9204 - accuracy: 0.5513 - val_loss: 0.8999 - val_accuracy: 0.5857\n",
      "Epoch 27/500\n",
      "27/27 [==============================] - 0s 8ms/step - loss: 0.9128 - accuracy: 0.5525 - val_loss: 0.8713 - val_accuracy: 0.5592\n",
      "Epoch 28/500\n",
      "27/27 [==============================] - 0s 11ms/step - loss: 0.9073 - accuracy: 0.5648 - val_loss: 0.8986 - val_accuracy: 0.5347\n",
      "Epoch 29/500\n",
      "27/27 [==============================] - 0s 10ms/step - loss: 0.9137 - accuracy: 0.5519 - val_loss: 0.9897 - val_accuracy: 0.5163\n",
      "Epoch 30/500\n",
      "27/27 [==============================] - 0s 7ms/step - loss: 0.9178 - accuracy: 0.5446 - val_loss: 1.0016 - val_accuracy: 0.5204\n",
      "Epoch 31/500\n",
      "27/27 [==============================] - 0s 3ms/step - loss: 0.9067 - accuracy: 0.5578 - val_loss: 0.9126 - val_accuracy: 0.5878\n",
      "Epoch 32/500\n",
      "27/27 [==============================] - 0s 6ms/step - loss: 0.9143 - accuracy: 0.5403 - val_loss: 0.8825 - val_accuracy: 0.5816\n",
      "Epoch 33/500\n",
      "27/27 [==============================] - 0s 9ms/step - loss: 0.9092 - accuracy: 0.5534 - val_loss: 0.8966 - val_accuracy: 0.5653\n",
      "Epoch 34/500\n",
      "27/27 [==============================] - 0s 6ms/step - loss: 0.9084 - accuracy: 0.5522 - val_loss: 0.9189 - val_accuracy: 0.5776\n",
      "Epoch 35/500\n",
      "27/27 [==============================] - 0s 3ms/step - loss: 0.9097 - accuracy: 0.5639 - val_loss: 0.8663 - val_accuracy: 0.5735\n",
      "Epoch 36/500\n",
      "27/27 [==============================] - 0s 3ms/step - loss: 0.9051 - accuracy: 0.5575 - val_loss: 0.9278 - val_accuracy: 0.5388\n",
      "Epoch 37/500\n",
      "27/27 [==============================] - 0s 8ms/step - loss: 0.9114 - accuracy: 0.5478 - val_loss: 0.9958 - val_accuracy: 0.4959\n",
      "Epoch 38/500\n",
      "27/27 [==============================] - 0s 9ms/step - loss: 0.9086 - accuracy: 0.5575 - val_loss: 0.9191 - val_accuracy: 0.5388\n",
      "Epoch 39/500\n",
      "27/27 [==============================] - 0s 9ms/step - loss: 0.9076 - accuracy: 0.5548 - val_loss: 0.9797 - val_accuracy: 0.4796\n",
      "Epoch 40/500\n",
      "27/27 [==============================] - 0s 6ms/step - loss: 0.9128 - accuracy: 0.5508 - val_loss: 1.0453 - val_accuracy: 0.4796\n",
      "Epoch 41/500\n",
      "27/27 [==============================] - 0s 2ms/step - loss: 0.9208 - accuracy: 0.5347 - val_loss: 0.8817 - val_accuracy: 0.5776\n",
      "Epoch 42/500\n",
      "27/27 [==============================] - 0s 3ms/step - loss: 0.9064 - accuracy: 0.5516 - val_loss: 0.9080 - val_accuracy: 0.5551\n",
      "Epoch 43/500\n",
      "27/27 [==============================] - 0s 5ms/step - loss: 0.9041 - accuracy: 0.5572 - val_loss: 1.1065 - val_accuracy: 0.4755\n",
      "Epoch 44/500\n",
      "27/27 [==============================] - 0s 2ms/step - loss: 0.9044 - accuracy: 0.5648 - val_loss: 0.8655 - val_accuracy: 0.5898\n",
      "Epoch 45/500\n",
      "27/27 [==============================] - 0s 3ms/step - loss: 0.9184 - accuracy: 0.5546 - val_loss: 0.9381 - val_accuracy: 0.5224\n",
      "Epoch 46/500\n",
      "27/27 [==============================] - 0s 7ms/step - loss: 0.9099 - accuracy: 0.5546 - val_loss: 1.1588 - val_accuracy: 0.4714\n",
      "Epoch 47/500\n",
      "27/27 [==============================] - 0s 9ms/step - loss: 0.9118 - accuracy: 0.5531 - val_loss: 0.9072 - val_accuracy: 0.5673\n",
      "Epoch 48/500\n",
      "27/27 [==============================] - 0s 2ms/step - loss: 0.9158 - accuracy: 0.5496 - val_loss: 0.8765 - val_accuracy: 0.5939\n",
      "Epoch 49/500\n",
      "27/27 [==============================] - 0s 3ms/step - loss: 0.9097 - accuracy: 0.5508 - val_loss: 0.9662 - val_accuracy: 0.5041\n",
      "Epoch 50/500\n",
      "27/27 [==============================] - 0s 2ms/step - loss: 0.9006 - accuracy: 0.5554 - val_loss: 0.9713 - val_accuracy: 0.5265\n",
      "Epoch 51/500\n",
      "27/27 [==============================] - 0s 3ms/step - loss: 0.9079 - accuracy: 0.5496 - val_loss: 1.4909 - val_accuracy: 0.3041\n",
      "Epoch 52/500\n",
      "27/27 [==============================] - 0s 2ms/step - loss: 0.9141 - accuracy: 0.5464 - val_loss: 1.5997 - val_accuracy: 0.2735\n",
      "Epoch 53/500\n",
      "27/27 [==============================] - 0s 3ms/step - loss: 0.9131 - accuracy: 0.5531 - val_loss: 1.2820 - val_accuracy: 0.3673\n",
      "Epoch 54/500\n",
      "27/27 [==============================] - 0s 4ms/step - loss: 0.9072 - accuracy: 0.5522 - val_loss: 1.0693 - val_accuracy: 0.4531\n",
      "Epoch 55/500\n",
      "27/27 [==============================] - 0s 2ms/step - loss: 0.9107 - accuracy: 0.5563 - val_loss: 1.2028 - val_accuracy: 0.3939\n",
      "Epoch 56/500\n",
      "27/27 [==============================] - 0s 5ms/step - loss: 0.9086 - accuracy: 0.5592 - val_loss: 0.9889 - val_accuracy: 0.5020\n",
      "Epoch 57/500\n",
      "27/27 [==============================] - 0s 8ms/step - loss: 0.9138 - accuracy: 0.5531 - val_loss: 0.9596 - val_accuracy: 0.5327\n",
      "Epoch 58/500\n",
      "27/27 [==============================] - 0s 9ms/step - loss: 0.9103 - accuracy: 0.5589 - val_loss: 0.9043 - val_accuracy: 0.5469\n"
     ]
    },
    {
     "name": "stdout",
     "output_type": "stream",
     "text": [
      "Epoch 59/500\n",
      "27/27 [==============================] - 0s 6ms/step - loss: 0.9061 - accuracy: 0.5563 - val_loss: 0.8976 - val_accuracy: 0.5592\n",
      "Epoch 60/500\n",
      "27/27 [==============================] - 0s 4ms/step - loss: 0.9055 - accuracy: 0.5481 - val_loss: 0.9441 - val_accuracy: 0.5204\n",
      "Epoch 61/500\n",
      "27/27 [==============================] - 0s 5ms/step - loss: 0.9080 - accuracy: 0.5513 - val_loss: 0.9013 - val_accuracy: 0.5755\n",
      "Epoch 62/500\n",
      "27/27 [==============================] - 0s 9ms/step - loss: 0.9137 - accuracy: 0.5438 - val_loss: 0.9072 - val_accuracy: 0.5694\n",
      "Epoch 63/500\n",
      "27/27 [==============================] - 0s 3ms/step - loss: 0.9094 - accuracy: 0.5595 - val_loss: 0.8981 - val_accuracy: 0.5796\n",
      "Epoch 64/500\n",
      "27/27 [==============================] - 0s 4ms/step - loss: 0.9099 - accuracy: 0.5481 - val_loss: 0.9330 - val_accuracy: 0.5510\n",
      "Epoch 65/500\n",
      "27/27 [==============================] - 0s 4ms/step - loss: 0.9160 - accuracy: 0.5519 - val_loss: 0.9508 - val_accuracy: 0.5122\n",
      "Epoch 66/500\n",
      "27/27 [==============================] - 0s 8ms/step - loss: 0.9049 - accuracy: 0.5583 - val_loss: 0.8657 - val_accuracy: 0.5857\n",
      "Epoch 67/500\n",
      "27/27 [==============================] - 0s 9ms/step - loss: 0.9054 - accuracy: 0.5551 - val_loss: 0.8641 - val_accuracy: 0.5816\n",
      "Epoch 68/500\n",
      "27/27 [==============================] - 0s 9ms/step - loss: 0.9056 - accuracy: 0.5525 - val_loss: 0.8584 - val_accuracy: 0.6184\n",
      "Epoch 69/500\n",
      "27/27 [==============================] - 0s 9ms/step - loss: 0.9058 - accuracy: 0.5508 - val_loss: 0.9891 - val_accuracy: 0.5224\n",
      "Epoch 70/500\n",
      "27/27 [==============================] - 0s 6ms/step - loss: 0.9166 - accuracy: 0.5376 - val_loss: 0.9318 - val_accuracy: 0.5347\n",
      "Epoch 71/500\n",
      "27/27 [==============================] - 0s 2ms/step - loss: 0.9083 - accuracy: 0.5519 - val_loss: 0.8470 - val_accuracy: 0.5837\n",
      "Epoch 72/500\n",
      "27/27 [==============================] - 0s 2ms/step - loss: 0.9146 - accuracy: 0.5411 - val_loss: 0.8667 - val_accuracy: 0.5755\n",
      "Epoch 73/500\n",
      "27/27 [==============================] - 0s 2ms/step - loss: 0.9104 - accuracy: 0.5522 - val_loss: 0.8377 - val_accuracy: 0.5939\n",
      "Epoch 74/500\n",
      "27/27 [==============================] - 0s 5ms/step - loss: 0.9019 - accuracy: 0.5613 - val_loss: 0.9622 - val_accuracy: 0.5245\n",
      "Epoch 75/500\n",
      "27/27 [==============================] - 0s 10ms/step - loss: 0.9077 - accuracy: 0.5540 - val_loss: 0.8988 - val_accuracy: 0.5612\n",
      "Epoch 76/500\n",
      "27/27 [==============================] - 0s 9ms/step - loss: 0.8991 - accuracy: 0.5627 - val_loss: 0.9649 - val_accuracy: 0.4837\n",
      "Epoch 77/500\n",
      "27/27 [==============================] - 0s 8ms/step - loss: 0.9091 - accuracy: 0.5516 - val_loss: 0.9165 - val_accuracy: 0.5224\n",
      "Epoch 78/500\n",
      "27/27 [==============================] - 0s 9ms/step - loss: 0.9132 - accuracy: 0.5487 - val_loss: 0.9442 - val_accuracy: 0.5429\n",
      "Epoch 79/500\n",
      "27/27 [==============================] - 0s 9ms/step - loss: 0.9110 - accuracy: 0.5502 - val_loss: 0.9285 - val_accuracy: 0.5327\n",
      "Epoch 80/500\n",
      "27/27 [==============================] - 0s 9ms/step - loss: 0.9043 - accuracy: 0.5557 - val_loss: 0.8710 - val_accuracy: 0.5796\n",
      "Epoch 81/500\n",
      "27/27 [==============================] - 0s 9ms/step - loss: 0.9081 - accuracy: 0.5540 - val_loss: 0.8419 - val_accuracy: 0.5816\n",
      "Epoch 82/500\n",
      "27/27 [==============================] - 0s 9ms/step - loss: 0.9046 - accuracy: 0.5548 - val_loss: 0.8664 - val_accuracy: 0.5898\n",
      "Epoch 83/500\n",
      "27/27 [==============================] - 0s 9ms/step - loss: 0.8996 - accuracy: 0.5630 - val_loss: 0.9158 - val_accuracy: 0.6102\n",
      "Epoch 84/500\n",
      "27/27 [==============================] - 0s 10ms/step - loss: 0.9017 - accuracy: 0.5630 - val_loss: 0.9030 - val_accuracy: 0.5714\n",
      "Epoch 85/500\n",
      "27/27 [==============================] - 0s 10ms/step - loss: 0.9070 - accuracy: 0.5648 - val_loss: 0.9360 - val_accuracy: 0.5306\n",
      "Epoch 86/500\n",
      "27/27 [==============================] - 0s 9ms/step - loss: 0.8974 - accuracy: 0.5554 - val_loss: 0.9425 - val_accuracy: 0.5469\n",
      "Epoch 87/500\n",
      "27/27 [==============================] - 0s 8ms/step - loss: 0.9109 - accuracy: 0.5487 - val_loss: 0.8761 - val_accuracy: 0.6000\n",
      "Epoch 88/500\n",
      "27/27 [==============================] - 0s 9ms/step - loss: 0.9093 - accuracy: 0.5522 - val_loss: 1.0994 - val_accuracy: 0.4388\n",
      "Epoch 89/500\n",
      "27/27 [==============================] - 0s 10ms/step - loss: 0.9098 - accuracy: 0.5511 - val_loss: 0.8915 - val_accuracy: 0.5592\n",
      "Epoch 90/500\n",
      "27/27 [==============================] - 0s 9ms/step - loss: 0.8996 - accuracy: 0.5697 - val_loss: 0.9340 - val_accuracy: 0.5388\n",
      "Epoch 91/500\n",
      "27/27 [==============================] - 0s 10ms/step - loss: 0.9063 - accuracy: 0.5516 - val_loss: 0.8956 - val_accuracy: 0.5857\n",
      "Epoch 92/500\n",
      "27/27 [==============================] - 0s 10ms/step - loss: 0.9091 - accuracy: 0.5659 - val_loss: 0.8989 - val_accuracy: 0.5449\n",
      "Epoch 93/500\n",
      "27/27 [==============================] - 0s 11ms/step - loss: 0.9026 - accuracy: 0.5578 - val_loss: 0.8799 - val_accuracy: 0.5816\n",
      "Epoch 94/500\n",
      "27/27 [==============================] - 0s 10ms/step - loss: 0.9079 - accuracy: 0.5522 - val_loss: 0.9617 - val_accuracy: 0.5245\n",
      "Epoch 95/500\n",
      "27/27 [==============================] - 0s 10ms/step - loss: 0.9062 - accuracy: 0.5499 - val_loss: 0.9137 - val_accuracy: 0.5204\n",
      "Epoch 96/500\n",
      "27/27 [==============================] - 0s 9ms/step - loss: 0.9019 - accuracy: 0.5540 - val_loss: 0.9009 - val_accuracy: 0.6061\n",
      "Epoch 97/500\n",
      "27/27 [==============================] - 0s 9ms/step - loss: 0.9049 - accuracy: 0.5572 - val_loss: 0.9590 - val_accuracy: 0.5265\n",
      "Epoch 98/500\n",
      "27/27 [==============================] - 0s 9ms/step - loss: 0.9050 - accuracy: 0.5613 - val_loss: 0.8630 - val_accuracy: 0.6102\n",
      "Epoch 99/500\n",
      "27/27 [==============================] - 0s 5ms/step - loss: 0.9148 - accuracy: 0.5484 - val_loss: 0.9901 - val_accuracy: 0.5429\n",
      "Epoch 100/500\n",
      "27/27 [==============================] - 0s 7ms/step - loss: 0.9053 - accuracy: 0.5592 - val_loss: 0.8519 - val_accuracy: 0.5735\n",
      "Epoch 101/500\n",
      "27/27 [==============================] - 0s 9ms/step - loss: 0.9058 - accuracy: 0.5554 - val_loss: 0.8563 - val_accuracy: 0.5796\n",
      "Epoch 102/500\n",
      "27/27 [==============================] - 0s 9ms/step - loss: 0.9040 - accuracy: 0.5575 - val_loss: 0.9669 - val_accuracy: 0.5102\n",
      "Epoch 103/500\n",
      "27/27 [==============================] - 0s 9ms/step - loss: 0.9041 - accuracy: 0.5554 - val_loss: 1.0196 - val_accuracy: 0.5122\n",
      "Epoch 104/500\n",
      "27/27 [==============================] - 0s 8ms/step - loss: 0.9064 - accuracy: 0.5540 - val_loss: 0.9102 - val_accuracy: 0.5653\n",
      "Epoch 105/500\n",
      "27/27 [==============================] - 0s 8ms/step - loss: 0.9117 - accuracy: 0.5403 - val_loss: 0.8662 - val_accuracy: 0.5816\n",
      "Epoch 106/500\n",
      "27/27 [==============================] - 0s 8ms/step - loss: 0.9111 - accuracy: 0.5513 - val_loss: 0.8976 - val_accuracy: 0.5571\n",
      "Epoch 107/500\n",
      "27/27 [==============================] - 0s 8ms/step - loss: 0.9124 - accuracy: 0.5493 - val_loss: 0.8666 - val_accuracy: 0.6122\n",
      "Epoch 108/500\n",
      "27/27 [==============================] - 0s 8ms/step - loss: 0.9086 - accuracy: 0.5566 - val_loss: 0.8879 - val_accuracy: 0.5551\n",
      "Epoch 109/500\n",
      "27/27 [==============================] - 0s 9ms/step - loss: 0.9032 - accuracy: 0.5569 - val_loss: 0.9941 - val_accuracy: 0.5490\n",
      "Epoch 110/500\n",
      "27/27 [==============================] - 0s 9ms/step - loss: 0.9113 - accuracy: 0.5586 - val_loss: 0.9020 - val_accuracy: 0.5306\n",
      "Epoch 111/500\n",
      "27/27 [==============================] - 0s 9ms/step - loss: 0.9039 - accuracy: 0.5540 - val_loss: 0.9483 - val_accuracy: 0.5184\n",
      "Epoch 112/500\n",
      "27/27 [==============================] - 0s 9ms/step - loss: 0.9034 - accuracy: 0.5572 - val_loss: 1.0236 - val_accuracy: 0.4939\n",
      "Epoch 113/500\n",
      "27/27 [==============================] - 0s 9ms/step - loss: 0.9027 - accuracy: 0.5557 - val_loss: 0.9480 - val_accuracy: 0.5306\n",
      "Epoch 114/500\n",
      "27/27 [==============================] - 0s 10ms/step - loss: 0.9097 - accuracy: 0.5543 - val_loss: 0.9836 - val_accuracy: 0.4918\n",
      "Epoch 115/500\n",
      "27/27 [==============================] - 0s 9ms/step - loss: 0.9065 - accuracy: 0.5522 - val_loss: 0.8857 - val_accuracy: 0.5653\n",
      "Epoch 116/500\n"
     ]
    },
    {
     "name": "stdout",
     "output_type": "stream",
     "text": [
      "27/27 [==============================] - 0s 9ms/step - loss: 0.9092 - accuracy: 0.5499 - val_loss: 0.8787 - val_accuracy: 0.6082\n",
      "Epoch 117/500\n",
      "27/27 [==============================] - 0s 9ms/step - loss: 0.9058 - accuracy: 0.5563 - val_loss: 1.0196 - val_accuracy: 0.4939\n",
      "Epoch 118/500\n",
      "27/27 [==============================] - 0s 9ms/step - loss: 0.9018 - accuracy: 0.5546 - val_loss: 0.8848 - val_accuracy: 0.5776\n",
      "Epoch 119/500\n",
      "27/27 [==============================] - 0s 9ms/step - loss: 0.9148 - accuracy: 0.5455 - val_loss: 0.9344 - val_accuracy: 0.5265\n",
      "Epoch 120/500\n",
      "27/27 [==============================] - 0s 9ms/step - loss: 0.9068 - accuracy: 0.5624 - val_loss: 0.8924 - val_accuracy: 0.5980\n",
      "Epoch 121/500\n",
      "27/27 [==============================] - 0s 9ms/step - loss: 0.9108 - accuracy: 0.5651 - val_loss: 0.8675 - val_accuracy: 0.5776\n",
      "Epoch 122/500\n",
      "27/27 [==============================] - 0s 10ms/step - loss: 0.9036 - accuracy: 0.5598 - val_loss: 0.8929 - val_accuracy: 0.5469\n",
      "Epoch 123/500\n",
      "27/27 [==============================] - 0s 5ms/step - loss: 0.9037 - accuracy: 0.5589 - val_loss: 0.9417 - val_accuracy: 0.5449\n",
      "Epoch 124/500\n",
      "27/27 [==============================] - 0s 9ms/step - loss: 0.9064 - accuracy: 0.5528 - val_loss: 0.9330 - val_accuracy: 0.5510\n",
      "Epoch 125/500\n",
      "27/27 [==============================] - 0s 9ms/step - loss: 0.9025 - accuracy: 0.5554 - val_loss: 0.8889 - val_accuracy: 0.5449\n",
      "Epoch 126/500\n",
      "27/27 [==============================] - 0s 9ms/step - loss: 0.9073 - accuracy: 0.5525 - val_loss: 0.9535 - val_accuracy: 0.5224\n",
      "Epoch 127/500\n",
      "27/27 [==============================] - 0s 9ms/step - loss: 0.9114 - accuracy: 0.5525 - val_loss: 0.8899 - val_accuracy: 0.5673\n",
      "Epoch 128/500\n",
      "27/27 [==============================] - 0s 9ms/step - loss: 0.9060 - accuracy: 0.5537 - val_loss: 0.8703 - val_accuracy: 0.6082\n",
      "Epoch 129/500\n",
      "27/27 [==============================] - 0s 9ms/step - loss: 0.9039 - accuracy: 0.5575 - val_loss: 0.9205 - val_accuracy: 0.5388\n",
      "Epoch 130/500\n",
      "27/27 [==============================] - 0s 5ms/step - loss: 0.9135 - accuracy: 0.5496 - val_loss: 1.0180 - val_accuracy: 0.5204\n",
      "Epoch 131/500\n",
      "27/27 [==============================] - 0s 10ms/step - loss: 0.9061 - accuracy: 0.5607 - val_loss: 0.8805 - val_accuracy: 0.5959\n",
      "Epoch 132/500\n",
      "27/27 [==============================] - 0s 9ms/step - loss: 0.8983 - accuracy: 0.5557 - val_loss: 0.8875 - val_accuracy: 0.5388\n",
      "Epoch 133/500\n",
      "27/27 [==============================] - 0s 9ms/step - loss: 0.9082 - accuracy: 0.5560 - val_loss: 0.8834 - val_accuracy: 0.5531\n",
      "Epoch 134/500\n",
      "27/27 [==============================] - 0s 9ms/step - loss: 0.9073 - accuracy: 0.5511 - val_loss: 0.8837 - val_accuracy: 0.5673\n",
      "Epoch 135/500\n",
      "27/27 [==============================] - 0s 9ms/step - loss: 0.9088 - accuracy: 0.5473 - val_loss: 0.9532 - val_accuracy: 0.5041\n",
      "Epoch 136/500\n",
      "27/27 [==============================] - 0s 9ms/step - loss: 0.9092 - accuracy: 0.5551 - val_loss: 1.1102 - val_accuracy: 0.4653\n",
      "Epoch 137/500\n",
      "27/27 [==============================] - 0s 9ms/step - loss: 0.9067 - accuracy: 0.5589 - val_loss: 0.8954 - val_accuracy: 0.5592\n",
      "Epoch 138/500\n",
      "27/27 [==============================] - 0s 9ms/step - loss: 0.9032 - accuracy: 0.5613 - val_loss: 0.8654 - val_accuracy: 0.5796\n",
      "Epoch 139/500\n",
      "27/27 [==============================] - 0s 9ms/step - loss: 0.9022 - accuracy: 0.5502 - val_loss: 0.8586 - val_accuracy: 0.5878\n",
      "Epoch 140/500\n",
      "27/27 [==============================] - 0s 9ms/step - loss: 0.9052 - accuracy: 0.5563 - val_loss: 0.9047 - val_accuracy: 0.5551\n",
      "Epoch 141/500\n",
      "27/27 [==============================] - 0s 10ms/step - loss: 0.9058 - accuracy: 0.5586 - val_loss: 0.9553 - val_accuracy: 0.5367\n",
      "Epoch 142/500\n",
      "27/27 [==============================] - 0s 9ms/step - loss: 0.9147 - accuracy: 0.5511 - val_loss: 0.9091 - val_accuracy: 0.5633\n",
      "Epoch 143/500\n",
      "27/27 [==============================] - 0s 9ms/step - loss: 0.9066 - accuracy: 0.5607 - val_loss: 0.8907 - val_accuracy: 0.6000\n",
      "Epoch 144/500\n",
      "27/27 [==============================] - 0s 9ms/step - loss: 0.9101 - accuracy: 0.5575 - val_loss: 0.8945 - val_accuracy: 0.5653\n",
      "Epoch 145/500\n",
      "27/27 [==============================] - 0s 8ms/step - loss: 0.9061 - accuracy: 0.5569 - val_loss: 1.0662 - val_accuracy: 0.4755\n",
      "Epoch 146/500\n",
      "27/27 [==============================] - 0s 10ms/step - loss: 0.9044 - accuracy: 0.5578 - val_loss: 0.9152 - val_accuracy: 0.5551\n",
      "Epoch 147/500\n",
      "27/27 [==============================] - 0s 10ms/step - loss: 0.9120 - accuracy: 0.5493 - val_loss: 0.9536 - val_accuracy: 0.5347\n",
      "Epoch 148/500\n",
      "27/27 [==============================] - 0s 10ms/step - loss: 0.9079 - accuracy: 0.5548 - val_loss: 0.8689 - val_accuracy: 0.5918\n",
      "Epoch 149/500\n",
      "27/27 [==============================] - 0s 10ms/step - loss: 0.9046 - accuracy: 0.5595 - val_loss: 0.8673 - val_accuracy: 0.5837\n",
      "Epoch 150/500\n",
      "27/27 [==============================] - 0s 10ms/step - loss: 0.9080 - accuracy: 0.5490 - val_loss: 0.9047 - val_accuracy: 0.5449\n",
      "Epoch 151/500\n",
      "27/27 [==============================] - 0s 9ms/step - loss: 0.9106 - accuracy: 0.5557 - val_loss: 0.9395 - val_accuracy: 0.5184\n",
      "Epoch 152/500\n",
      "27/27 [==============================] - 0s 9ms/step - loss: 0.9069 - accuracy: 0.5616 - val_loss: 0.8487 - val_accuracy: 0.5755\n",
      "Epoch 153/500\n",
      "27/27 [==============================] - 0s 9ms/step - loss: 0.9062 - accuracy: 0.5575 - val_loss: 0.9317 - val_accuracy: 0.5592\n",
      "Epoch 154/500\n",
      "27/27 [==============================] - 0s 9ms/step - loss: 0.9079 - accuracy: 0.5586 - val_loss: 0.8680 - val_accuracy: 0.5653\n",
      "Epoch 155/500\n",
      "27/27 [==============================] - 0s 9ms/step - loss: 0.9031 - accuracy: 0.5581 - val_loss: 0.8870 - val_accuracy: 0.5245\n",
      "Epoch 156/500\n",
      "27/27 [==============================] - 0s 9ms/step - loss: 0.9065 - accuracy: 0.5551 - val_loss: 0.9879 - val_accuracy: 0.5061\n",
      "Epoch 157/500\n",
      "27/27 [==============================] - 0s 10ms/step - loss: 0.9113 - accuracy: 0.5519 - val_loss: 0.8990 - val_accuracy: 0.5959\n",
      "Epoch 158/500\n",
      "27/27 [==============================] - 0s 9ms/step - loss: 0.9064 - accuracy: 0.5473 - val_loss: 0.9007 - val_accuracy: 0.5898\n",
      "Epoch 159/500\n",
      "27/27 [==============================] - 0s 9ms/step - loss: 0.9025 - accuracy: 0.5627 - val_loss: 0.8653 - val_accuracy: 0.6245\n",
      "Epoch 160/500\n",
      "27/27 [==============================] - 0s 10ms/step - loss: 0.9088 - accuracy: 0.5578 - val_loss: 0.8832 - val_accuracy: 0.5531\n",
      "Epoch 161/500\n",
      "27/27 [==============================] - 0s 10ms/step - loss: 0.9070 - accuracy: 0.5616 - val_loss: 0.9822 - val_accuracy: 0.5143\n",
      "Epoch 162/500\n",
      "27/27 [==============================] - 0s 10ms/step - loss: 0.9069 - accuracy: 0.5499 - val_loss: 1.0115 - val_accuracy: 0.5143\n",
      "Epoch 163/500\n",
      "27/27 [==============================] - 0s 5ms/step - loss: 0.9056 - accuracy: 0.5543 - val_loss: 1.0287 - val_accuracy: 0.4653\n",
      "Epoch 164/500\n",
      "27/27 [==============================] - 0s 2ms/step - loss: 0.9105 - accuracy: 0.5475 - val_loss: 1.0752 - val_accuracy: 0.4571\n",
      "Epoch 165/500\n",
      "27/27 [==============================] - 0s 2ms/step - loss: 0.9084 - accuracy: 0.5572 - val_loss: 0.8704 - val_accuracy: 0.6082\n",
      "Epoch 166/500\n",
      "27/27 [==============================] - 0s 4ms/step - loss: 0.9074 - accuracy: 0.5461 - val_loss: 0.9052 - val_accuracy: 0.5755\n",
      "Epoch 167/500\n",
      "27/27 [==============================] - 0s 8ms/step - loss: 0.9070 - accuracy: 0.5502 - val_loss: 0.8956 - val_accuracy: 0.5571\n",
      "Epoch 168/500\n",
      "27/27 [==============================] - 0s 9ms/step - loss: 0.9097 - accuracy: 0.5505 - val_loss: 0.9054 - val_accuracy: 0.5367\n",
      "Epoch 169/500\n",
      "27/27 [==============================] - 0s 9ms/step - loss: 0.9078 - accuracy: 0.5592 - val_loss: 0.9268 - val_accuracy: 0.5449\n",
      "Epoch 170/500\n",
      "27/27 [==============================] - 0s 8ms/step - loss: 0.9115 - accuracy: 0.5537 - val_loss: 0.8708 - val_accuracy: 0.5367\n",
      "Epoch 171/500\n",
      "27/27 [==============================] - 0s 10ms/step - loss: 0.9047 - accuracy: 0.5624 - val_loss: 0.9358 - val_accuracy: 0.5429\n",
      "Epoch 172/500\n",
      "27/27 [==============================] - 0s 10ms/step - loss: 0.9021 - accuracy: 0.5575 - val_loss: 0.9544 - val_accuracy: 0.4939\n",
      "Epoch 173/500\n"
     ]
    },
    {
     "name": "stdout",
     "output_type": "stream",
     "text": [
      "27/27 [==============================] - 0s 10ms/step - loss: 0.9090 - accuracy: 0.5589 - val_loss: 1.2072 - val_accuracy: 0.3796\n",
      "Epoch 174/500\n",
      "27/27 [==============================] - 0s 11ms/step - loss: 0.9181 - accuracy: 0.5513 - val_loss: 0.8947 - val_accuracy: 0.5633\n",
      "Epoch 175/500\n",
      "27/27 [==============================] - 0s 3ms/step - loss: 0.9065 - accuracy: 0.5578 - val_loss: 0.9969 - val_accuracy: 0.5184\n",
      "Epoch 176/500\n",
      "27/27 [==============================] - 0s 3ms/step - loss: 0.9107 - accuracy: 0.5537 - val_loss: 0.9141 - val_accuracy: 0.5796\n",
      "Epoch 177/500\n",
      "27/27 [==============================] - 0s 5ms/step - loss: 0.9083 - accuracy: 0.5516 - val_loss: 0.8586 - val_accuracy: 0.5980\n",
      "Epoch 178/500\n",
      "27/27 [==============================] - 0s 10ms/step - loss: 0.9153 - accuracy: 0.5475 - val_loss: 0.9477 - val_accuracy: 0.5286\n",
      "Epoch 179/500\n",
      "27/27 [==============================] - 0s 9ms/step - loss: 0.9148 - accuracy: 0.5636 - val_loss: 0.8906 - val_accuracy: 0.5878\n",
      "Epoch 180/500\n",
      "27/27 [==============================] - 0s 10ms/step - loss: 0.9014 - accuracy: 0.5595 - val_loss: 0.8695 - val_accuracy: 0.5265\n",
      "Epoch 181/500\n",
      "27/27 [==============================] - 0s 9ms/step - loss: 0.9016 - accuracy: 0.5618 - val_loss: 0.9035 - val_accuracy: 0.5755\n",
      "Epoch 182/500\n",
      "27/27 [==============================] - 0s 9ms/step - loss: 0.9067 - accuracy: 0.5651 - val_loss: 0.9261 - val_accuracy: 0.5490\n",
      "Epoch 183/500\n",
      "27/27 [==============================] - 0s 9ms/step - loss: 0.9019 - accuracy: 0.5586 - val_loss: 0.9791 - val_accuracy: 0.5469\n",
      "Epoch 184/500\n",
      "27/27 [==============================] - 0s 10ms/step - loss: 0.9082 - accuracy: 0.5534 - val_loss: 1.0081 - val_accuracy: 0.4918\n",
      "Epoch 185/500\n",
      "27/27 [==============================] - 0s 9ms/step - loss: 0.9047 - accuracy: 0.5519 - val_loss: 0.9072 - val_accuracy: 0.5490\n",
      "Epoch 186/500\n",
      "27/27 [==============================] - 0s 9ms/step - loss: 0.9062 - accuracy: 0.5508 - val_loss: 0.8742 - val_accuracy: 0.5898\n",
      "Epoch 187/500\n",
      "27/27 [==============================] - 0s 10ms/step - loss: 0.9040 - accuracy: 0.5572 - val_loss: 0.9407 - val_accuracy: 0.5204\n",
      "Epoch 188/500\n",
      "27/27 [==============================] - 0s 10ms/step - loss: 0.9090 - accuracy: 0.5566 - val_loss: 0.8412 - val_accuracy: 0.6082\n",
      "Epoch 189/500\n",
      "27/27 [==============================] - 0s 4ms/step - loss: 0.9028 - accuracy: 0.5607 - val_loss: 0.8622 - val_accuracy: 0.6122\n",
      "Epoch 190/500\n",
      "27/27 [==============================] - 0s 6ms/step - loss: 0.9059 - accuracy: 0.5484 - val_loss: 0.8487 - val_accuracy: 0.6367\n",
      "Epoch 191/500\n",
      "27/27 [==============================] - 0s 9ms/step - loss: 0.9056 - accuracy: 0.5513 - val_loss: 0.8330 - val_accuracy: 0.6000\n",
      "Epoch 192/500\n",
      "27/27 [==============================] - 0s 10ms/step - loss: 0.9089 - accuracy: 0.5581 - val_loss: 0.8541 - val_accuracy: 0.5837\n",
      "Epoch 193/500\n",
      "27/27 [==============================] - 0s 10ms/step - loss: 0.9058 - accuracy: 0.5554 - val_loss: 0.9284 - val_accuracy: 0.5551\n",
      "Epoch 194/500\n",
      "27/27 [==============================] - 0s 10ms/step - loss: 0.8990 - accuracy: 0.5557 - val_loss: 0.9858 - val_accuracy: 0.5612\n",
      "Epoch 195/500\n",
      "27/27 [==============================] - 0s 10ms/step - loss: 0.9076 - accuracy: 0.5560 - val_loss: 0.9527 - val_accuracy: 0.5204\n",
      "Epoch 196/500\n",
      "27/27 [==============================] - 0s 10ms/step - loss: 0.9076 - accuracy: 0.5607 - val_loss: 0.8945 - val_accuracy: 0.5714\n",
      "Epoch 197/500\n",
      "27/27 [==============================] - 0s 11ms/step - loss: 0.9011 - accuracy: 0.5633 - val_loss: 0.8724 - val_accuracy: 0.6306\n",
      "Epoch 198/500\n",
      "27/27 [==============================] - 0s 10ms/step - loss: 0.9083 - accuracy: 0.5540 - val_loss: 0.9569 - val_accuracy: 0.5571\n",
      "Epoch 199/500\n",
      "27/27 [==============================] - 0s 11ms/step - loss: 0.9064 - accuracy: 0.5566 - val_loss: 0.8754 - val_accuracy: 0.5633\n",
      "Epoch 200/500\n",
      "27/27 [==============================] - 0s 2ms/step - loss: 0.9075 - accuracy: 0.5569 - val_loss: 0.9488 - val_accuracy: 0.5571\n",
      "Epoch 201/500\n",
      "27/27 [==============================] - 0s 4ms/step - loss: 0.9017 - accuracy: 0.5566 - val_loss: 0.9370 - val_accuracy: 0.5571\n",
      "Epoch 202/500\n",
      "27/27 [==============================] - 0s 9ms/step - loss: 0.9079 - accuracy: 0.5589 - val_loss: 0.8641 - val_accuracy: 0.5857\n",
      "Epoch 203/500\n",
      "27/27 [==============================] - 0s 9ms/step - loss: 0.9149 - accuracy: 0.5478 - val_loss: 1.1076 - val_accuracy: 0.4449\n",
      "Epoch 204/500\n",
      "27/27 [==============================] - 0s 9ms/step - loss: 0.8976 - accuracy: 0.5703 - val_loss: 0.9153 - val_accuracy: 0.5429\n",
      "Epoch 205/500\n",
      "27/27 [==============================] - 0s 9ms/step - loss: 0.9014 - accuracy: 0.5618 - val_loss: 0.9103 - val_accuracy: 0.5388\n",
      "Epoch 206/500\n",
      "27/27 [==============================] - 0s 9ms/step - loss: 0.9029 - accuracy: 0.5502 - val_loss: 0.9443 - val_accuracy: 0.5306\n",
      "Epoch 207/500\n",
      "27/27 [==============================] - 0s 9ms/step - loss: 0.9173 - accuracy: 0.5543 - val_loss: 0.9579 - val_accuracy: 0.5020\n",
      "Epoch 208/500\n",
      "27/27 [==============================] - 0s 9ms/step - loss: 0.9060 - accuracy: 0.5470 - val_loss: 0.9706 - val_accuracy: 0.5184\n",
      "Epoch 209/500\n",
      "27/27 [==============================] - 0s 8ms/step - loss: 0.9095 - accuracy: 0.5607 - val_loss: 1.0919 - val_accuracy: 0.4673\n",
      "Epoch 210/500\n",
      "27/27 [==============================] - 0s 8ms/step - loss: 0.8938 - accuracy: 0.5636 - val_loss: 0.8948 - val_accuracy: 0.5816\n",
      "Epoch 211/500\n",
      "27/27 [==============================] - 0s 8ms/step - loss: 0.9078 - accuracy: 0.5601 - val_loss: 0.8498 - val_accuracy: 0.5755\n",
      "Epoch 212/500\n",
      "27/27 [==============================] - 0s 8ms/step - loss: 0.9004 - accuracy: 0.5560 - val_loss: 0.8867 - val_accuracy: 0.5673\n",
      "Epoch 213/500\n",
      "27/27 [==============================] - 0s 8ms/step - loss: 0.9054 - accuracy: 0.5563 - val_loss: 0.9365 - val_accuracy: 0.5714\n",
      "Epoch 214/500\n",
      "27/27 [==============================] - 0s 8ms/step - loss: 0.9088 - accuracy: 0.5528 - val_loss: 0.8854 - val_accuracy: 0.5878\n",
      "Epoch 215/500\n",
      "27/27 [==============================] - 0s 8ms/step - loss: 0.9002 - accuracy: 0.5560 - val_loss: 0.8775 - val_accuracy: 0.5694\n",
      "Epoch 216/500\n",
      "27/27 [==============================] - 0s 8ms/step - loss: 0.8980 - accuracy: 0.5502 - val_loss: 0.9186 - val_accuracy: 0.5980\n",
      "Epoch 217/500\n",
      "27/27 [==============================] - 0s 9ms/step - loss: 0.9070 - accuracy: 0.5560 - val_loss: 0.9513 - val_accuracy: 0.5388\n",
      "Epoch 218/500\n",
      "27/27 [==============================] - 0s 9ms/step - loss: 0.9068 - accuracy: 0.5563 - val_loss: 0.9684 - val_accuracy: 0.5204\n",
      "Epoch 219/500\n",
      "27/27 [==============================] - 0s 8ms/step - loss: 0.9058 - accuracy: 0.5528 - val_loss: 0.9836 - val_accuracy: 0.5122\n",
      "Epoch 220/500\n",
      "27/27 [==============================] - 0s 8ms/step - loss: 0.9046 - accuracy: 0.5528 - val_loss: 0.9314 - val_accuracy: 0.5367\n",
      "Epoch 221/500\n",
      "27/27 [==============================] - 0s 8ms/step - loss: 0.9131 - accuracy: 0.5668 - val_loss: 0.9158 - val_accuracy: 0.5388\n",
      "Epoch 222/500\n",
      "27/27 [==============================] - 0s 8ms/step - loss: 0.9031 - accuracy: 0.5639 - val_loss: 0.9385 - val_accuracy: 0.5122\n",
      "Epoch 223/500\n",
      "27/27 [==============================] - 0s 8ms/step - loss: 0.9064 - accuracy: 0.5592 - val_loss: 0.8628 - val_accuracy: 0.5531\n",
      "Epoch 224/500\n",
      "27/27 [==============================] - 0s 8ms/step - loss: 0.9004 - accuracy: 0.5616 - val_loss: 0.9427 - val_accuracy: 0.5245\n",
      "Epoch 225/500\n",
      "27/27 [==============================] - 0s 9ms/step - loss: 0.9016 - accuracy: 0.5618 - val_loss: 0.9709 - val_accuracy: 0.5041\n",
      "Epoch 226/500\n",
      "27/27 [==============================] - 0s 9ms/step - loss: 0.9027 - accuracy: 0.5656 - val_loss: 0.9242 - val_accuracy: 0.5633\n",
      "Epoch 227/500\n",
      "27/27 [==============================] - 0s 9ms/step - loss: 0.9059 - accuracy: 0.5543 - val_loss: 0.8732 - val_accuracy: 0.5878\n",
      "Epoch 228/500\n",
      "27/27 [==============================] - 0s 9ms/step - loss: 0.9050 - accuracy: 0.5586 - val_loss: 0.8655 - val_accuracy: 0.5918\n",
      "Epoch 229/500\n",
      "27/27 [==============================] - 0s 9ms/step - loss: 0.8992 - accuracy: 0.5557 - val_loss: 0.9503 - val_accuracy: 0.5265\n",
      "Epoch 230/500\n"
     ]
    },
    {
     "name": "stdout",
     "output_type": "stream",
     "text": [
      "27/27 [==============================] - 0s 9ms/step - loss: 0.9020 - accuracy: 0.5546 - val_loss: 0.9276 - val_accuracy: 0.5408\n",
      "Epoch 231/500\n",
      "27/27 [==============================] - 0s 9ms/step - loss: 0.8965 - accuracy: 0.5598 - val_loss: 0.8734 - val_accuracy: 0.6102\n",
      "Epoch 232/500\n",
      "27/27 [==============================] - 0s 9ms/step - loss: 0.8910 - accuracy: 0.5694 - val_loss: 0.9269 - val_accuracy: 0.5796\n",
      "Epoch 233/500\n",
      "27/27 [==============================] - 0s 10ms/step - loss: 0.9088 - accuracy: 0.5572 - val_loss: 0.9738 - val_accuracy: 0.5265\n",
      "Epoch 234/500\n",
      "27/27 [==============================] - 0s 10ms/step - loss: 0.9065 - accuracy: 0.5624 - val_loss: 1.0201 - val_accuracy: 0.5163\n",
      "Epoch 235/500\n",
      "27/27 [==============================] - 0s 11ms/step - loss: 0.8937 - accuracy: 0.5557 - val_loss: 1.0995 - val_accuracy: 0.4755\n",
      "Epoch 236/500\n",
      "27/27 [==============================] - 0s 10ms/step - loss: 0.9026 - accuracy: 0.5633 - val_loss: 0.9627 - val_accuracy: 0.5286\n",
      "Epoch 237/500\n",
      "27/27 [==============================] - 0s 10ms/step - loss: 0.9013 - accuracy: 0.5610 - val_loss: 0.9326 - val_accuracy: 0.5776\n",
      "Epoch 238/500\n",
      "27/27 [==============================] - 0s 6ms/step - loss: 0.8937 - accuracy: 0.5586 - val_loss: 0.9605 - val_accuracy: 0.5061\n",
      "Epoch 239/500\n",
      "27/27 [==============================] - 0s 2ms/step - loss: 0.8978 - accuracy: 0.5618 - val_loss: 0.9113 - val_accuracy: 0.5633\n",
      "Epoch 240/500\n",
      "27/27 [==============================] - 0s 2ms/step - loss: 0.8987 - accuracy: 0.5686 - val_loss: 0.9852 - val_accuracy: 0.5000\n",
      "Epoch 241/500\n",
      "27/27 [==============================] - 0s 4ms/step - loss: 0.8954 - accuracy: 0.5633 - val_loss: 0.9965 - val_accuracy: 0.5082\n",
      "Epoch 242/500\n",
      "27/27 [==============================] - 0s 8ms/step - loss: 0.9008 - accuracy: 0.5511 - val_loss: 0.9269 - val_accuracy: 0.5388\n",
      "Epoch 243/500\n",
      "27/27 [==============================] - 0s 9ms/step - loss: 0.8971 - accuracy: 0.5662 - val_loss: 0.8685 - val_accuracy: 0.5612\n",
      "Epoch 244/500\n",
      "27/27 [==============================] - 0s 9ms/step - loss: 0.8977 - accuracy: 0.5560 - val_loss: 0.9604 - val_accuracy: 0.5286\n",
      "Epoch 245/500\n",
      "27/27 [==============================] - 0s 9ms/step - loss: 0.8996 - accuracy: 0.5551 - val_loss: 0.9571 - val_accuracy: 0.4878\n",
      "Epoch 246/500\n",
      "27/27 [==============================] - 0s 9ms/step - loss: 0.9005 - accuracy: 0.5648 - val_loss: 1.0754 - val_accuracy: 0.4224\n",
      "Epoch 247/500\n",
      "27/27 [==============================] - 0s 9ms/step - loss: 0.8930 - accuracy: 0.5677 - val_loss: 0.8736 - val_accuracy: 0.5490\n",
      "Epoch 248/500\n",
      "27/27 [==============================] - 0s 9ms/step - loss: 0.8935 - accuracy: 0.5656 - val_loss: 1.1779 - val_accuracy: 0.3918\n",
      "Epoch 249/500\n",
      "27/27 [==============================] - 0s 9ms/step - loss: 0.9015 - accuracy: 0.5581 - val_loss: 0.9318 - val_accuracy: 0.5531\n",
      "Epoch 250/500\n",
      "27/27 [==============================] - 0s 9ms/step - loss: 0.9061 - accuracy: 0.5581 - val_loss: 0.9458 - val_accuracy: 0.5694\n",
      "Epoch 251/500\n",
      "27/27 [==============================] - 0s 9ms/step - loss: 0.8945 - accuracy: 0.5662 - val_loss: 0.9045 - val_accuracy: 0.5612\n",
      "Epoch 252/500\n",
      "27/27 [==============================] - 0s 9ms/step - loss: 0.9001 - accuracy: 0.5607 - val_loss: 1.0095 - val_accuracy: 0.4857\n",
      "Epoch 253/500\n",
      "27/27 [==============================] - 0s 9ms/step - loss: 0.8950 - accuracy: 0.5686 - val_loss: 0.8631 - val_accuracy: 0.6061\n",
      "Epoch 254/500\n",
      "27/27 [==============================] - 0s 9ms/step - loss: 0.9073 - accuracy: 0.5531 - val_loss: 0.8970 - val_accuracy: 0.5755\n",
      "Epoch 255/500\n",
      "27/27 [==============================] - 0s 9ms/step - loss: 0.9106 - accuracy: 0.5508 - val_loss: 0.8622 - val_accuracy: 0.6020\n",
      "Epoch 256/500\n",
      "27/27 [==============================] - 0s 9ms/step - loss: 0.9007 - accuracy: 0.5633 - val_loss: 0.9452 - val_accuracy: 0.5286\n",
      "Epoch 257/500\n",
      "27/27 [==============================] - 0s 10ms/step - loss: 0.8989 - accuracy: 0.5566 - val_loss: 0.9270 - val_accuracy: 0.5714\n",
      "Epoch 258/500\n",
      "27/27 [==============================] - 0s 9ms/step - loss: 0.9019 - accuracy: 0.5677 - val_loss: 0.8887 - val_accuracy: 0.5633\n",
      "Epoch 259/500\n",
      "27/27 [==============================] - 0s 10ms/step - loss: 0.9006 - accuracy: 0.5522 - val_loss: 0.8938 - val_accuracy: 0.5878\n",
      "Epoch 260/500\n",
      "27/27 [==============================] - 0s 9ms/step - loss: 0.8928 - accuracy: 0.5621 - val_loss: 0.9116 - val_accuracy: 0.5551\n",
      "Epoch 261/500\n",
      "27/27 [==============================] - 0s 9ms/step - loss: 0.8997 - accuracy: 0.5589 - val_loss: 0.9803 - val_accuracy: 0.5184\n",
      "Epoch 262/500\n",
      "27/27 [==============================] - 0s 9ms/step - loss: 0.8961 - accuracy: 0.5653 - val_loss: 0.9191 - val_accuracy: 0.5592\n",
      "Epoch 263/500\n",
      "27/27 [==============================] - 0s 9ms/step - loss: 0.8950 - accuracy: 0.5636 - val_loss: 0.9257 - val_accuracy: 0.5408\n",
      "Epoch 264/500\n",
      "27/27 [==============================] - 0s 9ms/step - loss: 0.9098 - accuracy: 0.5575 - val_loss: 0.9450 - val_accuracy: 0.5388\n",
      "Epoch 265/500\n",
      "27/27 [==============================] - 0s 9ms/step - loss: 0.8928 - accuracy: 0.5645 - val_loss: 0.9835 - val_accuracy: 0.4673\n",
      "Epoch 266/500\n",
      "27/27 [==============================] - 0s 9ms/step - loss: 0.9052 - accuracy: 0.5578 - val_loss: 0.8972 - val_accuracy: 0.5735\n",
      "Epoch 267/500\n",
      "27/27 [==============================] - 0s 9ms/step - loss: 0.8988 - accuracy: 0.5563 - val_loss: 1.0928 - val_accuracy: 0.4857\n",
      "Epoch 268/500\n",
      "27/27 [==============================] - 0s 9ms/step - loss: 0.9058 - accuracy: 0.5633 - val_loss: 0.9018 - val_accuracy: 0.5449\n",
      "Epoch 269/500\n",
      "27/27 [==============================] - 0s 4ms/step - loss: 0.9008 - accuracy: 0.5630 - val_loss: 0.8828 - val_accuracy: 0.5816\n",
      "Epoch 270/500\n",
      "27/27 [==============================] - 0s 3ms/step - loss: 0.8998 - accuracy: 0.5598 - val_loss: 0.9214 - val_accuracy: 0.5714\n",
      "Epoch 271/500\n",
      "27/27 [==============================] - 0s 3ms/step - loss: 0.9094 - accuracy: 0.5563 - val_loss: 0.9031 - val_accuracy: 0.5347\n",
      "Epoch 272/500\n",
      "27/27 [==============================] - 0s 3ms/step - loss: 0.9009 - accuracy: 0.5636 - val_loss: 0.8487 - val_accuracy: 0.5714\n",
      "Epoch 273/500\n",
      "27/27 [==============================] - 0s 8ms/step - loss: 0.8964 - accuracy: 0.5575 - val_loss: 0.9228 - val_accuracy: 0.5551\n",
      "Epoch 274/500\n",
      "27/27 [==============================] - 0s 9ms/step - loss: 0.8954 - accuracy: 0.5592 - val_loss: 0.9051 - val_accuracy: 0.5531\n",
      "Epoch 275/500\n",
      "27/27 [==============================] - 0s 9ms/step - loss: 0.8960 - accuracy: 0.5671 - val_loss: 0.9168 - val_accuracy: 0.5571\n",
      "Epoch 276/500\n",
      "27/27 [==============================] - 0s 9ms/step - loss: 0.9070 - accuracy: 0.5537 - val_loss: 0.9831 - val_accuracy: 0.5367\n",
      "Epoch 277/500\n",
      "27/27 [==============================] - 0s 9ms/step - loss: 0.8985 - accuracy: 0.5645 - val_loss: 0.8955 - val_accuracy: 0.5714\n",
      "Epoch 278/500\n",
      "27/27 [==============================] - 0s 9ms/step - loss: 0.8948 - accuracy: 0.5642 - val_loss: 0.9251 - val_accuracy: 0.5347\n",
      "Epoch 279/500\n",
      "27/27 [==============================] - 0s 9ms/step - loss: 0.9034 - accuracy: 0.5674 - val_loss: 0.9629 - val_accuracy: 0.5143\n",
      "Epoch 280/500\n",
      "27/27 [==============================] - 0s 9ms/step - loss: 0.9024 - accuracy: 0.5697 - val_loss: 0.8570 - val_accuracy: 0.6143\n",
      "Epoch 281/500\n",
      "27/27 [==============================] - 0s 10ms/step - loss: 0.8986 - accuracy: 0.5563 - val_loss: 0.8483 - val_accuracy: 0.5837\n",
      "Epoch 282/500\n",
      "27/27 [==============================] - 0s 9ms/step - loss: 0.8951 - accuracy: 0.5589 - val_loss: 0.9143 - val_accuracy: 0.6020\n",
      "Epoch 283/500\n",
      "27/27 [==============================] - 0s 9ms/step - loss: 0.8929 - accuracy: 0.5583 - val_loss: 1.0044 - val_accuracy: 0.5102\n",
      "Epoch 284/500\n",
      "27/27 [==============================] - 0s 9ms/step - loss: 0.8995 - accuracy: 0.5595 - val_loss: 0.9108 - val_accuracy: 0.5388\n",
      "Epoch 285/500\n",
      "27/27 [==============================] - 0s 9ms/step - loss: 0.9067 - accuracy: 0.5478 - val_loss: 0.9531 - val_accuracy: 0.5286\n",
      "Epoch 286/500\n",
      "27/27 [==============================] - 0s 9ms/step - loss: 0.9036 - accuracy: 0.5680 - val_loss: 0.9057 - val_accuracy: 0.5694\n",
      "Epoch 287/500\n"
     ]
    },
    {
     "name": "stdout",
     "output_type": "stream",
     "text": [
      "27/27 [==============================] - 0s 9ms/step - loss: 0.9001 - accuracy: 0.5583 - val_loss: 0.9070 - val_accuracy: 0.5510\n",
      "Epoch 288/500\n",
      "27/27 [==============================] - 0s 9ms/step - loss: 0.9045 - accuracy: 0.5616 - val_loss: 0.9061 - val_accuracy: 0.5551\n",
      "Epoch 289/500\n",
      "27/27 [==============================] - 0s 9ms/step - loss: 0.8993 - accuracy: 0.5645 - val_loss: 0.9547 - val_accuracy: 0.4918\n",
      "Epoch 290/500\n",
      "27/27 [==============================] - 0s 9ms/step - loss: 0.8879 - accuracy: 0.5598 - val_loss: 0.9377 - val_accuracy: 0.5286\n",
      "Epoch 291/500\n",
      "27/27 [==============================] - 0s 9ms/step - loss: 0.8897 - accuracy: 0.5703 - val_loss: 0.9246 - val_accuracy: 0.5245\n",
      "Epoch 292/500\n",
      "27/27 [==============================] - 0s 10ms/step - loss: 0.8928 - accuracy: 0.5575 - val_loss: 0.9222 - val_accuracy: 0.5531\n",
      "Epoch 293/500\n",
      "27/27 [==============================] - 0s 10ms/step - loss: 0.9004 - accuracy: 0.5546 - val_loss: 0.8772 - val_accuracy: 0.5653\n",
      "Epoch 294/500\n",
      "27/27 [==============================] - 0s 9ms/step - loss: 0.9026 - accuracy: 0.5616 - val_loss: 0.9425 - val_accuracy: 0.5469\n",
      "Epoch 295/500\n",
      "27/27 [==============================] - 0s 9ms/step - loss: 0.8910 - accuracy: 0.5688 - val_loss: 0.9134 - val_accuracy: 0.5388\n",
      "Epoch 296/500\n",
      "27/27 [==============================] - 0s 9ms/step - loss: 0.8886 - accuracy: 0.5674 - val_loss: 0.9099 - val_accuracy: 0.5204\n",
      "Epoch 297/500\n",
      "27/27 [==============================] - 0s 8ms/step - loss: 0.8931 - accuracy: 0.5589 - val_loss: 1.1294 - val_accuracy: 0.4367\n",
      "Epoch 298/500\n",
      "27/27 [==============================] - 0s 2ms/step - loss: 0.9027 - accuracy: 0.5601 - val_loss: 0.8646 - val_accuracy: 0.5857\n",
      "Epoch 299/500\n",
      "27/27 [==============================] - 0s 4ms/step - loss: 0.8986 - accuracy: 0.5651 - val_loss: 0.9007 - val_accuracy: 0.6082\n",
      "Epoch 300/500\n",
      "27/27 [==============================] - 0s 4ms/step - loss: 0.8981 - accuracy: 0.5572 - val_loss: 0.9286 - val_accuracy: 0.5245\n",
      "Epoch 301/500\n",
      "27/27 [==============================] - 0s 11ms/step - loss: 0.8909 - accuracy: 0.5601 - val_loss: 0.9666 - val_accuracy: 0.5020\n",
      "Epoch 302/500\n",
      "27/27 [==============================] - 0s 2ms/step - loss: 0.8963 - accuracy: 0.5563 - val_loss: 0.8703 - val_accuracy: 0.5857\n",
      "Epoch 303/500\n",
      "27/27 [==============================] - 0s 2ms/step - loss: 0.8984 - accuracy: 0.5651 - val_loss: 0.8809 - val_accuracy: 0.5633\n",
      "Epoch 304/500\n",
      "27/27 [==============================] - 0s 3ms/step - loss: 0.9056 - accuracy: 0.5624 - val_loss: 0.9854 - val_accuracy: 0.5184\n",
      "Epoch 305/500\n",
      "27/27 [==============================] - 0s 3ms/step - loss: 0.8977 - accuracy: 0.5598 - val_loss: 0.9916 - val_accuracy: 0.4918\n",
      "Epoch 306/500\n",
      "27/27 [==============================] - 0s 3ms/step - loss: 0.8987 - accuracy: 0.5610 - val_loss: 0.9403 - val_accuracy: 0.5857\n",
      "Epoch 307/500\n",
      "27/27 [==============================] - 0s 9ms/step - loss: 0.8883 - accuracy: 0.5601 - val_loss: 1.0579 - val_accuracy: 0.4531\n",
      "Epoch 308/500\n",
      "27/27 [==============================] - 0s 4ms/step - loss: 0.9048 - accuracy: 0.5592 - val_loss: 0.8760 - val_accuracy: 0.5653\n",
      "Epoch 309/500\n",
      "27/27 [==============================] - 0s 6ms/step - loss: 0.8988 - accuracy: 0.5560 - val_loss: 0.9019 - val_accuracy: 0.5837\n",
      "Epoch 310/500\n",
      "27/27 [==============================] - 0s 6ms/step - loss: 0.9036 - accuracy: 0.5668 - val_loss: 0.8888 - val_accuracy: 0.5490\n",
      "Epoch 311/500\n",
      "27/27 [==============================] - 0s 3ms/step - loss: 0.8894 - accuracy: 0.5656 - val_loss: 1.0468 - val_accuracy: 0.4429\n",
      "Epoch 312/500\n",
      "27/27 [==============================] - 0s 10ms/step - loss: 0.8993 - accuracy: 0.5688 - val_loss: 0.8703 - val_accuracy: 0.5959\n",
      "Epoch 313/500\n",
      "27/27 [==============================] - 0s 2ms/step - loss: 0.9041 - accuracy: 0.5516 - val_loss: 0.9359 - val_accuracy: 0.5551\n",
      "Epoch 314/500\n",
      "27/27 [==============================] - 0s 2ms/step - loss: 0.8951 - accuracy: 0.5703 - val_loss: 0.8599 - val_accuracy: 0.5939\n",
      "Epoch 315/500\n",
      "27/27 [==============================] - 0s 3ms/step - loss: 0.9055 - accuracy: 0.5511 - val_loss: 0.9968 - val_accuracy: 0.4898\n",
      "Epoch 316/500\n",
      "27/27 [==============================] - 0s 9ms/step - loss: 0.8917 - accuracy: 0.5686 - val_loss: 0.8962 - val_accuracy: 0.5592\n",
      "Epoch 317/500\n",
      "27/27 [==============================] - 0s 3ms/step - loss: 0.8909 - accuracy: 0.5616 - val_loss: 0.8955 - val_accuracy: 0.5714\n",
      "Epoch 318/500\n",
      "27/27 [==============================] - 0s 3ms/step - loss: 0.8823 - accuracy: 0.5700 - val_loss: 0.9352 - val_accuracy: 0.5796\n",
      "Epoch 319/500\n",
      "27/27 [==============================] - 0s 6ms/step - loss: 0.8968 - accuracy: 0.5613 - val_loss: 0.8957 - val_accuracy: 0.5469\n",
      "Epoch 320/500\n",
      "27/27 [==============================] - 0s 10ms/step - loss: 0.9029 - accuracy: 0.5554 - val_loss: 0.9628 - val_accuracy: 0.5184\n",
      "Epoch 321/500\n",
      "27/27 [==============================] - 0s 8ms/step - loss: 0.8919 - accuracy: 0.5653 - val_loss: 0.9193 - val_accuracy: 0.5816\n",
      "Epoch 322/500\n",
      "27/27 [==============================] - 0s 10ms/step - loss: 0.8958 - accuracy: 0.5560 - val_loss: 0.9312 - val_accuracy: 0.5245\n",
      "Epoch 323/500\n",
      "27/27 [==============================] - 0s 10ms/step - loss: 0.8986 - accuracy: 0.5525 - val_loss: 0.9184 - val_accuracy: 0.5163\n",
      "Epoch 324/500\n",
      "27/27 [==============================] - 0s 4ms/step - loss: 0.9019 - accuracy: 0.5557 - val_loss: 0.9325 - val_accuracy: 0.5429\n",
      "Epoch 325/500\n",
      "27/27 [==============================] - 0s 8ms/step - loss: 0.9001 - accuracy: 0.5651 - val_loss: 0.8736 - val_accuracy: 0.5510\n",
      "Epoch 326/500\n",
      "27/27 [==============================] - 0s 8ms/step - loss: 0.8875 - accuracy: 0.5683 - val_loss: 1.1073 - val_accuracy: 0.4204\n",
      "Epoch 327/500\n",
      "27/27 [==============================] - 0s 9ms/step - loss: 0.9030 - accuracy: 0.5735 - val_loss: 0.8831 - val_accuracy: 0.5857\n",
      "Epoch 328/500\n",
      "27/27 [==============================] - 0s 10ms/step - loss: 0.8969 - accuracy: 0.5633 - val_loss: 0.8712 - val_accuracy: 0.5878\n",
      "Epoch 329/500\n",
      "27/27 [==============================] - 0s 7ms/step - loss: 0.9061 - accuracy: 0.5537 - val_loss: 1.0067 - val_accuracy: 0.5265\n",
      "Epoch 330/500\n",
      "27/27 [==============================] - 0s 9ms/step - loss: 0.8955 - accuracy: 0.5598 - val_loss: 0.9228 - val_accuracy: 0.5224\n",
      "Epoch 331/500\n",
      "27/27 [==============================] - 0s 9ms/step - loss: 0.8985 - accuracy: 0.5569 - val_loss: 0.8886 - val_accuracy: 0.5245\n",
      "Epoch 332/500\n",
      "27/27 [==============================] - 0s 9ms/step - loss: 0.8902 - accuracy: 0.5688 - val_loss: 0.9004 - val_accuracy: 0.5837\n",
      "Epoch 333/500\n",
      "27/27 [==============================] - 0s 9ms/step - loss: 0.8946 - accuracy: 0.5753 - val_loss: 0.9028 - val_accuracy: 0.5327\n",
      "Epoch 334/500\n",
      "27/27 [==============================] - 0s 9ms/step - loss: 0.9002 - accuracy: 0.5581 - val_loss: 1.0298 - val_accuracy: 0.4898\n",
      "Epoch 335/500\n",
      "27/27 [==============================] - 0s 9ms/step - loss: 0.8976 - accuracy: 0.5618 - val_loss: 0.8600 - val_accuracy: 0.5796\n",
      "Epoch 336/500\n",
      "27/27 [==============================] - 0s 2ms/step - loss: 0.8907 - accuracy: 0.5770 - val_loss: 0.8781 - val_accuracy: 0.5388\n",
      "Epoch 337/500\n",
      "27/27 [==============================] - 0s 5ms/step - loss: 0.8935 - accuracy: 0.5598 - val_loss: 0.9929 - val_accuracy: 0.5245\n",
      "Epoch 338/500\n",
      "27/27 [==============================] - 0s 9ms/step - loss: 0.8948 - accuracy: 0.5610 - val_loss: 0.8653 - val_accuracy: 0.5531\n",
      "Epoch 339/500\n",
      "27/27 [==============================] - 0s 9ms/step - loss: 0.8934 - accuracy: 0.5642 - val_loss: 0.9298 - val_accuracy: 0.5367\n",
      "Epoch 340/500\n",
      "27/27 [==============================] - 0s 9ms/step - loss: 0.8965 - accuracy: 0.5616 - val_loss: 0.9305 - val_accuracy: 0.5143\n",
      "Epoch 341/500\n",
      "27/27 [==============================] - 0s 9ms/step - loss: 0.8915 - accuracy: 0.5645 - val_loss: 0.9029 - val_accuracy: 0.5571\n",
      "Epoch 342/500\n",
      "27/27 [==============================] - 0s 9ms/step - loss: 0.8947 - accuracy: 0.5642 - val_loss: 0.9614 - val_accuracy: 0.5163\n",
      "Epoch 343/500\n",
      "27/27 [==============================] - 0s 4ms/step - loss: 0.8997 - accuracy: 0.5551 - val_loss: 0.8633 - val_accuracy: 0.5980\n",
      "Epoch 344/500\n"
     ]
    },
    {
     "name": "stdout",
     "output_type": "stream",
     "text": [
      "27/27 [==============================] - 0s 2ms/step - loss: 0.8884 - accuracy: 0.5627 - val_loss: 1.0084 - val_accuracy: 0.5020\n",
      "Epoch 345/500\n",
      "27/27 [==============================] - 0s 2ms/step - loss: 0.8993 - accuracy: 0.5607 - val_loss: 0.9722 - val_accuracy: 0.5061\n",
      "Epoch 346/500\n",
      "27/27 [==============================] - 0s 3ms/step - loss: 0.8958 - accuracy: 0.5630 - val_loss: 0.8743 - val_accuracy: 0.5653\n",
      "Epoch 347/500\n",
      "27/27 [==============================] - 0s 9ms/step - loss: 0.9004 - accuracy: 0.5677 - val_loss: 1.0358 - val_accuracy: 0.4918\n",
      "Epoch 348/500\n",
      "27/27 [==============================] - 0s 8ms/step - loss: 0.8996 - accuracy: 0.5648 - val_loss: 0.9038 - val_accuracy: 0.5939\n",
      "Epoch 349/500\n",
      "27/27 [==============================] - 0s 2ms/step - loss: 0.9009 - accuracy: 0.5607 - val_loss: 0.8847 - val_accuracy: 0.5694\n",
      "Epoch 350/500\n",
      "27/27 [==============================] - 0s 3ms/step - loss: 0.8880 - accuracy: 0.5686 - val_loss: 0.8600 - val_accuracy: 0.5796\n",
      "Epoch 351/500\n",
      "27/27 [==============================] - 0s 9ms/step - loss: 0.8914 - accuracy: 0.5583 - val_loss: 0.8974 - val_accuracy: 0.5776\n",
      "Epoch 352/500\n",
      "27/27 [==============================] - 0s 7ms/step - loss: 0.8994 - accuracy: 0.5618 - val_loss: 0.9352 - val_accuracy: 0.5082\n",
      "Epoch 353/500\n",
      "27/27 [==============================] - 0s 2ms/step - loss: 0.9067 - accuracy: 0.5548 - val_loss: 0.9188 - val_accuracy: 0.5694\n",
      "Epoch 354/500\n",
      "27/27 [==============================] - 0s 3ms/step - loss: 0.8957 - accuracy: 0.5656 - val_loss: 0.8898 - val_accuracy: 0.6000\n",
      "Epoch 355/500\n",
      "27/27 [==============================] - 0s 2ms/step - loss: 0.8958 - accuracy: 0.5607 - val_loss: 0.9661 - val_accuracy: 0.5204\n",
      "Epoch 356/500\n",
      "27/27 [==============================] - 0s 4ms/step - loss: 0.8973 - accuracy: 0.5653 - val_loss: 0.8516 - val_accuracy: 0.5551\n",
      "Epoch 357/500\n",
      "27/27 [==============================] - 0s 9ms/step - loss: 0.8945 - accuracy: 0.5589 - val_loss: 0.9252 - val_accuracy: 0.5694\n",
      "Epoch 358/500\n",
      "27/27 [==============================] - 0s 9ms/step - loss: 0.8986 - accuracy: 0.5630 - val_loss: 0.9094 - val_accuracy: 0.6163\n",
      "Epoch 359/500\n",
      "27/27 [==============================] - 0s 9ms/step - loss: 0.8946 - accuracy: 0.5583 - val_loss: 0.9460 - val_accuracy: 0.5347\n",
      "Epoch 360/500\n",
      "27/27 [==============================] - 0s 8ms/step - loss: 0.8929 - accuracy: 0.5624 - val_loss: 0.9280 - val_accuracy: 0.5306\n",
      "Epoch 361/500\n",
      "27/27 [==============================] - 0s 2ms/step - loss: 0.8942 - accuracy: 0.5709 - val_loss: 0.9552 - val_accuracy: 0.5694\n",
      "Epoch 362/500\n",
      "27/27 [==============================] - 0s 8ms/step - loss: 0.8979 - accuracy: 0.5613 - val_loss: 0.9062 - val_accuracy: 0.5306\n",
      "Epoch 363/500\n",
      "27/27 [==============================] - 0s 10ms/step - loss: 0.8973 - accuracy: 0.5633 - val_loss: 0.9199 - val_accuracy: 0.5571\n",
      "Epoch 364/500\n",
      "27/27 [==============================] - 0s 8ms/step - loss: 0.9076 - accuracy: 0.5645 - val_loss: 0.8822 - val_accuracy: 0.6061\n",
      "Epoch 365/500\n",
      "27/27 [==============================] - 0s 8ms/step - loss: 0.8860 - accuracy: 0.5744 - val_loss: 0.8956 - val_accuracy: 0.5857\n",
      "Epoch 366/500\n",
      "27/27 [==============================] - 0s 9ms/step - loss: 0.8987 - accuracy: 0.5563 - val_loss: 0.8582 - val_accuracy: 0.5653\n",
      "Epoch 367/500\n",
      "27/27 [==============================] - 0s 9ms/step - loss: 0.8937 - accuracy: 0.5613 - val_loss: 0.8615 - val_accuracy: 0.5449\n",
      "Epoch 368/500\n",
      "27/27 [==============================] - 0s 9ms/step - loss: 0.9017 - accuracy: 0.5639 - val_loss: 0.9362 - val_accuracy: 0.5653\n",
      "Epoch 369/500\n",
      "27/27 [==============================] - 0s 10ms/step - loss: 0.8902 - accuracy: 0.5659 - val_loss: 0.9985 - val_accuracy: 0.5020\n",
      "Epoch 370/500\n",
      "27/27 [==============================] - 0s 5ms/step - loss: 0.8961 - accuracy: 0.5618 - val_loss: 0.9618 - val_accuracy: 0.5122\n",
      "Epoch 371/500\n",
      "27/27 [==============================] - 0s 2ms/step - loss: 0.8979 - accuracy: 0.5610 - val_loss: 0.8284 - val_accuracy: 0.6041\n",
      "Epoch 372/500\n",
      "27/27 [==============================] - 0s 2ms/step - loss: 0.8929 - accuracy: 0.5656 - val_loss: 0.9491 - val_accuracy: 0.4980\n",
      "Epoch 373/500\n",
      "27/27 [==============================] - 0s 4ms/step - loss: 0.8949 - accuracy: 0.5636 - val_loss: 0.8908 - val_accuracy: 0.5592\n",
      "Epoch 374/500\n",
      "27/27 [==============================] - 0s 2ms/step - loss: 0.8931 - accuracy: 0.5671 - val_loss: 0.9558 - val_accuracy: 0.5388\n",
      "Epoch 375/500\n",
      "27/27 [==============================] - 0s 6ms/step - loss: 0.9010 - accuracy: 0.5525 - val_loss: 0.9251 - val_accuracy: 0.5143\n",
      "Epoch 376/500\n",
      "27/27 [==============================] - 0s 7ms/step - loss: 0.8876 - accuracy: 0.5592 - val_loss: 0.8889 - val_accuracy: 0.5673\n",
      "Epoch 377/500\n",
      "27/27 [==============================] - 0s 3ms/step - loss: 0.8923 - accuracy: 0.5747 - val_loss: 0.8508 - val_accuracy: 0.5878\n",
      "Epoch 378/500\n",
      "27/27 [==============================] - 0s 2ms/step - loss: 0.8994 - accuracy: 0.5683 - val_loss: 0.9344 - val_accuracy: 0.5510\n",
      "Epoch 379/500\n",
      "27/27 [==============================] - 0s 4ms/step - loss: 0.9014 - accuracy: 0.5616 - val_loss: 0.9068 - val_accuracy: 0.5429\n",
      "Epoch 380/500\n",
      "27/27 [==============================] - 0s 7ms/step - loss: 0.8902 - accuracy: 0.5586 - val_loss: 0.8615 - val_accuracy: 0.5837\n",
      "Epoch 381/500\n",
      "27/27 [==============================] - 0s 4ms/step - loss: 0.8931 - accuracy: 0.5671 - val_loss: 0.9444 - val_accuracy: 0.5224\n",
      "Epoch 382/500\n",
      "27/27 [==============================] - 0s 2ms/step - loss: 0.8958 - accuracy: 0.5691 - val_loss: 1.0107 - val_accuracy: 0.4776\n",
      "Epoch 383/500\n",
      "27/27 [==============================] - 0s 2ms/step - loss: 0.8902 - accuracy: 0.5729 - val_loss: 0.9316 - val_accuracy: 0.5265\n",
      "Epoch 384/500\n",
      "27/27 [==============================] - 0s 3ms/step - loss: 0.9011 - accuracy: 0.5656 - val_loss: 0.8608 - val_accuracy: 0.5673\n",
      "Epoch 385/500\n",
      "27/27 [==============================] - 0s 9ms/step - loss: 0.9049 - accuracy: 0.5563 - val_loss: 0.9611 - val_accuracy: 0.5061\n",
      "Epoch 386/500\n",
      "27/27 [==============================] - 0s 8ms/step - loss: 0.8990 - accuracy: 0.5543 - val_loss: 1.0377 - val_accuracy: 0.4796\n",
      "Epoch 387/500\n",
      "27/27 [==============================] - 0s 3ms/step - loss: 0.8994 - accuracy: 0.5551 - val_loss: 0.9131 - val_accuracy: 0.6041\n",
      "Epoch 388/500\n",
      "27/27 [==============================] - 0s 2ms/step - loss: 0.8937 - accuracy: 0.5706 - val_loss: 0.9126 - val_accuracy: 0.5388\n",
      "Epoch 389/500\n",
      "27/27 [==============================] - 0s 4ms/step - loss: 0.8887 - accuracy: 0.5753 - val_loss: 0.9472 - val_accuracy: 0.5653\n",
      "Epoch 390/500\n",
      "27/27 [==============================] - 0s 10ms/step - loss: 0.8967 - accuracy: 0.5671 - val_loss: 0.9020 - val_accuracy: 0.5388\n",
      "Epoch 391/500\n",
      "27/27 [==============================] - 0s 5ms/step - loss: 0.8949 - accuracy: 0.5665 - val_loss: 0.8817 - val_accuracy: 0.5796\n",
      "Epoch 392/500\n",
      "27/27 [==============================] - 0s 5ms/step - loss: 0.8965 - accuracy: 0.5662 - val_loss: 0.8503 - val_accuracy: 0.5796\n",
      "Epoch 393/500\n",
      "27/27 [==============================] - 0s 9ms/step - loss: 0.9098 - accuracy: 0.5557 - val_loss: 1.0180 - val_accuracy: 0.5082\n",
      "Epoch 394/500\n",
      "27/27 [==============================] - 0s 8ms/step - loss: 0.8979 - accuracy: 0.5662 - val_loss: 0.9792 - val_accuracy: 0.5020\n",
      "Epoch 395/500\n",
      "27/27 [==============================] - 0s 10ms/step - loss: 0.8862 - accuracy: 0.5595 - val_loss: 0.9266 - val_accuracy: 0.5490\n",
      "Epoch 396/500\n",
      "27/27 [==============================] - 0s 10ms/step - loss: 0.9027 - accuracy: 0.5607 - val_loss: 0.8815 - val_accuracy: 0.5878\n",
      "Epoch 397/500\n",
      "27/27 [==============================] - 0s 9ms/step - loss: 0.8906 - accuracy: 0.5694 - val_loss: 1.2241 - val_accuracy: 0.3306\n",
      "Epoch 398/500\n",
      "27/27 [==============================] - 0s 9ms/step - loss: 0.9035 - accuracy: 0.5598 - val_loss: 0.9342 - val_accuracy: 0.5551\n",
      "Epoch 399/500\n",
      "27/27 [==============================] - 0s 9ms/step - loss: 0.8910 - accuracy: 0.5709 - val_loss: 0.9500 - val_accuracy: 0.4980\n",
      "Epoch 400/500\n",
      "27/27 [==============================] - 0s 4ms/step - loss: 0.8867 - accuracy: 0.5630 - val_loss: 0.9480 - val_accuracy: 0.5347\n",
      "Epoch 401/500\n"
     ]
    },
    {
     "name": "stdout",
     "output_type": "stream",
     "text": [
      "27/27 [==============================] - 0s 12ms/step - loss: 0.8999 - accuracy: 0.5569 - val_loss: 0.9434 - val_accuracy: 0.5653\n",
      "Epoch 402/500\n",
      "27/27 [==============================] - 0s 9ms/step - loss: 0.8955 - accuracy: 0.5642 - val_loss: 0.8887 - val_accuracy: 0.5776\n",
      "Epoch 403/500\n",
      "27/27 [==============================] - 0s 8ms/step - loss: 0.9120 - accuracy: 0.5578 - val_loss: 1.0460 - val_accuracy: 0.4898\n",
      "Epoch 404/500\n",
      "27/27 [==============================] - 0s 2ms/step - loss: 0.9022 - accuracy: 0.5575 - val_loss: 0.8997 - val_accuracy: 0.5449\n",
      "Epoch 405/500\n",
      "27/27 [==============================] - 0s 2ms/step - loss: 0.8902 - accuracy: 0.5706 - val_loss: 0.8622 - val_accuracy: 0.5857\n",
      "Epoch 406/500\n",
      "27/27 [==============================] - 0s 6ms/step - loss: 0.9004 - accuracy: 0.5601 - val_loss: 0.8529 - val_accuracy: 0.5490\n",
      "Epoch 407/500\n",
      "27/27 [==============================] - 0s 9ms/step - loss: 0.8858 - accuracy: 0.5715 - val_loss: 0.9505 - val_accuracy: 0.5061\n",
      "Epoch 408/500\n",
      "27/27 [==============================] - 0s 4ms/step - loss: 0.8893 - accuracy: 0.5639 - val_loss: 1.0262 - val_accuracy: 0.4878\n",
      "Epoch 409/500\n",
      "27/27 [==============================] - 0s 2ms/step - loss: 0.8970 - accuracy: 0.5674 - val_loss: 0.8943 - val_accuracy: 0.5122\n",
      "Epoch 410/500\n",
      "27/27 [==============================] - 0s 5ms/step - loss: 0.8961 - accuracy: 0.5677 - val_loss: 0.8671 - val_accuracy: 0.5551\n",
      "Epoch 411/500\n",
      "27/27 [==============================] - 0s 9ms/step - loss: 0.8942 - accuracy: 0.5656 - val_loss: 0.9033 - val_accuracy: 0.5714\n",
      "Epoch 412/500\n",
      "27/27 [==============================] - 0s 6ms/step - loss: 0.8995 - accuracy: 0.5621 - val_loss: 1.0248 - val_accuracy: 0.5020\n",
      "Epoch 413/500\n",
      "27/27 [==============================] - 0s 4ms/step - loss: 0.8917 - accuracy: 0.5616 - val_loss: 0.8917 - val_accuracy: 0.5429\n",
      "Epoch 414/500\n",
      "27/27 [==============================] - 0s 2ms/step - loss: 0.8951 - accuracy: 0.5642 - val_loss: 0.8535 - val_accuracy: 0.5673\n",
      "Epoch 415/500\n",
      "27/27 [==============================] - 0s 4ms/step - loss: 0.8972 - accuracy: 0.5610 - val_loss: 0.8677 - val_accuracy: 0.5694\n",
      "Epoch 416/500\n",
      "27/27 [==============================] - 0s 8ms/step - loss: 0.8972 - accuracy: 0.5665 - val_loss: 0.8671 - val_accuracy: 0.6020\n",
      "Epoch 417/500\n",
      "27/27 [==============================] - 0s 9ms/step - loss: 0.8928 - accuracy: 0.5668 - val_loss: 0.9440 - val_accuracy: 0.5694\n",
      "Epoch 418/500\n",
      "27/27 [==============================] - 0s 8ms/step - loss: 0.8880 - accuracy: 0.5691 - val_loss: 0.9573 - val_accuracy: 0.5347\n",
      "Epoch 419/500\n",
      "27/27 [==============================] - 0s 9ms/step - loss: 0.8964 - accuracy: 0.5627 - val_loss: 0.9228 - val_accuracy: 0.5286\n",
      "Epoch 420/500\n",
      "27/27 [==============================] - 0s 8ms/step - loss: 0.8931 - accuracy: 0.5630 - val_loss: 0.9188 - val_accuracy: 0.5429\n",
      "Epoch 421/500\n",
      "27/27 [==============================] - 0s 7ms/step - loss: 0.8904 - accuracy: 0.5700 - val_loss: 0.9234 - val_accuracy: 0.5592\n",
      "Epoch 422/500\n",
      "27/27 [==============================] - 0s 10ms/step - loss: 0.8962 - accuracy: 0.5677 - val_loss: 0.8692 - val_accuracy: 0.5592\n",
      "Epoch 423/500\n",
      "27/27 [==============================] - 0s 9ms/step - loss: 0.8958 - accuracy: 0.5566 - val_loss: 0.9554 - val_accuracy: 0.5163\n",
      "Epoch 424/500\n",
      "27/27 [==============================] - 0s 9ms/step - loss: 0.8981 - accuracy: 0.5651 - val_loss: 1.0049 - val_accuracy: 0.5102\n",
      "Epoch 425/500\n",
      "27/27 [==============================] - 0s 9ms/step - loss: 0.9004 - accuracy: 0.5581 - val_loss: 0.9247 - val_accuracy: 0.5184\n",
      "Epoch 426/500\n",
      "27/27 [==============================] - 0s 9ms/step - loss: 0.8947 - accuracy: 0.5723 - val_loss: 0.9255 - val_accuracy: 0.5653\n",
      "Epoch 427/500\n",
      "27/27 [==============================] - 0s 9ms/step - loss: 0.9072 - accuracy: 0.5621 - val_loss: 0.8760 - val_accuracy: 0.5755\n",
      "Epoch 428/500\n",
      "27/27 [==============================] - 0s 9ms/step - loss: 0.8958 - accuracy: 0.5569 - val_loss: 0.9202 - val_accuracy: 0.5327\n",
      "Epoch 429/500\n",
      "27/27 [==============================] - 0s 9ms/step - loss: 0.8945 - accuracy: 0.5723 - val_loss: 1.0139 - val_accuracy: 0.4551\n",
      "Epoch 430/500\n",
      "27/27 [==============================] - 0s 9ms/step - loss: 0.8889 - accuracy: 0.5747 - val_loss: 0.9832 - val_accuracy: 0.5408\n",
      "Epoch 431/500\n",
      "27/27 [==============================] - 0s 9ms/step - loss: 0.9016 - accuracy: 0.5645 - val_loss: 0.8771 - val_accuracy: 0.5571\n",
      "Epoch 432/500\n",
      "27/27 [==============================] - 0s 10ms/step - loss: 0.9021 - accuracy: 0.5630 - val_loss: 1.0418 - val_accuracy: 0.4653\n",
      "Epoch 433/500\n",
      "27/27 [==============================] - 0s 9ms/step - loss: 0.9005 - accuracy: 0.5581 - val_loss: 0.8675 - val_accuracy: 0.5878\n",
      "Epoch 434/500\n",
      "27/27 [==============================] - 0s 9ms/step - loss: 0.8976 - accuracy: 0.5551 - val_loss: 0.9239 - val_accuracy: 0.5347\n",
      "Epoch 435/500\n",
      "27/27 [==============================] - 0s 9ms/step - loss: 0.8899 - accuracy: 0.5566 - val_loss: 0.8560 - val_accuracy: 0.6041\n",
      "Epoch 436/500\n",
      "27/27 [==============================] - 0s 9ms/step - loss: 0.9061 - accuracy: 0.5522 - val_loss: 0.9287 - val_accuracy: 0.5408\n",
      "Epoch 437/500\n",
      "27/27 [==============================] - 0s 9ms/step - loss: 0.8918 - accuracy: 0.5648 - val_loss: 0.9290 - val_accuracy: 0.5898\n",
      "Epoch 438/500\n",
      "27/27 [==============================] - 0s 9ms/step - loss: 0.8924 - accuracy: 0.5700 - val_loss: 0.9411 - val_accuracy: 0.5184\n",
      "Epoch 439/500\n",
      "27/27 [==============================] - 0s 9ms/step - loss: 0.9022 - accuracy: 0.5627 - val_loss: 0.8900 - val_accuracy: 0.5755\n",
      "Epoch 440/500\n",
      "27/27 [==============================] - 0s 9ms/step - loss: 0.8926 - accuracy: 0.5613 - val_loss: 0.8564 - val_accuracy: 0.5980\n",
      "Epoch 441/500\n",
      "27/27 [==============================] - 0s 9ms/step - loss: 0.9022 - accuracy: 0.5639 - val_loss: 0.9980 - val_accuracy: 0.5347\n",
      "Epoch 442/500\n",
      "27/27 [==============================] - 0s 10ms/step - loss: 0.8982 - accuracy: 0.5592 - val_loss: 0.8933 - val_accuracy: 0.5755\n",
      "Epoch 443/500\n",
      "27/27 [==============================] - 0s 8ms/step - loss: 0.8968 - accuracy: 0.5557 - val_loss: 1.0932 - val_accuracy: 0.4694\n",
      "Epoch 444/500\n",
      "27/27 [==============================] - 0s 8ms/step - loss: 0.9013 - accuracy: 0.5630 - val_loss: 1.2464 - val_accuracy: 0.2878\n",
      "Epoch 445/500\n",
      "27/27 [==============================] - 0s 9ms/step - loss: 0.8940 - accuracy: 0.5697 - val_loss: 1.2651 - val_accuracy: 0.2878\n",
      "Epoch 446/500\n",
      "27/27 [==============================] - 0s 8ms/step - loss: 0.8973 - accuracy: 0.5540 - val_loss: 1.3976 - val_accuracy: 0.2878\n",
      "Epoch 447/500\n",
      "27/27 [==============================] - 0s 9ms/step - loss: 0.9007 - accuracy: 0.5572 - val_loss: 1.2907 - val_accuracy: 0.2878\n",
      "Epoch 448/500\n",
      "27/27 [==============================] - 0s 9ms/step - loss: 0.8893 - accuracy: 0.5671 - val_loss: 1.2046 - val_accuracy: 0.3490\n",
      "Epoch 449/500\n",
      "27/27 [==============================] - 0s 9ms/step - loss: 0.9028 - accuracy: 0.5616 - val_loss: 1.0921 - val_accuracy: 0.4306\n",
      "Epoch 450/500\n",
      "27/27 [==============================] - 0s 9ms/step - loss: 0.9013 - accuracy: 0.5516 - val_loss: 0.9400 - val_accuracy: 0.5041\n",
      "Epoch 451/500\n",
      "27/27 [==============================] - 0s 10ms/step - loss: 0.8944 - accuracy: 0.5598 - val_loss: 1.1266 - val_accuracy: 0.4633\n",
      "Epoch 452/500\n",
      "27/27 [==============================] - 0s 8ms/step - loss: 0.8924 - accuracy: 0.5613 - val_loss: 1.0312 - val_accuracy: 0.5061\n",
      "Epoch 453/500\n",
      "27/27 [==============================] - 0s 9ms/step - loss: 0.8897 - accuracy: 0.5700 - val_loss: 1.1939 - val_accuracy: 0.4755\n",
      "Epoch 454/500\n",
      "27/27 [==============================] - 0s 9ms/step - loss: 0.9014 - accuracy: 0.5546 - val_loss: 0.9665 - val_accuracy: 0.4959\n",
      "Epoch 455/500\n",
      "27/27 [==============================] - 0s 8ms/step - loss: 0.8970 - accuracy: 0.5680 - val_loss: 0.9566 - val_accuracy: 0.5000\n",
      "Epoch 456/500\n",
      "27/27 [==============================] - 0s 8ms/step - loss: 0.9013 - accuracy: 0.5572 - val_loss: 1.0097 - val_accuracy: 0.4796\n",
      "Epoch 457/500\n",
      "27/27 [==============================] - 0s 8ms/step - loss: 0.8901 - accuracy: 0.5735 - val_loss: 0.9574 - val_accuracy: 0.5184\n",
      "Epoch 458/500\n"
     ]
    },
    {
     "name": "stdout",
     "output_type": "stream",
     "text": [
      "27/27 [==============================] - 0s 9ms/step - loss: 0.8976 - accuracy: 0.5557 - val_loss: 0.9586 - val_accuracy: 0.5000\n",
      "Epoch 459/500\n",
      "27/27 [==============================] - 0s 9ms/step - loss: 0.8926 - accuracy: 0.5648 - val_loss: 0.9303 - val_accuracy: 0.5327\n",
      "Epoch 460/500\n",
      "27/27 [==============================] - 0s 9ms/step - loss: 0.8952 - accuracy: 0.5648 - val_loss: 0.9128 - val_accuracy: 0.5694\n",
      "Epoch 461/500\n",
      "27/27 [==============================] - 0s 9ms/step - loss: 0.9014 - accuracy: 0.5586 - val_loss: 1.0308 - val_accuracy: 0.4347\n",
      "Epoch 462/500\n",
      "27/27 [==============================] - 0s 9ms/step - loss: 0.8960 - accuracy: 0.5551 - val_loss: 0.9306 - val_accuracy: 0.5327\n",
      "Epoch 463/500\n",
      "27/27 [==============================] - 0s 9ms/step - loss: 0.8870 - accuracy: 0.5592 - val_loss: 1.0081 - val_accuracy: 0.4041\n",
      "Epoch 464/500\n",
      "27/27 [==============================] - 0s 9ms/step - loss: 0.8982 - accuracy: 0.5659 - val_loss: 0.9496 - val_accuracy: 0.5286\n",
      "Epoch 465/500\n",
      "27/27 [==============================] - 0s 9ms/step - loss: 0.8970 - accuracy: 0.5575 - val_loss: 0.9624 - val_accuracy: 0.5020\n",
      "Epoch 466/500\n",
      "27/27 [==============================] - 0s 9ms/step - loss: 0.8971 - accuracy: 0.5601 - val_loss: 0.9208 - val_accuracy: 0.5490\n",
      "Epoch 467/500\n",
      "27/27 [==============================] - 0s 8ms/step - loss: 0.9027 - accuracy: 0.5683 - val_loss: 0.9329 - val_accuracy: 0.5490\n",
      "Epoch 468/500\n",
      "27/27 [==============================] - 0s 9ms/step - loss: 0.9024 - accuracy: 0.5511 - val_loss: 0.9572 - val_accuracy: 0.4857\n",
      "Epoch 469/500\n",
      "27/27 [==============================] - 0s 9ms/step - loss: 0.9073 - accuracy: 0.5671 - val_loss: 0.9818 - val_accuracy: 0.5000\n",
      "Epoch 470/500\n",
      "27/27 [==============================] - 0s 10ms/step - loss: 0.8971 - accuracy: 0.5700 - val_loss: 0.9641 - val_accuracy: 0.5061\n",
      "Epoch 471/500\n",
      "27/27 [==============================] - 0s 9ms/step - loss: 0.8945 - accuracy: 0.5758 - val_loss: 0.8950 - val_accuracy: 0.5633\n",
      "Epoch 472/500\n",
      "27/27 [==============================] - 0s 9ms/step - loss: 0.8995 - accuracy: 0.5694 - val_loss: 1.0209 - val_accuracy: 0.5265\n",
      "Epoch 473/500\n",
      "27/27 [==============================] - 0s 9ms/step - loss: 0.9088 - accuracy: 0.5616 - val_loss: 0.8561 - val_accuracy: 0.5612\n",
      "Epoch 474/500\n",
      "27/27 [==============================] - 0s 9ms/step - loss: 0.8854 - accuracy: 0.5639 - val_loss: 0.9337 - val_accuracy: 0.5102\n",
      "Epoch 475/500\n",
      "27/27 [==============================] - 0s 9ms/step - loss: 0.9054 - accuracy: 0.5691 - val_loss: 1.0614 - val_accuracy: 0.5000\n",
      "Epoch 476/500\n",
      "27/27 [==============================] - 0s 9ms/step - loss: 0.8935 - accuracy: 0.5645 - val_loss: 1.1403 - val_accuracy: 0.4347\n",
      "Epoch 477/500\n",
      "27/27 [==============================] - 0s 9ms/step - loss: 0.8898 - accuracy: 0.5651 - val_loss: 0.8834 - val_accuracy: 0.5327\n",
      "Epoch 478/500\n",
      "27/27 [==============================] - 0s 9ms/step - loss: 0.8988 - accuracy: 0.5671 - val_loss: 0.9385 - val_accuracy: 0.5571\n",
      "Epoch 479/500\n",
      "27/27 [==============================] - 0s 9ms/step - loss: 0.8924 - accuracy: 0.5616 - val_loss: 0.9277 - val_accuracy: 0.5347\n",
      "Epoch 480/500\n",
      "27/27 [==============================] - 0s 4ms/step - loss: 0.8987 - accuracy: 0.5607 - val_loss: 1.1595 - val_accuracy: 0.4061\n",
      "Epoch 481/500\n",
      "27/27 [==============================] - 0s 6ms/step - loss: 0.8986 - accuracy: 0.5633 - val_loss: 1.0815 - val_accuracy: 0.4633\n",
      "Epoch 482/500\n",
      "27/27 [==============================] - 0s 8ms/step - loss: 0.8846 - accuracy: 0.5741 - val_loss: 1.3510 - val_accuracy: 0.3163\n",
      "Epoch 483/500\n",
      "27/27 [==============================] - 0s 8ms/step - loss: 0.8936 - accuracy: 0.5642 - val_loss: 0.8884 - val_accuracy: 0.5571\n",
      "Epoch 484/500\n",
      "27/27 [==============================] - 0s 8ms/step - loss: 0.8971 - accuracy: 0.5651 - val_loss: 0.9350 - val_accuracy: 0.5245\n",
      "Epoch 485/500\n",
      "27/27 [==============================] - 0s 8ms/step - loss: 0.8855 - accuracy: 0.5767 - val_loss: 0.9356 - val_accuracy: 0.5429\n",
      "Epoch 486/500\n",
      "27/27 [==============================] - 0s 9ms/step - loss: 0.8948 - accuracy: 0.5659 - val_loss: 0.8999 - val_accuracy: 0.5837\n",
      "Epoch 487/500\n",
      "27/27 [==============================] - 0s 9ms/step - loss: 0.8965 - accuracy: 0.5677 - val_loss: 0.8998 - val_accuracy: 0.5694\n",
      "Epoch 488/500\n",
      "27/27 [==============================] - 0s 9ms/step - loss: 0.9026 - accuracy: 0.5540 - val_loss: 0.8875 - val_accuracy: 0.5429\n",
      "Epoch 489/500\n",
      "27/27 [==============================] - 0s 9ms/step - loss: 0.8963 - accuracy: 0.5656 - val_loss: 0.9645 - val_accuracy: 0.5122\n",
      "Epoch 490/500\n",
      "27/27 [==============================] - 0s 9ms/step - loss: 0.9056 - accuracy: 0.5618 - val_loss: 0.8911 - val_accuracy: 0.5510\n",
      "Epoch 491/500\n",
      "27/27 [==============================] - 0s 10ms/step - loss: 0.8936 - accuracy: 0.5557 - val_loss: 0.9387 - val_accuracy: 0.5265\n",
      "Epoch 492/500\n",
      "27/27 [==============================] - 0s 5ms/step - loss: 0.8935 - accuracy: 0.5694 - val_loss: 0.9789 - val_accuracy: 0.5020\n",
      "Epoch 493/500\n",
      "27/27 [==============================] - 0s 3ms/step - loss: 0.8940 - accuracy: 0.5688 - val_loss: 0.9125 - val_accuracy: 0.5347\n",
      "Epoch 494/500\n",
      "27/27 [==============================] - 0s 10ms/step - loss: 0.9032 - accuracy: 0.5665 - val_loss: 0.9813 - val_accuracy: 0.5082\n",
      "Epoch 495/500\n",
      "27/27 [==============================] - 0s 9ms/step - loss: 0.8936 - accuracy: 0.5686 - val_loss: 0.9859 - val_accuracy: 0.4939\n",
      "Epoch 496/500\n",
      "27/27 [==============================] - 0s 7ms/step - loss: 0.8932 - accuracy: 0.5592 - val_loss: 0.8954 - val_accuracy: 0.5694\n",
      "Epoch 497/500\n",
      "27/27 [==============================] - 0s 2ms/step - loss: 0.9003 - accuracy: 0.5645 - val_loss: 0.8818 - val_accuracy: 0.6082\n",
      "Epoch 498/500\n",
      "27/27 [==============================] - 0s 9ms/step - loss: 0.8969 - accuracy: 0.5648 - val_loss: 0.9060 - val_accuracy: 0.5327\n",
      "Epoch 499/500\n",
      "27/27 [==============================] - 0s 8ms/step - loss: 0.8996 - accuracy: 0.5662 - val_loss: 0.8753 - val_accuracy: 0.5408\n",
      "Epoch 500/500\n",
      "27/27 [==============================] - 0s 2ms/step - loss: 0.8893 - accuracy: 0.5744 - val_loss: 0.9574 - val_accuracy: 0.5204\n"
     ]
    }
   ],
   "source": [
    "BATCH_SIZE=128\n",
    "EPOCHS=500\n",
    "LEARNING_RATE = 0.05\n",
    "\n",
    "optimizer = Adam(lr=LEARNING_RATE)\n",
    "model.compile(optimizer=optimizer, loss=categorical_crossentropy, metrics=['accuracy'])\n",
    "history = model.fit(x=train_x, y=train_y, validation_split=0.125, batch_size=BATCH_SIZE, epochs=EPOCHS, verbose=1)"
   ]
  },
  {
   "cell_type": "code",
   "execution_count": null,
   "metadata": {
    "colab": {},
    "colab_type": "code",
    "executionInfo": {
     "elapsed": 16998,
     "status": "ok",
     "timestamp": 1593040202051,
     "user": {
      "displayName": "Aleksandar Ivanovski",
      "photoUrl": "https://lh3.googleusercontent.com/a-/AOh14Gg7ux9JHBsU4gyhsUePWAEHf11t6WKjouX0pZalHA=s64",
      "userId": "14221350413211049309"
     },
     "user_tz": -120
    },
    "id": "rojzQEfwoRrX"
   },
   "outputs": [],
   "source": [
    "# Анализа на тренирањето"
   ]
  },
  {
   "cell_type": "markdown",
   "metadata": {
    "colab_type": "text",
    "id": "05QaT33_fRM6"
   },
   "source": [
    "# Анализа на тренирањето"
   ]
  },
  {
   "cell_type": "code",
   "execution_count": null,
   "metadata": {
    "colab": {},
    "colab_type": "code",
    "executionInfo": {
     "elapsed": 13741,
     "status": "ok",
     "timestamp": 1593040160972,
     "user": {
      "displayName": "Aleksandar Ivanovski",
      "photoUrl": "https://lh3.googleusercontent.com/a-/AOh14Gg7ux9JHBsU4gyhsUePWAEHf11t6WKjouX0pZalHA=s64",
      "userId": "14221350413211049309"
     },
     "user_tz": -120
    },
    "id": "AseDPs4JraRA"
   },
   "outputs": [],
   "source": [
    "# TODO: Visualize loss\n",
    "def visualize(metric):\n",
    "    plt.rcParams[\"figure.figsize\"] = (30,10)\n",
    "    plt.plot(history.history[f'{metric}'])\n",
    "    plt.plot(history.history[f'val_{metric}'])\n",
    "    plt.title(f'Model {metric}')\n",
    "    plt.ylabel(f'{metric}')\n",
    "    plt.xlabel('epoch')\n",
    "    plt.legend(['train', 'val'], loc='upper left')\n",
    "    plt.show()"
   ]
  },
  {
   "cell_type": "code",
   "execution_count": null,
   "metadata": {
    "colab": {
     "base_uri": "https://localhost:8080/",
     "height": 346
    },
    "colab_type": "code",
    "executionInfo": {
     "elapsed": 12528,
     "status": "ok",
     "timestamp": 1593040160976,
     "user": {
      "displayName": "Aleksandar Ivanovski",
      "photoUrl": "https://lh3.googleusercontent.com/a-/AOh14Gg7ux9JHBsU4gyhsUePWAEHf11t6WKjouX0pZalHA=s64",
      "userId": "14221350413211049309"
     },
     "user_tz": -120
    },
    "id": "oTHd99-IfY9L",
    "outputId": "aefee15b-2660-46aa-8d3e-9cf8d41795ae"
   },
   "outputs": [],
   "source": [
    "visualize(\"accuracy\")"
   ]
  },
  {
   "cell_type": "code",
   "execution_count": null,
   "metadata": {
    "colab": {
     "base_uri": "https://localhost:8080/",
     "height": 346
    },
    "colab_type": "code",
    "executionInfo": {
     "elapsed": 12993,
     "status": "ok",
     "timestamp": 1593040162063,
     "user": {
      "displayName": "Aleksandar Ivanovski",
      "photoUrl": "https://lh3.googleusercontent.com/a-/AOh14Gg7ux9JHBsU4gyhsUePWAEHf11t6WKjouX0pZalHA=s64",
      "userId": "14221350413211049309"
     },
     "user_tz": -120
    },
    "id": "er74ppDLfbBF",
    "outputId": "e02de284-000a-459a-ec2b-7063f90a9ee6"
   },
   "outputs": [],
   "source": [
    "visualize(\"loss\")"
   ]
  },
  {
   "cell_type": "markdown",
   "metadata": {
    "colab_type": "text",
    "id": "gUvYLa7_PdqY"
   },
   "source": [
    "# Валидација на невронската мрежа врз тест множеството"
   ]
  },
  {
   "cell_type": "code",
   "execution_count": null,
   "metadata": {
    "colab": {
     "base_uri": "https://localhost:8080/",
     "height": 34
    },
    "colab_type": "code",
    "executionInfo": {
     "elapsed": 1495,
     "status": "ok",
     "timestamp": 1593040163632,
     "user": {
      "displayName": "Aleksandar Ivanovski",
      "photoUrl": "https://lh3.googleusercontent.com/a-/AOh14Gg7ux9JHBsU4gyhsUePWAEHf11t6WKjouX0pZalHA=s64",
      "userId": "14221350413211049309"
     },
     "user_tz": -120
    },
    "id": "0P8l-KnBpFrP",
    "outputId": "31b4b67e-f942-46fe-be36-ed1d62e10dba"
   },
   "outputs": [],
   "source": [
    "results_test = model.evaluate(test_x,test_y, batch_size=128)"
   ]
  },
  {
   "cell_type": "markdown",
   "metadata": {
    "colab_type": "text",
    "id": "glRRcfvuPhLz"
   },
   "source": [
    "# Тренирање други класификатори"
   ]
  },
  {
   "cell_type": "code",
   "execution_count": null,
   "metadata": {
    "colab": {},
    "colab_type": "code",
    "executionInfo": {
     "elapsed": 2220,
     "status": "aborted",
     "timestamp": 1593040123194,
     "user": {
      "displayName": "Aleksandar Ivanovski",
      "photoUrl": "https://lh3.googleusercontent.com/a-/AOh14Gg7ux9JHBsU4gyhsUePWAEHf11t6WKjouX0pZalHA=s64",
      "userId": "14221350413211049309"
     },
     "user_tz": -120
    },
    "id": "XaLIcclGqmfS"
   },
   "outputs": [],
   "source": [
    "def one_hot_decode(encoded):\n",
    "  for i in range(0, len(encoded)):\n",
    "    if encoded[i] == 1:\n",
    "      return i\n",
    "  return -1"
   ]
  },
  {
   "cell_type": "code",
   "execution_count": null,
   "metadata": {
    "colab": {},
    "colab_type": "code",
    "executionInfo": {
     "elapsed": 2213,
     "status": "aborted",
     "timestamp": 1593040123196,
     "user": {
      "displayName": "Aleksandar Ivanovski",
      "photoUrl": "https://lh3.googleusercontent.com/a-/AOh14Gg7ux9JHBsU4gyhsUePWAEHf11t6WKjouX0pZalHA=s64",
      "userId": "14221350413211049309"
     },
     "user_tz": -120
    },
    "id": "_3gL08jBq2JE"
   },
   "outputs": [],
   "source": [
    "train_y_decoded = [one_hot_decode(cl) for cl in train_y.tolist()]"
   ]
  },
  {
   "cell_type": "code",
   "execution_count": null,
   "metadata": {
    "colab": {},
    "colab_type": "code",
    "executionInfo": {
     "elapsed": 2191,
     "status": "aborted",
     "timestamp": 1593040123199,
     "user": {
      "displayName": "Aleksandar Ivanovski",
      "photoUrl": "https://lh3.googleusercontent.com/a-/AOh14Gg7ux9JHBsU4gyhsUePWAEHf11t6WKjouX0pZalHA=s64",
      "userId": "14221350413211049309"
     },
     "user_tz": -120
    },
    "id": "7nQaQ-i8pLxZ"
   },
   "outputs": [],
   "source": [
    "k_fold = KFold(n_splits=10, shuffle=True, random_state=0)\n",
    "clf = SVC()\n",
    "scoring = 'accuracy'\n",
    "score = cross_val_score(clf, train_x.tolist(), train_y_decoded, cv=k_fold, n_jobs=1, scoring=scoring)\n",
    "print(\"SVM: {}\".format(round(np.mean(score)*100, 2)))"
   ]
  },
  {
   "cell_type": "code",
   "execution_count": null,
   "metadata": {
    "colab": {},
    "colab_type": "code",
    "executionInfo": {
     "elapsed": 2175,
     "status": "aborted",
     "timestamp": 1593040123202,
     "user": {
      "displayName": "Aleksandar Ivanovski",
      "photoUrl": "https://lh3.googleusercontent.com/a-/AOh14Gg7ux9JHBsU4gyhsUePWAEHf11t6WKjouX0pZalHA=s64",
      "userId": "14221350413211049309"
     },
     "user_tz": -120
    },
    "id": "DrkN71TfcLH8"
   },
   "outputs": [],
   "source": [
    "from sklearn.tree import DecisionTreeClassifier\n",
    "from sklearn.ensemble import RandomForestClassifier\n",
    "\n",
    "dt_clf = DecisionTreeClassifier(criterion='entropy')\n",
    "\n",
    "k_fold = KFold(n_splits=10, shuffle=True)\n",
    "scoring = 'accuracy'\n",
    "score = cross_val_score(dt_clf, train_x.tolist(), train_y_decoded, cv=k_fold, n_jobs=1, scoring=scoring)\n",
    "print(\"Decision Tree: {}\".format(round(np.mean(score)*100, 2)))"
   ]
  },
  {
   "cell_type": "code",
   "execution_count": null,
   "metadata": {
    "colab": {},
    "colab_type": "code",
    "executionInfo": {
     "elapsed": 2161,
     "status": "aborted",
     "timestamp": 1593040123210,
     "user": {
      "displayName": "Aleksandar Ivanovski",
      "photoUrl": "https://lh3.googleusercontent.com/a-/AOh14Gg7ux9JHBsU4gyhsUePWAEHf11t6WKjouX0pZalHA=s64",
      "userId": "14221350413211049309"
     },
     "user_tz": -120
    },
    "id": "WPK6gAtQc0aF"
   },
   "outputs": [],
   "source": [
    "from sklearn.ensemble import RandomForestClassifier\n",
    "\n",
    "rt_clf = RandomForestClassifier(n_estimators=10, criterion='gini')\n",
    "\n",
    "k_fold = KFold(n_splits=10, shuffle=True)\n",
    "scoring = 'accuracy'\n",
    "score = cross_val_score(dt_clf, train_x.tolist(), train_y_decoded, cv=k_fold, n_jobs=1, scoring=scoring)\n",
    "print(\"Random Forest with (100 trees): {}\".format(round(np.mean(score)*100, 2)))"
   ]
  },
  {
   "cell_type": "markdown",
   "metadata": {
    "colab_type": "text",
    "id": "TUsdghscPm7j"
   },
   "source": [
    "# Сумаризација на резултатите од класификаторите"
   ]
  }
 ],
 "metadata": {
  "colab": {
   "authorship_tag": "ABX9TyOruK+LY/HhQOsZ3jZvuPCX",
   "name": "Lab8.ipynb",
   "provenance": [],
   "toc_visible": true
  },
  "kernelspec": {
   "display_name": "Python 3",
   "language": "python",
   "name": "python3"
  },
  "language_info": {
   "codemirror_mode": {
    "name": "ipython",
    "version": 3
   },
   "file_extension": ".py",
   "mimetype": "text/x-python",
   "name": "python",
   "nbconvert_exporter": "python",
   "pygments_lexer": "ipython3",
   "version": "3.8.2"
  }
 },
 "nbformat": 4,
 "nbformat_minor": 1
}
