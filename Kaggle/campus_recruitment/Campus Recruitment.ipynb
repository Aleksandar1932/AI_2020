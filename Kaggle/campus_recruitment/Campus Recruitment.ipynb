{
 "cells": [
  {
   "cell_type": "markdown",
   "metadata": {},
   "source": [
    "# Imports"
   ]
  },
  {
   "cell_type": "code",
   "execution_count": 1,
   "metadata": {},
   "outputs": [],
   "source": [
    "import pandas as pd\n",
    "from matplotlib import pyplot as plt\n",
    "import seaborn as sns"
   ]
  },
  {
   "cell_type": "markdown",
   "metadata": {},
   "source": [
    "# Data import"
   ]
  },
  {
   "cell_type": "code",
   "execution_count": 2,
   "metadata": {},
   "outputs": [],
   "source": [
    "df = pd.read_csv('Placement_Data_Full_Class.csv')"
   ]
  },
  {
   "cell_type": "code",
   "execution_count": 3,
   "metadata": {},
   "outputs": [],
   "source": [
    "df = df.drop(columns=['sl_no'])"
   ]
  },
  {
   "cell_type": "code",
   "execution_count": 4,
   "metadata": {
    "pycharm": {
     "name": "#%%\n"
    }
   },
   "outputs": [
    {
     "data": {
      "text/plain": "  gender  ssc_p    ssc_b  hsc_p    hsc_b     hsc_s  degree_p   degree_t  \\\n0      M  67.00   Others  91.00   Others  Commerce     58.00   Sci&Tech   \n1      M  79.33  Central  78.33   Others   Science     77.48   Sci&Tech   \n2      M  65.00  Central  68.00  Central      Arts     64.00  Comm&Mgmt   \n3      M  56.00  Central  52.00  Central   Science     52.00   Sci&Tech   \n4      M  85.80  Central  73.60  Central  Commerce     73.30  Comm&Mgmt   \n\n  workex  etest_p specialisation  mba_p    salary      status  \n0     No     55.0         Mkt&HR  58.80  270000.0      Placed  \n1    Yes     86.5        Mkt&Fin  66.28  200000.0      Placed  \n2     No     75.0        Mkt&Fin  57.80  250000.0      Placed  \n3     No     66.0         Mkt&HR  59.43       NaN  Not Placed  \n4     No     96.8        Mkt&Fin  55.50  425000.0      Placed  ",
      "text/html": "<div>\n<style scoped>\n    .dataframe tbody tr th:only-of-type {\n        vertical-align: middle;\n    }\n\n    .dataframe tbody tr th {\n        vertical-align: top;\n    }\n\n    .dataframe thead th {\n        text-align: right;\n    }\n</style>\n<table border=\"1\" class=\"dataframe\">\n  <thead>\n    <tr style=\"text-align: right;\">\n      <th></th>\n      <th>gender</th>\n      <th>ssc_p</th>\n      <th>ssc_b</th>\n      <th>hsc_p</th>\n      <th>hsc_b</th>\n      <th>hsc_s</th>\n      <th>degree_p</th>\n      <th>degree_t</th>\n      <th>workex</th>\n      <th>etest_p</th>\n      <th>specialisation</th>\n      <th>mba_p</th>\n      <th>salary</th>\n      <th>status</th>\n    </tr>\n  </thead>\n  <tbody>\n    <tr>\n      <th>0</th>\n      <td>M</td>\n      <td>67.00</td>\n      <td>Others</td>\n      <td>91.00</td>\n      <td>Others</td>\n      <td>Commerce</td>\n      <td>58.00</td>\n      <td>Sci&amp;Tech</td>\n      <td>No</td>\n      <td>55.0</td>\n      <td>Mkt&amp;HR</td>\n      <td>58.80</td>\n      <td>270000.0</td>\n      <td>Placed</td>\n    </tr>\n    <tr>\n      <th>1</th>\n      <td>M</td>\n      <td>79.33</td>\n      <td>Central</td>\n      <td>78.33</td>\n      <td>Others</td>\n      <td>Science</td>\n      <td>77.48</td>\n      <td>Sci&amp;Tech</td>\n      <td>Yes</td>\n      <td>86.5</td>\n      <td>Mkt&amp;Fin</td>\n      <td>66.28</td>\n      <td>200000.0</td>\n      <td>Placed</td>\n    </tr>\n    <tr>\n      <th>2</th>\n      <td>M</td>\n      <td>65.00</td>\n      <td>Central</td>\n      <td>68.00</td>\n      <td>Central</td>\n      <td>Arts</td>\n      <td>64.00</td>\n      <td>Comm&amp;Mgmt</td>\n      <td>No</td>\n      <td>75.0</td>\n      <td>Mkt&amp;Fin</td>\n      <td>57.80</td>\n      <td>250000.0</td>\n      <td>Placed</td>\n    </tr>\n    <tr>\n      <th>3</th>\n      <td>M</td>\n      <td>56.00</td>\n      <td>Central</td>\n      <td>52.00</td>\n      <td>Central</td>\n      <td>Science</td>\n      <td>52.00</td>\n      <td>Sci&amp;Tech</td>\n      <td>No</td>\n      <td>66.0</td>\n      <td>Mkt&amp;HR</td>\n      <td>59.43</td>\n      <td>NaN</td>\n      <td>Not Placed</td>\n    </tr>\n    <tr>\n      <th>4</th>\n      <td>M</td>\n      <td>85.80</td>\n      <td>Central</td>\n      <td>73.60</td>\n      <td>Central</td>\n      <td>Commerce</td>\n      <td>73.30</td>\n      <td>Comm&amp;Mgmt</td>\n      <td>No</td>\n      <td>96.8</td>\n      <td>Mkt&amp;Fin</td>\n      <td>55.50</td>\n      <td>425000.0</td>\n      <td>Placed</td>\n    </tr>\n  </tbody>\n</table>\n</div>"
     },
     "execution_count": 4,
     "metadata": {},
     "output_type": "execute_result"
    }
   ],
   "source": [
    "df.head()"
   ]
  },
  {
   "cell_type": "markdown",
   "metadata": {},
   "source": [
    "# Feature descriptions"
   ]
  },
  {
   "cell_type": "markdown",
   "metadata": {},
   "source": [
    "~~`sl_no`: Serial Number~~ **(Dropped)**\n",
    "\n",
    "`gender`: Gender- Male='M',Female='F'\n",
    "\n",
    "`ssc_p`\t: Secondary Education percentage- 10th Grade\n",
    "\n",
    "`ssc_b`\t: Board of Education- Central/ Others\n",
    "\n",
    "`hsc_p` : Higher Secondary Education percentage- 12th Grade\n",
    "\n",
    "`hsc_b`\t: Board of Education- Central/ Others\n",
    "\n",
    "`hsc_s`\t: Specialization in Higher Secondary Education\n",
    "\n",
    "`degree_p`\t: Degree Percentage\n",
    "\n",
    "`degree_t`\t: Under Graduation(Degree type)- Field of degree education\n",
    "\n",
    "`workex`\t: Work Experience\n",
    "\n",
    "`etest_p`\t: Employability test percentage ( conducted by college)\n",
    "\n",
    "`specialisation`\t: Post Graduation(MBA)- Specialization\n",
    "\n",
    "`mba_p`\t: MBA percentage\n",
    "\n",
    "`salary`: Salary offered by corporate to candidates\n",
    "\n",
    "**`status`**\t: **Status of placement- Placed/Not placed (Class)** "
   ]
  },
  {
   "cell_type": "markdown",
   "metadata": {},
   "source": [
    "# Data pre-processing"
   ]
  },
  {
   "cell_type": "markdown",
   "metadata": {},
   "source": [
    "## Filling missing values"
   ]
  },
  {
   "cell_type": "code",
   "execution_count": 5,
   "metadata": {
    "pycharm": {
     "name": "#%%\n"
    }
   },
   "outputs": [
    {
     "data": {
      "text/plain": "gender             0\nssc_p              0\nssc_b              0\nhsc_p              0\nhsc_b              0\nhsc_s              0\ndegree_p           0\ndegree_t           0\nworkex             0\netest_p            0\nspecialisation     0\nmba_p              0\nsalary            67\nstatus             0\ndtype: int64"
     },
     "execution_count": 5,
     "metadata": {},
     "output_type": "execute_result"
    }
   ],
   "source": [
    "df.isna().sum()"
   ]
  },
  {
   "cell_type": "markdown",
   "metadata": {},
   "source": [
    "We can conclude that the feature `salary` has 67 missing values, so we are going to fill them with the mean value for the salary."
   ]
  },
  {
   "cell_type": "code",
   "execution_count": 6,
   "metadata": {
    "pycharm": {
     "name": "#%%\n"
    }
   },
   "outputs": [
    {
     "name": "stdout",
     "output_type": "stream",
     "text": [
      "The mean salary is:288655.4054054054\n"
     ]
    }
   ],
   "source": [
    "mean_salary = df['salary'].mean()\n",
    "print(\"The mean salary is:{}\".format(mean_salary))"
   ]
  },
  {
   "cell_type": "code",
   "execution_count": 7,
   "metadata": {
    "pycharm": {
     "name": "#%%\n"
    }
   },
   "outputs": [],
   "source": [
    "df['salary'] = df['salary'].fillna(mean_salary)"
   ]
  },
  {
   "cell_type": "markdown",
   "metadata": {},
   "source": [
    "After filling the missing values, we can conclude that there are not any missing values, so we can continue with the other tasks of the data pre-processing."
   ]
  },
  {
   "cell_type": "code",
   "execution_count": 8,
   "metadata": {
    "pycharm": {
     "name": "#%%\n"
    }
   },
   "outputs": [
    {
     "data": {
      "text/plain": "gender            0\nssc_p             0\nssc_b             0\nhsc_p             0\nhsc_b             0\nhsc_s             0\ndegree_p          0\ndegree_t          0\nworkex            0\netest_p           0\nspecialisation    0\nmba_p             0\nsalary            0\nstatus            0\ndtype: int64"
     },
     "execution_count": 8,
     "metadata": {},
     "output_type": "execute_result"
    }
   ],
   "source": [
    "df.isna().sum()"
   ]
  },
  {
   "cell_type": "markdown",
   "metadata": {},
   "source": [
    "## Binning"
   ]
  },
  {
   "cell_type": "markdown",
   "metadata": {},
   "source": [
    "## Binning"
   ]
  },
  {
   "cell_type": "markdown",
   "metadata": {},
   "source": [
    "~~`sl_no`: Serial Number~~ **(Dropped)**\n",
    "\n",
    "`gender`: Gender- Male='M',Female='F'\n",
    "\n",
    "`ssc_p`\t: Secondary Education percentage- 10th Grade\n",
    "\n",
    "`ssc_b`\t: Board of Education- Central/ Others\n",
    "\n",
    "`hsc_p` : Higher Secondary Education percentage- 12th Grade\n",
    "\n",
    "`hsc_b`\t: Board of Education- Central/ Others\n",
    "\n",
    "`hsc_s`\t: Specialization in Higher Secondary Education\n",
    "\n",
    "`degree_p`\t: Degree Percentage\n",
    "\n",
    "`degree_t`\t: Under Graduation(Degree type)- Field of degree education\n",
    "\n",
    "`workex`\t: Work Experience\n",
    "\n",
    "`etest_p`\t: Employability test percentage ( conducted by college)\n",
    "\n",
    "`specialisation`\t: Post Graduation(MBA)- Specialization\n",
    "\n",
    "`mba_p`\t: MBA percentage\n",
    "\n",
    "**`status`**\t: **Status of placement- Placed/Not placed (Class)** \n",
    "\n",
    "`salary`: Salary offered by corporate to candidates"
   ]
  },
  {
   "cell_type": "markdown",
   "metadata": {},
   "source": [
    "# Data pre-processing"
   ]
  },
  {
   "cell_type": "markdown",
   "metadata": {},
   "source": [
    "## Filling missing values"
   ]
  },
  {
   "cell_type": "code",
   "execution_count": 9,
   "metadata": {},
   "outputs": [
    {
     "data": {
      "text/plain": "gender            0\nssc_p             0\nssc_b             0\nhsc_p             0\nhsc_b             0\nhsc_s             0\ndegree_p          0\ndegree_t          0\nworkex            0\netest_p           0\nspecialisation    0\nmba_p             0\nsalary            0\nstatus            0\ndtype: int64"
     },
     "execution_count": 9,
     "metadata": {},
     "output_type": "execute_result"
    }
   ],
   "source": [
    "df.isna().sum()"
   ]
  },
  {
   "cell_type": "markdown",
   "metadata": {},
   "source": [
    "We can conclude that the feature `salary` has 67 missing values, so we are going to fill them with the mean value for the salary."
   ]
  },
  {
   "cell_type": "code",
   "execution_count": 10,
   "metadata": {},
   "outputs": [
    {
     "name": "stdout",
     "output_type": "stream",
     "text": [
      "The mean salary is:288655.40540540544\n"
     ]
    }
   ],
   "source": [
    "mean_salary = df['salary'].mean()\n",
    "print(\"The mean salary is:{}\".format(mean_salary))"
   ]
  },
  {
   "cell_type": "code",
   "execution_count": 11,
   "metadata": {},
   "outputs": [],
   "source": [
    "df['salary'] = df['salary'].fillna(mean_salary)"
   ]
  },
  {
   "cell_type": "markdown",
   "metadata": {},
   "source": [
    "After filling the missing values, we can conclude that there are not any missing values, so we can continue with the other tasks of the data pre-processing."
   ]
  },
  {
   "cell_type": "code",
   "execution_count": 12,
   "metadata": {},
   "outputs": [
    {
     "data": {
      "text/plain": "gender            0\nssc_p             0\nssc_b             0\nhsc_p             0\nhsc_b             0\nhsc_s             0\ndegree_p          0\ndegree_t          0\nworkex            0\netest_p           0\nspecialisation    0\nmba_p             0\nsalary            0\nstatus            0\ndtype: int64"
     },
     "execution_count": 12,
     "metadata": {},
     "output_type": "execute_result"
    }
   ],
   "source": [
    "df.isna().sum()"
   ]
  },
  {
   "cell_type": "markdown",
   "metadata": {},
   "source": [
    "## Binning"
   ]
  },
  {
   "cell_type": "markdown",
   "metadata": {},
   "source": [
    "Do the binning later if needed"
   ]
  },
  {
   "cell_type": "markdown",
   "metadata": {},
   "source": [
    "# Data analysis"
   ]
  },
  {
   "cell_type": "code",
   "execution_count": 13,
   "metadata": {},
   "outputs": [
    {
     "data": {
      "text/plain": "<matplotlib.axes._subplots.AxesSubplot at 0x265fac54460>"
     },
     "execution_count": 13,
     "metadata": {},
     "output_type": "execute_result"
    },
    {
     "data": {
      "text/plain": "<Figure size 432x288 with 1 Axes>",
      "image/png": "[encoded data removed]"
     },
     "metadata": {},
     "output_type": "display_data"
    }
   ],
   "source": [
    "sns.set(style=\"darkgrid\")\n",
    "sns.countplot(x=\"hsc_s\", hue=\"status\", data=df)"
   ]
  }
 ],
 "metadata": {
  "kernelspec": {
   "display_name": "Python 3",
   "language": "python",
   "name": "python3"
  },
  "language_info": {
   "codemirror_mode": {
    "name": "ipython",
    "version": 3
   },
   "file_extension": ".py",
   "mimetype": "text/x-python",
   "name": "python",
   "nbconvert_exporter": "python",
   "pygments_lexer": "ipython3",
   "version": "3.8.2"
  }
 },
 "nbformat": 4,
 "nbformat_minor": 4
}