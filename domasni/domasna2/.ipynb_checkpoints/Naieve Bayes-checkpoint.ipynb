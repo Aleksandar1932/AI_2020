{
 "cells": [
  {
   "cell_type": "code",
   "execution_count": 2,
   "metadata": {},
   "outputs": [],
   "source": [
    "import pandas as pd\n",
    "from sklearn.naive_bayes import CategoricalNB\n",
    "from sklearn.preprocessing import OrdinalEncoder"
   ]
  },
  {
   "cell_type": "markdown",
   "metadata": {},
   "source": [
    "<h3>Вчитување и приказ на податочното множество</h3>"
   ]
  },
  {
   "cell_type": "code",
   "execution_count": 3,
   "metadata": {},
   "outputs": [],
   "source": [
    "dataset = pd.read_csv('dataset.csv')"
   ]
  },
  {
   "cell_type": "code",
   "execution_count": 5,
   "metadata": {},
   "outputs": [
    {
     "data": {
      "text/html": [
       "<div>\n",
       "<style scoped>\n",
       "    .dataframe tbody tr th:only-of-type {\n",
       "        vertical-align: middle;\n",
       "    }\n",
       "\n",
       "    .dataframe tbody tr th {\n",
       "        vertical-align: top;\n",
       "    }\n",
       "\n",
       "    .dataframe thead th {\n",
       "        text-align: right;\n",
       "    }\n",
       "</style>\n",
       "<table border=\"1\" class=\"dataframe\">\n",
       "  <thead>\n",
       "    <tr style=\"text-align: right;\">\n",
       "      <th></th>\n",
       "      <th>Grad</th>\n",
       "      <th>DenNok</th>\n",
       "      <th>ItenPovik</th>\n",
       "      <th>Opasnost</th>\n",
       "    </tr>\n",
       "  </thead>\n",
       "  <tbody>\n",
       "    <tr>\n",
       "      <th>0</th>\n",
       "      <td>ne</td>\n",
       "      <td>nok</td>\n",
       "      <td>ne</td>\n",
       "      <td>Visoka</td>\n",
       "    </tr>\n",
       "    <tr>\n",
       "      <th>1</th>\n",
       "      <td>ne</td>\n",
       "      <td>nok</td>\n",
       "      <td>da</td>\n",
       "      <td>Visoka</td>\n",
       "    </tr>\n",
       "    <tr>\n",
       "      <th>2</th>\n",
       "      <td>ne</td>\n",
       "      <td>nok</td>\n",
       "      <td>da</td>\n",
       "      <td>Niska</td>\n",
       "    </tr>\n",
       "    <tr>\n",
       "      <th>3</th>\n",
       "      <td>ne</td>\n",
       "      <td>den</td>\n",
       "      <td>ne</td>\n",
       "      <td>Niska</td>\n",
       "    </tr>\n",
       "    <tr>\n",
       "      <th>4</th>\n",
       "      <td>ne</td>\n",
       "      <td>den</td>\n",
       "      <td>ne</td>\n",
       "      <td>Niska</td>\n",
       "    </tr>\n",
       "    <tr>\n",
       "      <th>5</th>\n",
       "      <td>da</td>\n",
       "      <td>nok</td>\n",
       "      <td>ne</td>\n",
       "      <td>Visoka</td>\n",
       "    </tr>\n",
       "    <tr>\n",
       "      <th>6</th>\n",
       "      <td>da</td>\n",
       "      <td>nok</td>\n",
       "      <td>ne</td>\n",
       "      <td>Visoka</td>\n",
       "    </tr>\n",
       "    <tr>\n",
       "      <th>7</th>\n",
       "      <td>da</td>\n",
       "      <td>den</td>\n",
       "      <td>da</td>\n",
       "      <td>Niska</td>\n",
       "    </tr>\n",
       "    <tr>\n",
       "      <th>8</th>\n",
       "      <td>da</td>\n",
       "      <td>den</td>\n",
       "      <td>da</td>\n",
       "      <td>Niska</td>\n",
       "    </tr>\n",
       "    <tr>\n",
       "      <th>9</th>\n",
       "      <td>da</td>\n",
       "      <td>den</td>\n",
       "      <td>da</td>\n",
       "      <td>Visoka</td>\n",
       "    </tr>\n",
       "  </tbody>\n",
       "</table>\n",
       "</div>"
      ],
      "text/plain": [
       "  Grad DenNok ItenPovik Opasnost\n",
       "0   ne    nok        ne   Visoka\n",
       "1   ne    nok        da   Visoka\n",
       "2   ne    nok        da    Niska\n",
       "3   ne    den        ne    Niska\n",
       "4   ne    den        ne    Niska\n",
       "5   da    nok        ne   Visoka\n",
       "6   da    nok        ne   Visoka\n",
       "7   da    den        da    Niska\n",
       "8   da    den        da    Niska\n",
       "9   da    den        da   Visoka"
      ]
     },
     "execution_count": 5,
     "metadata": {},
     "output_type": "execute_result"
    }
   ],
   "source": [
    "dataset"
   ]
  },
  {
   "cell_type": "markdown",
   "metadata": {},
   "source": [
    "<h3>Иницијализација и тренирање на Наивен Баесов класификатор од sklearn модулот</h3>"
   ]
  },
  {
   "cell_type": "code",
   "execution_count": 9,
   "metadata": {},
   "outputs": [
    {
     "data": {
      "text/plain": [
       "CategoricalNB(alpha=2.0, class_prior=None, fit_prior=True)"
      ]
     },
     "execution_count": 9,
     "metadata": {},
     "output_type": "execute_result"
    }
   ],
   "source": [
    "dataset_list = dataset.values.tolist()\n",
    "train_x = [row[:-1] for row in dataset_list]\n",
    "train_y = [row[-1] for row in dataset_list]\n",
    "\n",
    "encoder = OrdinalEncoder()\n",
    "encoder.fit(train_x)\n",
    "\n",
    "train_x = encoder.transform(train_x)\n",
    "\n",
    "clf = CategoricalNB(alpha=2.0)\n",
    "clf.fit(train_x, train_y)"
   ]
  },
  {
   "cell_type": "markdown",
   "metadata": {},
   "source": [
    "<h3>Предикција на примерок</h3>"
   ]
  },
  {
   "cell_type": "code",
   "execution_count": 14,
   "metadata": {},
   "outputs": [],
   "source": [
    "case1 = ['ne','den','da']\n",
    "case1 = encoder.transform([case1])"
   ]
  },
  {
   "cell_type": "markdown",
   "metadata": {},
   "source": [
    "<p>Пресметка на веројатностите за припадност во класите на нашиот примерок</p>"
   ]
  },
  {
   "cell_type": "code",
   "execution_count": 21,
   "metadata": {},
   "outputs": [
    {
     "data": {
      "text/html": [
       "<style  type=\"text/css\" >\n",
       "</style><table id=\"T_f11fd676_9a93_11ea_8211_697f4556286d\" ><caption>P(Opasnost | Case1)</caption><thead>    <tr>        <th class=\"blank level0\" ></th>        <th class=\"col_heading level0 col0\" >Niska</th>        <th class=\"col_heading level0 col1\" >Visoka</th>    </tr></thead><tbody>\n",
       "                <tr>\n",
       "                        <th id=\"T_f11fd676_9a93_11ea_8211_697f4556286dlevel0_row0\" class=\"row_heading level0 row0\" >0</th>\n",
       "                        <td id=\"T_f11fd676_9a93_11ea_8211_697f4556286drow0_col0\" class=\"data row0 col0\" >0.757576</td>\n",
       "                        <td id=\"T_f11fd676_9a93_11ea_8211_697f4556286drow0_col1\" class=\"data row0 col1\" >0.242424</td>\n",
       "            </tr>\n",
       "    </tbody></table>"
      ],
      "text/plain": [
       "<pandas.io.formats.style.Styler at 0x7f7b33d603d0>"
      ]
     },
     "execution_count": 21,
     "metadata": {},
     "output_type": "execute_result"
    }
   ],
   "source": [
    "pd.DataFrame(clf.predict_proba(case1), columns=clf.classes_).style.set_caption(\"P(Opasnost | Case1)\")"
   ]
  },
  {
   "cell_type": "markdown",
   "metadata": {},
   "source": [
    "<p>Расудување според Наивен Баесов класификатор за класната припадност на примерокот</p>"
   ]
  },
  {
   "cell_type": "code",
   "execution_count": 19,
   "metadata": {},
   "outputs": [
    {
     "data": {
      "text/plain": [
       "'Niska'"
      ]
     },
     "execution_count": 19,
     "metadata": {},
     "output_type": "execute_result"
    }
   ],
   "source": [
    "clf.predict(case1)[0]"
   ]
  }
 ],
 "metadata": {
  "kernelspec": {
   "display_name": "Python 3",
   "language": "python",
   "name": "python3"
  },
  "language_info": {
   "codemirror_mode": {
    "name": "ipython",
    "version": 3
   },
   "file_extension": ".py",
   "mimetype": "text/x-python",
   "name": "python",
   "nbconvert_exporter": "python",
   "pygments_lexer": "ipython3",
   "version": "3.7.7"
  }
 },
 "nbformat": 4,
 "nbformat_minor": 4
}
